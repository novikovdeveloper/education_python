{
 "cells": [
  {
   "cell_type": "code",
   "execution_count": 1,
   "id": "d1804df0",
   "metadata": {},
   "outputs": [
    {
     "data": {
      "text/plain": [
       "'C:\\\\Users\\\\Denis\\\\JupyterRoot'"
      ]
     },
     "execution_count": 1,
     "metadata": {},
     "output_type": "execute_result"
    }
   ],
   "source": [
    "pwd"
   ]
  },
  {
   "cell_type": "code",
   "execution_count": 2,
   "id": "e0ccab19",
   "metadata": {},
   "outputs": [
    {
     "name": "stdout",
     "output_type": "stream",
     "text": [
      "Overwriting sample.txt\n"
     ]
    }
   ],
   "source": [
    "%%writefile sample.txt                                 \n",
    "Name | Phone \n",
    "John ; 1234\n",
    "Bob ; 5678\n",
    "Alice ; 9432"
   ]
  },
  {
   "cell_type": "code",
   "execution_count": 3,
   "id": "2a6b33dd",
   "metadata": {},
   "outputs": [
    {
     "data": {
      "text/plain": [
       "<_io.TextIOWrapper name='sample.txt' mode='r' encoding='cp1251'>"
      ]
     },
     "execution_count": 3,
     "metadata": {},
     "output_type": "execute_result"
    }
   ],
   "source": [
    "file = open(\"sample.txt\") #открыли файл\n",
    "file"
   ]
  },
  {
   "cell_type": "code",
   "execution_count": 4,
   "id": "d7163a4d",
   "metadata": {},
   "outputs": [
    {
     "data": {
      "text/plain": [
       "'Name | Phone \\nJohn ; 1234\\nBob ; 5678\\nAlice ; 9432\\n'"
      ]
     },
     "execution_count": 4,
     "metadata": {},
     "output_type": "execute_result"
    }
   ],
   "source": [
    "data = file.read()\n",
    "data"
   ]
  },
  {
   "cell_type": "code",
   "execution_count": 5,
   "id": "8e913181",
   "metadata": {},
   "outputs": [
    {
     "data": {
      "text/plain": [
       "<_io.TextIOWrapper name='sample.txt' mode='r' encoding='cp1251'>"
      ]
     },
     "execution_count": 5,
     "metadata": {},
     "output_type": "execute_result"
    }
   ],
   "source": [
    "file = open(\"sample.txt\") #открыли файл и запихнули в переменную\n",
    "file"
   ]
  },
  {
   "cell_type": "code",
   "execution_count": 6,
   "id": "15c4aaaa",
   "metadata": {},
   "outputs": [
    {
     "data": {
      "text/plain": [
       "'Name | Phone \\nJohn ; 1234\\nBob ; 5678\\nAlice ; 9432\\n'"
      ]
     },
     "execution_count": 6,
     "metadata": {},
     "output_type": "execute_result"
    }
   ],
   "source": [
    "data = file.read() #прочли файл и запихнули в переменную\n",
    "data"
   ]
  },
  {
   "cell_type": "code",
   "execution_count": 7,
   "id": "572a8300",
   "metadata": {},
   "outputs": [
    {
     "name": "stdout",
     "output_type": "stream",
     "text": [
      "data\n"
     ]
    }
   ],
   "source": [
    "print(\"data\")"
   ]
  },
  {
   "cell_type": "code",
   "execution_count": 8,
   "id": "5f029f32",
   "metadata": {},
   "outputs": [
    {
     "name": "stdout",
     "output_type": "stream",
     "text": [
      "data\n"
     ]
    }
   ],
   "source": [
    "print(\"data\")"
   ]
  },
  {
   "cell_type": "code",
   "execution_count": 9,
   "id": "3ebf023a",
   "metadata": {},
   "outputs": [
    {
     "data": {
      "text/plain": [
       "''"
      ]
     },
     "execution_count": 9,
     "metadata": {},
     "output_type": "execute_result"
    }
   ],
   "source": [
    "data = file.read() #прочли файл и запихнули в переменную\n",
    "data"
   ]
  },
  {
   "cell_type": "code",
   "execution_count": 10,
   "id": "a980c8bf",
   "metadata": {},
   "outputs": [
    {
     "data": {
      "text/plain": [
       "<_io.TextIOWrapper name='sample.txt' mode='r' encoding='cp1251'>"
      ]
     },
     "execution_count": 10,
     "metadata": {},
     "output_type": "execute_result"
    }
   ],
   "source": [
    "file = open(\"sample.txt\") #открыли файл и запихнули в переменную\n",
    "file"
   ]
  },
  {
   "cell_type": "code",
   "execution_count": 11,
   "id": "b61f331c",
   "metadata": {},
   "outputs": [
    {
     "name": "stdout",
     "output_type": "stream",
     "text": [
      "<class 'str'>\n",
      "Name | Phone \n",
      "John ; 1234\n",
      "Bob ; 5678\n",
      "Alice ; 9432\n",
      "\n"
     ]
    }
   ],
   "source": [
    "data = file.read() #прочли файл и запихнули в переменную\n",
    "print(type(data))\n",
    "print(data)"
   ]
  },
  {
   "cell_type": "code",
   "execution_count": 12,
   "id": "54754b4c",
   "metadata": {},
   "outputs": [
    {
     "name": "stdout",
     "output_type": "stream",
     "text": [
      "data\n"
     ]
    }
   ],
   "source": [
    "print(\"data\")"
   ]
  },
  {
   "cell_type": "code",
   "execution_count": 13,
   "id": "8da1cf66",
   "metadata": {},
   "outputs": [
    {
     "name": "stdout",
     "output_type": "stream",
     "text": [
      "Name | Phone \n",
      "John ; 1234\n",
      "Bob ; 5678\n",
      "Alice ; 9432\n",
      "\n"
     ]
    }
   ],
   "source": [
    "print(data)"
   ]
  },
  {
   "cell_type": "code",
   "execution_count": 14,
   "id": "929b9c94",
   "metadata": {},
   "outputs": [
    {
     "name": "stdout",
     "output_type": "stream",
     "text": [
      "\n"
     ]
    }
   ],
   "source": [
    "print(file.read())"
   ]
  },
  {
   "cell_type": "code",
   "execution_count": 15,
   "id": "239ec6c8",
   "metadata": {},
   "outputs": [
    {
     "name": "stdout",
     "output_type": "stream",
     "text": [
      "Name | Phone \n",
      "John ; 1234\n",
      "Bob ; 5678\n",
      "Alice ; 9432\n",
      "\n"
     ]
    }
   ],
   "source": [
    "file.seek(0)     #функция для управления чтения файла с определенного места (число= начало курсора и чтения)\n",
    "print(file.read())"
   ]
  },
  {
   "cell_type": "code",
   "execution_count": 16,
   "id": "3eb57992",
   "metadata": {},
   "outputs": [
    {
     "data": {
      "text/plain": [
       "0"
      ]
     },
     "execution_count": 16,
     "metadata": {},
     "output_type": "execute_result"
    }
   ],
   "source": [
    "file.seek(0)"
   ]
  },
  {
   "cell_type": "code",
   "execution_count": 17,
   "id": "c3682bef",
   "metadata": {},
   "outputs": [
    {
     "name": "stdout",
     "output_type": "stream",
     "text": [
      "<class 'list'>\n",
      "['Name | Phone \\n', 'John ; 1234\\n', 'Bob ; 5678\\n', 'Alice ; 9432\\n']\n"
     ]
    }
   ],
   "source": [
    "lines = file.readlines() #функция позволяет получить список в виде строк в файле\n",
    "print(type(lines))\n",
    "print(lines)"
   ]
  },
  {
   "cell_type": "code",
   "execution_count": 18,
   "id": "0732813b",
   "metadata": {},
   "outputs": [
    {
     "data": {
      "text/plain": [
       "4"
      ]
     },
     "execution_count": 18,
     "metadata": {},
     "output_type": "execute_result"
    }
   ],
   "source": [
    "len(lines)"
   ]
  },
  {
   "cell_type": "code",
   "execution_count": 19,
   "id": "71766d2d",
   "metadata": {},
   "outputs": [],
   "source": [
    "sample_file = open(r\"C:\\Users\\Denis\\JupyterRoot\\sample.txt\") # r-экранирует обратный \\ имитируем нах. в другой директории\n",
    "\n",
    "# также может открыть файл двойными слешами open(\"C\\\\Users\\\\Denis\\\\JupyterRoot\\\\sample.txt\")\n",
    "# на линухе можно иначе open(\\Users\\Denis\\JupyterRoot\\sample.txt\")"
   ]
  },
  {
   "cell_type": "code",
   "execution_count": 20,
   "id": "cdab2d2e",
   "metadata": {},
   "outputs": [],
   "source": [
    "file.close() #закрываем файл\n",
    "sample_file.close() #Закрываем в переменной"
   ]
  },
  {
   "cell_type": "code",
   "execution_count": 21,
   "id": "280f4532",
   "metadata": {},
   "outputs": [
    {
     "name": "stdout",
     "output_type": "stream",
     "text": [
      "True\n",
      "True\n"
     ]
    }
   ],
   "source": [
    "print(file.closed) # проверяем через closed 2 файла на закрытие\n",
    "print(sample_file.closed)"
   ]
  },
  {
   "cell_type": "code",
   "execution_count": 22,
   "id": "3e11c6f7",
   "metadata": {},
   "outputs": [],
   "source": [
    "with open(\"sample.txt\") as sample_file: #в данной конструкции, файл будет открыт, прочтен и закрыт автоматически\n",
    "    sample_data = sample_file.read()"
   ]
  },
  {
   "cell_type": "code",
   "execution_count": 23,
   "id": "1cb67172",
   "metadata": {},
   "outputs": [
    {
     "name": "stdout",
     "output_type": "stream",
     "text": [
      "Name | Phone \n",
      "John ; 1234\n",
      "Bob ; 5678\n",
      "Alice ; 9432\n",
      "\n"
     ]
    }
   ],
   "source": [
    "print(sample_data)"
   ]
  },
  {
   "cell_type": "code",
   "execution_count": 24,
   "id": "fb68073f",
   "metadata": {},
   "outputs": [],
   "source": [
    "#with open(\"sample.txt\", mode = \"w\") as sample_file:\n",
    "#   data = sample_file.read()\n"
   ]
  },
  {
   "cell_type": "code",
   "execution_count": 25,
   "id": "41f9bf74",
   "metadata": {},
   "outputs": [],
   "source": [
    "with open(\"sample.txt\", mode = \"a\") as sample_file:\n",
    "    sample_file.write(\"Erich ; 7639\")"
   ]
  },
  {
   "cell_type": "code",
   "execution_count": 26,
   "id": "2bd5405a",
   "metadata": {},
   "outputs": [
    {
     "name": "stdout",
     "output_type": "stream",
     "text": [
      "Name | Phone \n",
      "John ; 1234\n",
      "Bob ; 5678\n",
      "Alice ; 9432\n",
      "Erich ; 7639\n"
     ]
    }
   ],
   "source": [
    "with open(\"sample.txt\", mode = \"r\") as sample_file:\n",
    "      print(sample_file.read())"
   ]
  },
  {
   "cell_type": "code",
   "execution_count": 27,
   "id": "223f1af1",
   "metadata": {},
   "outputs": [
    {
     "name": "stdout",
     "output_type": "stream",
     "text": [
      "Name | Phone \n",
      "John ; 1234\n",
      "Bob ; 5678\n",
      "Alice ; 9432\n",
      "Erich ; 7639\n",
      "Toub ; 5627\n"
     ]
    }
   ],
   "source": [
    "with open(\"sample.txt\", mode = \"r+\") as sample_file:\n",
    "    sample_file.seek(0, 2) #вызвали метод seek для перевода курсора в конец списка\n",
    "    sample_file.write(\"\\nToub ; 5627\") #записали в файл\n",
    "    sample_file.seek(0) # 0 - нулевой байт с начала файла (перевод курсора)\n",
    "    print(sample_file.read())"
   ]
  },
  {
   "cell_type": "code",
   "execution_count": 28,
   "id": "e2757a5d",
   "metadata": {},
   "outputs": [
    {
     "name": "stdout",
     "output_type": "stream",
     "text": [
      "<built-in method read of _io.TextIOWrapper object at 0x0000020CE8639BA0>\n"
     ]
    }
   ],
   "source": [
    "with open(\"abracadabra.txt\", mode = \"w+\") as spell_file:\n",
    "    spell_file.write(\"abra-abra-abra-cadabra\")\n",
    "    spell_file.seek(0)\n",
    "    print(spell_file.read)"
   ]
  },
  {
   "cell_type": "code",
   "execution_count": 29,
   "id": "8ac1e27f",
   "metadata": {},
   "outputs": [
    {
     "name": "stdout",
     "output_type": "stream",
     "text": [
      "<built-in method read of _io.TextIOWrapper object at 0x0000020CE8639BA0>\n"
     ]
    }
   ],
   "source": [
    "    print(spell_file.read)"
   ]
  },
  {
   "cell_type": "code",
   "execution_count": 31,
   "id": "9abf1f37",
   "metadata": {},
   "outputs": [
    {
     "ename": "TypeError",
     "evalue": "argument should be integer or None, not 'str'",
     "output_type": "error",
     "traceback": [
      "\u001b[1;31m---------------------------------------------------------------------------\u001b[0m",
      "\u001b[1;31mTypeError\u001b[0m                                 Traceback (most recent call last)",
      "\u001b[1;32m<ipython-input-31-5953430e8cc8>\u001b[0m in \u001b[0;36m<module>\u001b[1;34m\u001b[0m\n\u001b[0;32m      1\u001b[0m \u001b[1;32mwith\u001b[0m \u001b[0mopen\u001b[0m\u001b[1;33m(\u001b[0m\u001b[1;34m\"abracadabra.txt\"\u001b[0m\u001b[1;33m,\u001b[0m \u001b[0mmode\u001b[0m \u001b[1;33m=\u001b[0m \u001b[1;34m\"r+\"\u001b[0m\u001b[1;33m)\u001b[0m \u001b[1;32mas\u001b[0m \u001b[0mspell_file\u001b[0m\u001b[1;33m:\u001b[0m\u001b[1;33m\u001b[0m\u001b[1;33m\u001b[0m\u001b[0m\n\u001b[1;32m----> 2\u001b[1;33m     \u001b[0mspell_file\u001b[0m\u001b[1;33m.\u001b[0m\u001b[0mread\u001b[0m\u001b[1;33m(\u001b[0m\u001b[1;34m\"abra-abra-abra-cadabra\"\u001b[0m\u001b[1;33m)\u001b[0m\u001b[1;33m\u001b[0m\u001b[1;33m\u001b[0m\u001b[0m\n\u001b[0m\u001b[0;32m      3\u001b[0m     \u001b[0mspell_file\u001b[0m\u001b[1;33m.\u001b[0m\u001b[0mseek\u001b[0m\u001b[1;33m(\u001b[0m\u001b[1;36m0\u001b[0m\u001b[1;33m)\u001b[0m\u001b[1;33m\u001b[0m\u001b[1;33m\u001b[0m\u001b[0m\n\u001b[0;32m      4\u001b[0m     \u001b[0mprint\u001b[0m\u001b[1;33m(\u001b[0m\u001b[0mspell_file\u001b[0m\u001b[1;33m.\u001b[0m\u001b[0mread\u001b[0m\u001b[1;33m)\u001b[0m\u001b[1;33m\u001b[0m\u001b[1;33m\u001b[0m\u001b[0m\n",
      "\u001b[1;31mTypeError\u001b[0m: argument should be integer or None, not 'str'"
     ]
    }
   ],
   "source": [
    "with open(\"abracadabra.txt\", mode = \"r+\") as spell_file:\n",
    "    spell_file.read(\"abra-abra-abra-cadabra\")\n",
    "    spell_file.seek(0)\n",
    "    print(spell_file.read)"
   ]
  },
  {
   "cell_type": "code",
   "execution_count": 32,
   "id": "5c00f014",
   "metadata": {},
   "outputs": [
    {
     "name": "stdout",
     "output_type": "stream",
     "text": [
      "abra-abra-abra-cadabra\n"
     ]
    }
   ],
   "source": [
    "with open(\"abracadabra.txt\", mode = \"w+\") as spell_file:\n",
    "    spell_file.write(\"abra-abra-abra-cadabra\")\n",
    "    spell_file.seek(0)\n",
    "    print(spell_file.read())"
   ]
  },
  {
   "cell_type": "code",
   "execution_count": null,
   "id": "8e0da460",
   "metadata": {},
   "outputs": [],
   "source": []
  }
 ],
 "metadata": {
  "kernelspec": {
   "display_name": "Python 3",
   "language": "python",
   "name": "python3"
  },
  "language_info": {
   "codemirror_mode": {
    "name": "ipython",
    "version": 3
   },
   "file_extension": ".py",
   "mimetype": "text/x-python",
   "name": "python",
   "nbconvert_exporter": "python",
   "pygments_lexer": "ipython3",
   "version": "3.8.8"
  }
 },
 "nbformat": 4,
 "nbformat_minor": 5
}
