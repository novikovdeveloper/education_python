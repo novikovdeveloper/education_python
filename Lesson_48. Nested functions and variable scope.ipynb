{
 "cells": [
  {
   "cell_type": "code",
   "execution_count": 2,
   "id": "c7897853",
   "metadata": {},
   "outputs": [],
   "source": [
    "greeting = 'Hello from global scope' \n",
    "\n",
    "def greet():\n",
    "    greeting = 'Hello from enclosing scope'\n",
    "    \n",
    "    def nested():\n",
    "        greeting = 'Hello from local scope'\n",
    "        print(greeting)    \n",
    "    nested()"
   ]
  },
  {
   "cell_type": "code",
   "execution_count": 3,
   "id": "824cfa28",
   "metadata": {},
   "outputs": [
    {
     "name": "stdout",
     "output_type": "stream",
     "text": [
      "Hello from local scope\n",
      "Hello from global scope\n"
     ]
    }
   ],
   "source": [
    "greet()\n",
    "print(greeting)"
   ]
  },
  {
   "cell_type": "code",
   "execution_count": 4,
   "id": "46113571",
   "metadata": {},
   "outputs": [],
   "source": [
    "greeting = 'Hello from the global scope'\n",
    "\n",
    "def greet(greeting):\n",
    "    print(f'Greet in func:{greeting}')\n",
    "    \n",
    "    greeting = 'Hello from enclosing scope'\n",
    "    print(f'Greet in func:{greeting}')\n",
    "    \n",
    "    def nested():\n",
    "        greeting = 'Hello from local scope'\n",
    "        print(greeting)\n",
    "    nested()"
   ]
  },
  {
   "cell_type": "code",
   "execution_count": 5,
   "id": "6ae1611c",
   "metadata": {},
   "outputs": [
    {
     "name": "stdout",
     "output_type": "stream",
     "text": [
      "Greet in func:test\n",
      "Greet in func:Hello from enclosing scope\n",
      "Hello from local scope\n",
      "Hello from the global scope\n"
     ]
    }
   ],
   "source": [
    "greet('test')\n",
    "print(greeting)"
   ]
  },
  {
   "cell_type": "code",
   "execution_count": 11,
   "id": "3bc7edc0",
   "metadata": {},
   "outputs": [
    {
     "ename": "SyntaxError",
     "evalue": "name 'greeting' is parameter and global (<ipython-input-11-5152c7f3bb8c>, line 4)",
     "output_type": "error",
     "traceback": [
      "\u001b[1;36m  File \u001b[1;32m\"<ipython-input-11-5152c7f3bb8c>\"\u001b[1;36m, line \u001b[1;32m4\u001b[0m\n\u001b[1;33m    global greeting                    #переназначим самый первый greeting с помощью global\u001b[0m\n\u001b[1;37m    ^\u001b[0m\n\u001b[1;31mSyntaxError\u001b[0m\u001b[1;31m:\u001b[0m name 'greeting' is parameter and global\n"
     ]
    }
   ],
   "source": [
    "greeting = 'Hello from the global scope'\n",
    "\n",
    "def greet(greeting):\n",
    "    global greeting                    #переназначим самый первый greeting с помощью global \n",
    "    print(f'Greet in func:{greeting}')\n",
    "    \n",
    "    greeting = 'Hello from enclosing scope'\n",
    "    print(f'Greet in func:{greeting}')\n",
    "    \n",
    "    def nested():\n",
    "        greeting = 'Hello from local scope'\n",
    "        print(greeting)\n",
    "    nested()"
   ]
  },
  {
   "cell_type": "code",
   "execution_count": 10,
   "id": "594b2a94",
   "metadata": {},
   "outputs": [
    {
     "ename": "TypeError",
     "evalue": "greet() missing 1 required positional argument: 'greeting'",
     "output_type": "error",
     "traceback": [
      "\u001b[1;31m---------------------------------------------------------------------------\u001b[0m",
      "\u001b[1;31mTypeError\u001b[0m                                 Traceback (most recent call last)",
      "\u001b[1;32m<ipython-input-10-d2213f335050>\u001b[0m in \u001b[0;36m<module>\u001b[1;34m\u001b[0m\n\u001b[1;32m----> 1\u001b[1;33m \u001b[0mgreet\u001b[0m\u001b[1;33m(\u001b[0m\u001b[1;33m)\u001b[0m\u001b[1;33m\u001b[0m\u001b[1;33m\u001b[0m\u001b[0m\n\u001b[0m\u001b[0;32m      2\u001b[0m \u001b[0mprint\u001b[0m\u001b[1;33m(\u001b[0m\u001b[0mgreeting\u001b[0m\u001b[1;33m)\u001b[0m\u001b[1;33m\u001b[0m\u001b[1;33m\u001b[0m\u001b[0m\n",
      "\u001b[1;31mTypeError\u001b[0m: greet() missing 1 required positional argument: 'greeting'"
     ]
    }
   ],
   "source": [
    "greet()\n",
    "print(greeting)"
   ]
  },
  {
   "cell_type": "code",
   "execution_count": null,
   "id": "9dcde290",
   "metadata": {},
   "outputs": [],
   "source": []
  }
 ],
 "metadata": {
  "kernelspec": {
   "display_name": "Python 3",
   "language": "python",
   "name": "python3"
  },
  "language_info": {
   "codemirror_mode": {
    "name": "ipython",
    "version": 3
   },
   "file_extension": ".py",
   "mimetype": "text/x-python",
   "name": "python",
   "nbconvert_exporter": "python",
   "pygments_lexer": "ipython3",
   "version": "3.8.8"
  }
 },
 "nbformat": 4,
 "nbformat_minor": 5
}
