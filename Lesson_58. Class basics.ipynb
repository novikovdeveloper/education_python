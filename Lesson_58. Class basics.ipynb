{
 "cells": [
  {
   "cell_type": "code",
   "execution_count": 1,
   "id": "6e7de679",
   "metadata": {},
   "outputs": [
    {
     "data": {
      "text/plain": [
       "list"
      ]
     },
     "execution_count": 1,
     "metadata": {},
     "output_type": "execute_result"
    }
   ],
   "source": [
    "numbers = [1,2,3]\n",
    "type(numbers)"
   ]
  },
  {
   "cell_type": "code",
   "execution_count": 5,
   "id": "87ad16fd",
   "metadata": {},
   "outputs": [],
   "source": [
    "class Character():\n",
    "    #pass              #pass- ничего не реализовываем внутри класса\n",
    "    \n",
    "    def __init__(self, actual_race):           #__хрень нейм__ - конструктор с аргументами(self-ссылка на экземпляр)\n",
    "        self.Character_race = actual_race      #в правой части-аргумент, в левой-обьявление переменной на уровне обьекта класса"
   ]
  },
  {
   "cell_type": "code",
   "execution_count": 7,
   "id": "e7127a21",
   "metadata": {},
   "outputs": [
    {
     "data": {
      "text/plain": [
       "__main__.Character"
      ]
     },
     "execution_count": 7,
     "metadata": {},
     "output_type": "execute_result"
    }
   ],
   "source": [
    "unit = Character('Elf')    #создали экземпляр класса\n",
    "type(unit)"
   ]
  },
  {
   "cell_type": "code",
   "execution_count": 9,
   "id": "ff47db9b",
   "metadata": {},
   "outputs": [
    {
     "data": {
      "text/plain": [
       "'Elf'"
      ]
     },
     "execution_count": 9,
     "metadata": {},
     "output_type": "execute_result"
    }
   ],
   "source": [
    "unit.Character_race       #в Character_race будет записано то что мы передали в конструктор"
   ]
  },
  {
   "cell_type": "code",
   "execution_count": 13,
   "id": "a00f72b8",
   "metadata": {},
   "outputs": [],
   "source": [
    "class Character():\n",
    "    \n",
    "    def __init__(self,race, damage = 10, armor = 20):           \n",
    "        self.race = race  \n",
    "        self.damage = damage\n",
    "        self.armor = armor "
   ]
  },
  {
   "cell_type": "code",
   "execution_count": 14,
   "id": "56e48df7",
   "metadata": {},
   "outputs": [
    {
     "data": {
      "text/plain": [
       "__main__.Character"
      ]
     },
     "execution_count": 14,
     "metadata": {},
     "output_type": "execute_result"
    }
   ],
   "source": [
    "#можем записыват и переопределять значения на какие хотим(можем удалить слова damage и armor)\n",
    "unit = Character('Elf', damage = 20, armor = 40)   \n",
    "type(unit)"
   ]
  },
  {
   "cell_type": "code",
   "execution_count": 15,
   "id": "5c0885b0",
   "metadata": {},
   "outputs": [
    {
     "data": {
      "text/plain": [
       "'Elf'"
      ]
     },
     "execution_count": 15,
     "metadata": {},
     "output_type": "execute_result"
    }
   ],
   "source": [
    "unit.race     "
   ]
  },
  {
   "cell_type": "code",
   "execution_count": 17,
   "id": "5940dfbf",
   "metadata": {},
   "outputs": [
    {
     "name": "stdout",
     "output_type": "stream",
     "text": [
      "Elf\n",
      "20\n",
      "40\n"
     ]
    }
   ],
   "source": [
    "print(unit.race)\n",
    "print(unit.damage)\n",
    "print(unit.armor)"
   ]
  },
  {
   "cell_type": "code",
   "execution_count": null,
   "id": "0e3898a7",
   "metadata": {},
   "outputs": [],
   "source": []
  }
 ],
 "metadata": {
  "kernelspec": {
   "display_name": "Python 3",
   "language": "python",
   "name": "python3"
  },
  "language_info": {
   "codemirror_mode": {
    "name": "ipython",
    "version": 3
   },
   "file_extension": ".py",
   "mimetype": "text/x-python",
   "name": "python",
   "nbconvert_exporter": "python",
   "pygments_lexer": "ipython3",
   "version": "3.8.8"
  }
 },
 "nbformat": 4,
 "nbformat_minor": 5
}
