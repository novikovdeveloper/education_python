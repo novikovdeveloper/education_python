{
 "cells": [
  {
   "cell_type": "code",
   "execution_count": 1,
   "id": "57b66c00",
   "metadata": {},
   "outputs": [
    {
     "name": "stdout",
     "output_type": "stream",
     "text": [
      "Введите число 3\n",
      "0 is even\n",
      "2 is even\n",
      "3 is odd\n"
     ]
    }
   ],
   "source": [
    "#Запросить у пользователя ввод числа. Построить цикл от 0 до введённого числа (включительно)\n",
    "#и для чётных чисел вывести то, что они чётные, а для нечётных, что они нечётные\n",
    "\n",
    "\n",
    "limit = int(input('Введите число '))\n",
    "\n",
    "for x in range(limit + 1):\n",
    "     if x % 2 == 0:\n",
    "        print(f'{x} is even')\n",
    "else:\n",
    "        print(f'{x} is odd')"
   ]
  },
  {
   "cell_type": "code",
   "execution_count": null,
   "id": "b2a5b775",
   "metadata": {},
   "outputs": [],
   "source": [
    "\n"
   ]
  },
  {
   "cell_type": "code",
   "execution_count": null,
   "id": "3ec61c4a",
   "metadata": {},
   "outputs": [],
   "source": []
  },
  {
   "cell_type": "code",
   "execution_count": 2,
   "id": "e1f28323",
   "metadata": {},
   "outputs": [
    {
     "name": "stdout",
     "output_type": "stream",
     "text": [
      "Введите кол-во строк7\n",
      "*\n",
      "**\n",
      "***\n",
      "****\n",
      "*****\n",
      "******\n",
      "*******\n"
     ]
    }
   ],
   "source": [
    "#Задание:\n",
    "#Вывести лесенкой символ звёздочки по кол-ву строк, заданных пользователем:\n",
    "#запросить ввод у пользователя кол-ва строк, вывести звёздочки лесенкой\n",
    "\n",
    "\n",
    "rows = int(input(\"Введите кол-во строк\"))\n",
    "for x in range(rows):\n",
    "    print('*' *(x+1))"
   ]
  },
  {
   "cell_type": "code",
   "execution_count": null,
   "id": "fee8ef31",
   "metadata": {},
   "outputs": [],
   "source": [
    "\n"
   ]
  },
  {
   "cell_type": "code",
   "execution_count": 17,
   "id": "c38ce2a2",
   "metadata": {},
   "outputs": [
    {
     "name": "stdout",
     "output_type": "stream",
     "text": [
      "0\n",
      "0\n",
      "3\n",
      "5\n",
      "6\n",
      "9\n",
      "10\n"
     ]
    }
   ],
   "source": [
    "\n",
    "\n",
    "for i in range(0,11):\n",
    "    if i %  3 ==0:\n",
    "        print(i)\n",
    "    if i % 5 ==0:\n",
    "        print(i)"
   ]
  },
  {
   "cell_type": "code",
   "execution_count": null,
   "id": "0cdef98b",
   "metadata": {},
   "outputs": [],
   "source": []
  },
  {
   "cell_type": "code",
   "execution_count": 4,
   "id": "f3d48120",
   "metadata": {},
   "outputs": [
    {
     "data": {
      "text/plain": [
       "33"
      ]
     },
     "execution_count": 4,
     "metadata": {},
     "output_type": "execute_result"
    }
   ],
   "source": [
    "#Построить цикл от нуля до введенного числа( в моем примере до 10), и посчитать сумму всех чисел,\n",
    "#делимых без остатка на 3 и 5 \n",
    "\n",
    "sum(x for x in range(0,11) if x % 3 ==0 or x % 5 == 0 )"
   ]
  },
  {
   "cell_type": "code",
   "execution_count": null,
   "id": "feffb8d4",
   "metadata": {},
   "outputs": [],
   "source": []
  },
  {
   "cell_type": "code",
   "execution_count": 18,
   "id": "3d3eaa1b",
   "metadata": {},
   "outputs": [
    {
     "name": "stdout",
     "output_type": "stream",
     "text": [
      "Введите длину списка 17\n",
      "Введите длину списка 5\n"
     ]
    },
    {
     "data": {
      "text/plain": [
       "[9, 11, 13, 15, 0, 2, 4]"
      ]
     },
     "execution_count": 18,
     "metadata": {},
     "output_type": "execute_result"
    }
   ],
   "source": [
    "#Взять из первого списка четкные числа, из второго нечетные и обьединисть их в общем спике\n",
    "\n",
    "\n",
    "first_lst = int(input('Введите длину списка '))\n",
    "second_lst = int(input('Введите длину списка '))\n",
    "\n",
    "nechet = [i for i in range(8,first_lst) if i %2 ==1]\n",
    "chet = [x for x in range(0,second_lst) if x %2 ==0]\n",
    "joined_list = nechet + chet\n",
    "joined_list"
   ]
  },
  {
   "cell_type": "code",
   "execution_count": null,
   "id": "26b8effe",
   "metadata": {},
   "outputs": [],
   "source": [
    "\n",
    "\n"
   ]
  },
  {
   "cell_type": "code",
   "execution_count": 1,
   "id": "1d61664c",
   "metadata": {},
   "outputs": [
    {
     "name": "stdout",
     "output_type": "stream",
     "text": [
      "2\n"
     ]
    }
   ],
   "source": [
    "# У нас есть рука current_hand, каждая карта имеет свой вес.\n",
    "#необходимо посчитать вес указанной, или любой другой руки\n",
    "\n",
    "current_hand = [2,3,4,10,'Q',5]\n",
    "cards = {2:+1, 3:+1, 4:+1, 5:+1, 6:+1, 7:0, 8:0, 9:0, 10:-1, 'Q':-1, 'K':-1, 'A':-1}\n",
    "total = sum([cards[x] for x in current_hand]) #обращаемся к словарю по ключу cards[x], возвращает вес текущей карты\n",
    "print(total)"
   ]
  },
  {
   "cell_type": "code",
   "execution_count": null,
   "id": "3d9af00d",
   "metadata": {},
   "outputs": [],
   "source": []
  }
 ],
 "metadata": {
  "kernelspec": {
   "display_name": "Python 3",
   "language": "python",
   "name": "python3"
  },
  "language_info": {
   "codemirror_mode": {
    "name": "ipython",
    "version": 3
   },
   "file_extension": ".py",
   "mimetype": "text/x-python",
   "name": "python",
   "nbconvert_exporter": "python",
   "pygments_lexer": "ipython3",
   "version": "3.8.8"
  }
 },
 "nbformat": 4,
 "nbformat_minor": 5
}
