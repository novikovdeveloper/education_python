{
 "cells": [
  {
   "cell_type": "code",
   "execution_count": 1,
   "id": "f0a2ba33",
   "metadata": {},
   "outputs": [
    {
     "name": "stdout",
     "output_type": "stream",
     "text": [
      "Введите длину списка 12\n",
      "Введите длину списка 7\n"
     ]
    },
    {
     "data": {
      "text/plain": [
       "[9, 11, 0, 2, 4, 6]"
      ]
     },
     "execution_count": 1,
     "metadata": {},
     "output_type": "execute_result"
    }
   ],
   "source": [
    "first_lst = int(input('Введите длину списка '))\n",
    "second_lst = int(input('Введите длину списка '))\n",
    "\n",
    "nechet = [i for i in range(8,first_lst) if i %2 ==1]\n",
    "chet = [x for x in range(0,second_lst) if x %2 ==0]\n",
    "joined_list = nechet + chet\n",
    "joined_list"
   ]
  },
  {
   "cell_type": "code",
   "execution_count": null,
   "id": "7e303894",
   "metadata": {},
   "outputs": [],
   "source": []
  }
 ],
 "metadata": {
  "kernelspec": {
   "display_name": "Python 3",
   "language": "python",
   "name": "python3"
  },
  "language_info": {
   "codemirror_mode": {
    "name": "ipython",
    "version": 3
   },
   "file_extension": ".py",
   "mimetype": "text/x-python",
   "name": "python",
   "nbconvert_exporter": "python",
   "pygments_lexer": "ipython3",
   "version": "3.8.8"
  }
 },
 "nbformat": 4,
 "nbformat_minor": 5
}
