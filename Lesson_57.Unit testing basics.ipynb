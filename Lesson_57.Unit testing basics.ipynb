{
 "cells": [
  {
   "cell_type": "code",
   "execution_count": null,
   "id": "b29d614d",
   "metadata": {},
   "outputs": [],
   "source": [
    "#Fiz_Buzz\n",
    "#На вход подаются числа, если число делиться на 5 без остатка - buz, на 3 -fiz, если на 3 и 5 то fizbuz. Else пустая строка\n",
    "\n",
    "\n",
    "def get_reply(number):\n",
    "    if number%5==0 and number%3==0:\n",
    "        return 'FizBuzz'\n",
    "    elif number%3==0:\n",
    "        return 'Fiz'\n",
    "    elif number%5==0:\n",
    "        return 'Buz'\n",
    "    else:\n",
    "        return ''\n",
    "    \n",
    "#В след файле напишим юнит-тест для этого кода\n",
    "        "
   ]
  }
 ],
 "metadata": {
  "kernelspec": {
   "display_name": "Python 3",
   "language": "python",
   "name": "python3"
  },
  "language_info": {
   "codemirror_mode": {
    "name": "ipython",
    "version": 3
   },
   "file_extension": ".py",
   "mimetype": "text/x-python",
   "name": "python",
   "nbconvert_exporter": "python",
   "pygments_lexer": "ipython3",
   "version": "3.8.8"
  }
 },
 "nbformat": 4,
 "nbformat_minor": 5
}
