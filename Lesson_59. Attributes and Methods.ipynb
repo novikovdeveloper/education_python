{
 "cells": [
  {
   "cell_type": "code",
   "execution_count": 21,
   "id": "1f39053d",
   "metadata": {},
   "outputs": [],
   "source": [
    "class Character():\n",
    "    max_speed = 100                       #обьявляем атрибутиы уровня класса, а не инстанции класса\n",
    "    dead_health = 0\n",
    "    \n",
    "    def __init__(self, race, damage = 10, armor = 20):          #конструктор\n",
    "        self.race = race                                #обьявляем рассу, дамаг и армор. И вкачестве атрибута присваиваем зн-я\n",
    "        self.damage = damage\n",
    "        self.armor = armor \n",
    "        self.health = 100\n",
    "#эти атрибуты уровня инстанции, клиентский код может пользоваться только после создания экземпляра типа Character\n",
    "\n",
    "\n",
    "    def hit(self, damage):      #объявим метод удара по персонажу\n",
    "        self.health -= damage   #здоровье минус урон\n",
    "        \n",
    "        \n",
    "    def is_dead(self):          #с помощью метода, клиент может проверить умер ли персонаж\n",
    "        return self.health == Character.dead_health"
   ]
  },
  {
   "cell_type": "code",
   "execution_count": 8,
   "id": "2672bc96",
   "metadata": {},
   "outputs": [
    {
     "name": "stdout",
     "output_type": "stream",
     "text": [
      "Ork\n",
      "100\n"
     ]
    }
   ],
   "source": [
    "unit = Character('Ork')\n",
    "\n",
    "\n",
    "print(unit.race)\n",
    "print(Character.max_speed) #таким образом можно вывести в консоль только атрибуты уровня класса, а не инстанции"
   ]
  },
  {
   "cell_type": "code",
   "execution_count": 11,
   "id": "cdc6fb6a",
   "metadata": {},
   "outputs": [
    {
     "name": "stdout",
     "output_type": "stream",
     "text": [
      "40\n"
     ]
    },
    {
     "data": {
      "text/plain": [
       "False"
      ]
     },
     "execution_count": 11,
     "metadata": {},
     "output_type": "execute_result"
    }
   ],
   "source": [
    "unit.hit(20)         #наносим урон\n",
    "print(unit.health)   #проверим остаток здоровья\n",
    "unit.is_dead()       #проверим, умер ли персонаж\n"
   ]
  },
  {
   "cell_type": "code",
   "execution_count": 14,
   "id": "40bcec76",
   "metadata": {},
   "outputs": [
    {
     "name": "stdout",
     "output_type": "stream",
     "text": [
      "-100\n"
     ]
    },
    {
     "data": {
      "text/plain": [
       "False"
      ]
     },
     "execution_count": 14,
     "metadata": {},
     "output_type": "execute_result"
    }
   ],
   "source": [
    "unit.hit(60)\n",
    "print(unit.health)\n",
    "unit.is_dead() "
   ]
  },
  {
   "cell_type": "code",
   "execution_count": 15,
   "id": "c8aa9ae2",
   "metadata": {},
   "outputs": [
    {
     "data": {
      "text/plain": [
       "False"
      ]
     },
     "execution_count": 15,
     "metadata": {},
     "output_type": "execute_result"
    }
   ],
   "source": [
    "unit.is_dead() #тут, короч, будет True, просто в минус ушел"
   ]
  },
  {
   "cell_type": "code",
   "execution_count": null,
   "id": "5f5053b1",
   "metadata": {},
   "outputs": [],
   "source": []
  }
 ],
 "metadata": {
  "kernelspec": {
   "display_name": "Python 3",
   "language": "python",
   "name": "python3"
  },
  "language_info": {
   "codemirror_mode": {
    "name": "ipython",
    "version": 3
   },
   "file_extension": ".py",
   "mimetype": "text/x-python",
   "name": "python",
   "nbconvert_exporter": "python",
   "pygments_lexer": "ipython3",
   "version": "3.8.8"
  }
 },
 "nbformat": 4,
 "nbformat_minor": 5
}
