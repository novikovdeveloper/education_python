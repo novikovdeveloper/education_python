{
 "cells": [
  {
   "cell_type": "code",
   "execution_count": 1,
   "id": "f06a1642",
   "metadata": {},
   "outputs": [],
   "source": [
    "class Character():\n",
    "    MAX_SPEED = 100                                 #константа, записывается капсом, в нее лезть не нужно и переопределять\n",
    "    \n",
    "    def __init__(self,race,damage = 10):            #обьявили конструктор\n",
    "        \n",
    "        self.damage = damage\n",
    "        self.race = race\n",
    "    "
   ]
  },
  {
   "cell_type": "code",
   "execution_count": 2,
   "id": "8af1d5cc",
   "metadata": {},
   "outputs": [
    {
     "data": {
      "text/plain": [
       "100"
      ]
     },
     "execution_count": 2,
     "metadata": {},
     "output_type": "execute_result"
    }
   ],
   "source": [
    "Character.MAX_SPEED"
   ]
  },
  {
   "cell_type": "code",
   "execution_count": 3,
   "id": "6fe12ce9",
   "metadata": {},
   "outputs": [
    {
     "data": {
      "text/plain": [
       "10"
      ]
     },
     "execution_count": 3,
     "metadata": {},
     "output_type": "execute_result"
    }
   ],
   "source": [
    "Character.MAX_SPEED = 10         #ничего не мешает ее переопределить\n",
    "Character.MAX_SPEED"
   ]
  },
  {
   "cell_type": "code",
   "execution_count": 4,
   "id": "6e46bdcb",
   "metadata": {},
   "outputs": [],
   "source": [
    "#(_)защищенные атрибуты не могут быть использованы из вне, но могут быть исп. наследниками\n",
    "#(__)приватные атрибуты не могуть быть использованы не из вне, ни в наследниках класса.\n",
    "#Исп. только внутри класса, который их определяет (приватные)"
   ]
  },
  {
   "cell_type": "code",
   "execution_count": 3,
   "id": "db0532e2",
   "metadata": {},
   "outputs": [],
   "source": [
    "class Character():\n",
    "    MAX_SPEED = 100                                \n",
    "    \n",
    "    def __init__(self,race,damage = 10):            \n",
    "        \n",
    "        self.damage = damage\n",
    "        self.__race = race           #__(два подчеркивания)сделали атрибут приватным\n",
    "        self._health = 100\n",
    "        self._current_speed = 20\n",
    "    \n",
    "    def hit(self,damage):\n",
    "        self._health -= damage\n",
    "       \n",
    "    \n",
    "    @property                            #этим декоратором определяем свойства\n",
    "    def health(self):\n",
    "        return self.health\n",
    "    \n",
    "    @property \n",
    "    def race(self):\n",
    "        return self.__race\n",
    "    \n",
    "    @property\n",
    "    def current_speed(self):\n",
    "        return self._current_speed\n",
    "    \n",
    "    @current_speed.setter                    #создается св-во с возможностью записи \n",
    "    def current_speed(self,current_speed):   #второй аргумент - зн-е выр-я при присваивании\n",
    "        if current_speed < 0:\n",
    "            self._current_speed = 0\n",
    "        elif current_speed > 100:\n",
    "            self._current_speed = 100\n",
    "        else:\n",
    "            self._current_speed = current_speed\n",
    "    "
   ]
  },
  {
   "cell_type": "code",
   "execution_count": 4,
   "id": "29a28f27",
   "metadata": {},
   "outputs": [],
   "source": [
    "с = Character('Elf')  #создали инстанцию"
   ]
  },
  {
   "cell_type": "code",
   "execution_count": 5,
   "id": "09177672",
   "metadata": {},
   "outputs": [
    {
     "data": {
      "text/plain": [
       "100"
      ]
     },
     "execution_count": 5,
     "metadata": {},
     "output_type": "execute_result"
    }
   ],
   "source": [
    "Character.MAX_SPEED\n"
   ]
  },
  {
   "cell_type": "code",
   "execution_count": 6,
   "id": "3112d363",
   "metadata": {},
   "outputs": [
    {
     "data": {
      "text/plain": [
       "10"
      ]
     },
     "execution_count": 6,
     "metadata": {},
     "output_type": "execute_result"
    }
   ],
   "source": [
    "Character.MAX_SPEED = 10         \n",
    "Character.MAX_SPEED"
   ]
  },
  {
   "cell_type": "code",
   "execution_count": 7,
   "id": "d21f5fa4",
   "metadata": {},
   "outputs": [],
   "source": [
    "c = Character('Elf')  #создали инстанцию"
   ]
  },
  {
   "cell_type": "code",
   "execution_count": 8,
   "id": "f8e7eda2",
   "metadata": {},
   "outputs": [
    {
     "ename": "AttributeError",
     "evalue": "'Character' object has no attribute '__race'",
     "output_type": "error",
     "traceback": [
      "\u001b[1;31m---------------------------------------------------------------------------\u001b[0m",
      "\u001b[1;31mAttributeError\u001b[0m                            Traceback (most recent call last)",
      "\u001b[1;32m<ipython-input-8-b292233858f5>\u001b[0m in \u001b[0;36m<module>\u001b[1;34m\u001b[0m\n\u001b[1;32m----> 1\u001b[1;33m \u001b[0mc\u001b[0m\u001b[1;33m.\u001b[0m\u001b[0m__race\u001b[0m\u001b[1;33m\u001b[0m\u001b[1;33m\u001b[0m\u001b[0m\n\u001b[0m",
      "\u001b[1;31mAttributeError\u001b[0m: 'Character' object has no attribute '__race'"
     ]
    }
   ],
   "source": [
    "c.__race"
   ]
  },
  {
   "cell_type": "code",
   "execution_count": 9,
   "id": "132e21d3",
   "metadata": {},
   "outputs": [
    {
     "data": {
      "text/plain": [
       "'Ork'"
      ]
     },
     "execution_count": 9,
     "metadata": {},
     "output_type": "execute_result"
    }
   ],
   "source": [
    "c._Character__race = 'Ork'\n",
    "c._Character__race\n",
    "#как видим, приватный атрибут перезаписался. Питонбазируется на соглашениях, поэтому их перезаписывать нельзя без необх."
   ]
  },
  {
   "cell_type": "code",
   "execution_count": 10,
   "id": "278213ab",
   "metadata": {},
   "outputs": [
    {
     "data": {
      "text/plain": [
       "0"
      ]
     },
     "execution_count": 10,
     "metadata": {},
     "output_type": "execute_result"
    }
   ],
   "source": [
    "c._health = 0\n",
    "c._health"
   ]
  },
  {
   "cell_type": "code",
   "execution_count": null,
   "id": "e5bbe86c",
   "metadata": {},
   "outputs": [],
   "source": [
    "print(c.health)\n",
    "print(c.race)"
   ]
  },
  {
   "cell_type": "code",
   "execution_count": null,
   "id": "a78d90ca",
   "metadata": {},
   "outputs": [],
   "source": [
    "c.health = 10\n",
    "c.health"
   ]
  },
  {
   "cell_type": "code",
   "execution_count": 4,
   "id": "361ea50d",
   "metadata": {},
   "outputs": [],
   "source": [
    "class Character():\n",
    "    MAX_SPEED = 100                                \n",
    "    \n",
    "    def __init__(self,race,damage = 10):            \n",
    "        \n",
    "        self.damage = damage\n",
    "        self.__race = race           #__(два подчеркивания)сделали атрибут приватным\n",
    "        self._health = 100\n",
    "        self._current_speed = 20\n",
    "    \n",
    "    def hit(self,damage):\n",
    "        self._health -= damage\n",
    "       \n",
    "    \n",
    "    @property                            #этим декоратором определяем свойства\n",
    "    def health(self):\n",
    "        return self.health\n",
    "    \n",
    "    @property \n",
    "    def race(self):\n",
    "        return self.__race\n",
    "    \n",
    "    @property\n",
    "    def current_speed(self):\n",
    "        return self._current_speed\n",
    "    \n",
    "    @current_speed.setter                    #создается св-во с возможностью записи \n",
    "    def current_speed(self,current_speed):   #второй аргумент - зн-е выр-я при присваивании\n",
    "        if current_speed < 0:\n",
    "            self._current_speed = 0\n",
    "        elif current_speed > 100:\n",
    "            self._current_speed = 100\n",
    "        else:\n",
    "            self._current_speed = current_speed"
   ]
  },
  {
   "cell_type": "code",
   "execution_count": 7,
   "id": "cdf595d2",
   "metadata": {},
   "outputs": [],
   "source": [
    "c = Character('Elf')  #создали инстанцию"
   ]
  },
  {
   "cell_type": "code",
   "execution_count": 8,
   "id": "a8e2d004",
   "metadata": {},
   "outputs": [
    {
     "data": {
      "text/plain": [
       "20"
      ]
     },
     "execution_count": 8,
     "metadata": {},
     "output_type": "execute_result"
    }
   ],
   "source": [
    "c.current_speed"
   ]
  },
  {
   "cell_type": "code",
   "execution_count": 9,
   "id": "3cab4fb3",
   "metadata": {},
   "outputs": [
    {
     "data": {
      "text/plain": [
       "50"
      ]
     },
     "execution_count": 9,
     "metadata": {},
     "output_type": "execute_result"
    }
   ],
   "source": [
    "c.current_speed = 50\n",
    "c.current_speed"
   ]
  },
  {
   "cell_type": "code",
   "execution_count": 10,
   "id": "d5b330c7",
   "metadata": {},
   "outputs": [
    {
     "data": {
      "text/plain": [
       "100"
      ]
     },
     "execution_count": 10,
     "metadata": {},
     "output_type": "execute_result"
    }
   ],
   "source": [
    "c.current_speed = 1000\n",
    "c.current_speed\n",
    "\n",
    "#св-во с ограничениями отрпботало успешно"
   ]
  },
  {
   "cell_type": "code",
   "execution_count": 11,
   "id": "caff5ee7",
   "metadata": {},
   "outputs": [
    {
     "data": {
      "text/plain": [
       "0"
      ]
     },
     "execution_count": 11,
     "metadata": {},
     "output_type": "execute_result"
    }
   ],
   "source": [
    "c.current_speed = -100\n",
    "c.current_speed"
   ]
  },
  {
   "cell_type": "code",
   "execution_count": null,
   "id": "546c0993",
   "metadata": {},
   "outputs": [],
   "source": []
  }
 ],
 "metadata": {
  "kernelspec": {
   "display_name": "Python 3",
   "language": "python",
   "name": "python3"
  },
  "language_info": {
   "codemirror_mode": {
    "name": "ipython",
    "version": 3
   },
   "file_extension": ".py",
   "mimetype": "text/x-python",
   "name": "python",
   "nbconvert_exporter": "python",
   "pygments_lexer": "ipython3",
   "version": "3.8.8"
  }
 },
 "nbformat": 4,
 "nbformat_minor": 5
}
