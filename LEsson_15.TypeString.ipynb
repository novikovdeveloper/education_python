{
 "cells": [
  {
   "cell_type": "code",
   "execution_count": 1,
   "id": "92621f5e",
   "metadata": {},
   "outputs": [
    {
     "data": {
      "text/plain": [
       "'elias'"
      ]
     },
     "execution_count": 1,
     "metadata": {},
     "output_type": "execute_result"
    }
   ],
   "source": [
    "'elias'"
   ]
  },
  {
   "cell_type": "code",
   "execution_count": 2,
   "id": "98224e78",
   "metadata": {},
   "outputs": [
    {
     "data": {
      "text/plain": [
       "'elias'"
      ]
     },
     "execution_count": 2,
     "metadata": {},
     "output_type": "execute_result"
    }
   ],
   "source": [
    "\"elias\""
   ]
  },
  {
   "cell_type": "code",
   "execution_count": 3,
   "id": "7a1965d6",
   "metadata": {},
   "outputs": [
    {
     "data": {
      "text/plain": [
       "\"i'm Elias\""
      ]
     },
     "execution_count": 3,
     "metadata": {},
     "output_type": "execute_result"
    }
   ],
   "source": [
    "\"i'm Elias\""
   ]
  },
  {
   "cell_type": "code",
   "execution_count": 4,
   "id": "abc21cad",
   "metadata": {},
   "outputs": [
    {
     "data": {
      "text/plain": [
       "'Elias is a \"string\" programmer'"
      ]
     },
     "execution_count": 4,
     "metadata": {},
     "output_type": "execute_result"
    }
   ],
   "source": [
    "'Elias is a \"string\" programmer'"
   ]
  },
  {
   "cell_type": "code",
   "execution_count": 5,
   "id": "510a9d59",
   "metadata": {},
   "outputs": [],
   "source": [
    "#'I'm Elias and i'm a \"strong\" programmer'\n"
   ]
  },
  {
   "cell_type": "code",
   "execution_count": 7,
   "id": "108d9787",
   "metadata": {},
   "outputs": [
    {
     "name": "stdout",
     "output_type": "stream",
     "text": [
      "I'm Elias and i'm a \"strong\" programmer\n"
     ]
    }
   ],
   "source": [
    "print('I\\'m Elias and i\\'m a \"strong\" programmer')"
   ]
  },
  {
   "cell_type": "code",
   "execution_count": 10,
   "id": "582aed59",
   "metadata": {},
   "outputs": [
    {
     "data": {
      "text/plain": [
       "'C:\\\\users\\\\denis'"
      ]
     },
     "execution_count": 10,
     "metadata": {},
     "output_type": "execute_result"
    }
   ],
   "source": [
    "\"C:\\\\users\\\\denis\""
   ]
  },
  {
   "cell_type": "code",
   "execution_count": 11,
   "id": "2b926c6d",
   "metadata": {},
   "outputs": [
    {
     "name": "stdout",
     "output_type": "stream",
     "text": [
      "C:\\users\\denis\n"
     ]
    }
   ],
   "source": [
    "print(\"C:\\\\users\\\\denis\")"
   ]
  },
  {
   "cell_type": "code",
   "execution_count": 12,
   "id": "4d2b7122",
   "metadata": {},
   "outputs": [
    {
     "data": {
      "text/plain": [
       "'\"C:\\\\users\\\\denis\"'"
      ]
     },
     "execution_count": 12,
     "metadata": {},
     "output_type": "execute_result"
    }
   ],
   "source": [
    "r'\"C:\\users\\denis\"'"
   ]
  },
  {
   "cell_type": "code",
   "execution_count": 13,
   "id": "6ec06ac6",
   "metadata": {},
   "outputs": [
    {
     "name": "stdout",
     "output_type": "stream",
     "text": [
      "C:\\users\\denis\n"
     ]
    }
   ],
   "source": [
    "print(\"C:\\\\users\\\\denis\")"
   ]
  },
  {
   "cell_type": "code",
   "execution_count": 14,
   "id": "b5dd0f86",
   "metadata": {},
   "outputs": [
    {
     "data": {
      "text/plain": [
       "'C:\\\\users\\\\denis'"
      ]
     },
     "execution_count": 14,
     "metadata": {},
     "output_type": "execute_result"
    }
   ],
   "source": [
    "r'C:\\users\\denis'"
   ]
  },
  {
   "cell_type": "code",
   "execution_count": 15,
   "id": "491944e8",
   "metadata": {},
   "outputs": [
    {
     "name": "stdout",
     "output_type": "stream",
     "text": [
      "C:\\users\\denis\n"
     ]
    }
   ],
   "source": [
    "print(r'C:\\users\\denis')"
   ]
  },
  {
   "cell_type": "code",
   "execution_count": 16,
   "id": "731a2dcb",
   "metadata": {},
   "outputs": [
    {
     "name": "stdout",
     "output_type": "stream",
     "text": [
      "I'm Elias and \n",
      "i'm a \"strong\" programmer\n"
     ]
    }
   ],
   "source": [
    "print('I\\'m Elias and \\ni\\'m a \"strong\" programmer')"
   ]
  },
  {
   "cell_type": "code",
   "execution_count": 19,
   "id": "b26a6550",
   "metadata": {},
   "outputs": [
    {
     "name": "stdout",
     "output_type": "stream",
     "text": [
      "Hello\n"
     ]
    }
   ],
   "source": [
    "hello = str(\"Hello\")\n",
    "print (hello)"
   ]
  },
  {
   "cell_type": "code",
   "execution_count": 24,
   "id": "252de580",
   "metadata": {},
   "outputs": [
    {
     "data": {
      "text/plain": [
       "'H'"
      ]
     },
     "execution_count": 24,
     "metadata": {},
     "output_type": "execute_result"
    }
   ],
   "source": [
    "greeting = str(\"Hello,my name is Slim Shady\")\n",
    "greeting[0]"
   ]
  },
  {
   "cell_type": "code",
   "execution_count": 25,
   "id": "05ae8d4d",
   "metadata": {},
   "outputs": [
    {
     "data": {
      "text/plain": [
       "' '"
      ]
     },
     "execution_count": 25,
     "metadata": {},
     "output_type": "execute_result"
    }
   ],
   "source": [
    "greeting[-6]"
   ]
  },
  {
   "cell_type": "code",
   "execution_count": 26,
   "id": "5d5ed311",
   "metadata": {},
   "outputs": [
    {
     "data": {
      "text/plain": [
       "'h'"
      ]
     },
     "execution_count": 26,
     "metadata": {},
     "output_type": "execute_result"
    }
   ],
   "source": [
    "greeting[-4]"
   ]
  },
  {
   "cell_type": "code",
   "execution_count": 27,
   "id": "2c33afe8",
   "metadata": {},
   "outputs": [
    {
     "ename": "TypeError",
     "evalue": "'str' object does not support item assignment",
     "output_type": "error",
     "traceback": [
      "\u001b[1;31m---------------------------------------------------------------------------\u001b[0m",
      "\u001b[1;31mTypeError\u001b[0m                                 Traceback (most recent call last)",
      "\u001b[1;32m<ipython-input-27-6d518e98e0fa>\u001b[0m in \u001b[0;36m<module>\u001b[1;34m\u001b[0m\n\u001b[1;32m----> 1\u001b[1;33m \u001b[0mgreeting\u001b[0m\u001b[1;33m[\u001b[0m\u001b[1;36m0\u001b[0m\u001b[1;33m]\u001b[0m\u001b[1;33m=\u001b[0m\u001b[1;34m\"h\"\u001b[0m\u001b[1;33m\u001b[0m\u001b[1;33m\u001b[0m\u001b[0m\n\u001b[0m",
      "\u001b[1;31mTypeError\u001b[0m: 'str' object does not support item assignment"
     ]
    }
   ],
   "source": [
    "greeting[0]=\"h\""
   ]
  },
  {
   "cell_type": "raw",
   "id": "3562320e",
   "metadata": {},
   "source": [
    "nr"
   ]
  },
  {
   "cell_type": "code",
   "execution_count": 28,
   "id": "947a863b",
   "metadata": {},
   "outputs": [
    {
     "data": {
      "text/plain": [
       "'Hello'"
      ]
     },
     "execution_count": 28,
     "metadata": {},
     "output_type": "execute_result"
    }
   ],
   "source": [
    "new_greeting = \"Hello\" #создаем новую строку для замены из примера выше\n",
    "new_greeting"
   ]
  },
  {
   "cell_type": "code",
   "execution_count": 29,
   "id": "7c91aaeb",
   "metadata": {},
   "outputs": [
    {
     "data": {
      "text/plain": [
       "'Hello,my name is Slim Shady'"
      ]
     },
     "execution_count": 29,
     "metadata": {},
     "output_type": "execute_result"
    }
   ],
   "source": [
    "greeting"
   ]
  },
  {
   "cell_type": "code",
   "execution_count": 30,
   "id": "e815ae17",
   "metadata": {},
   "outputs": [
    {
     "data": {
      "text/plain": [
       "'llo,my name is Slim Shady'"
      ]
     },
     "execution_count": 30,
     "metadata": {},
     "output_type": "execute_result"
    }
   ],
   "source": [
    "greeting[2:]"
   ]
  },
  {
   "cell_type": "code",
   "execution_count": 31,
   "id": "be0a71e7",
   "metadata": {},
   "outputs": [
    {
     "data": {
      "text/plain": [
       "'Hel'"
      ]
     },
     "execution_count": 31,
     "metadata": {},
     "output_type": "execute_result"
    }
   ],
   "source": [
    "greeting[:3]"
   ]
  },
  {
   "cell_type": "code",
   "execution_count": 33,
   "id": "fb60744b",
   "metadata": {},
   "outputs": [
    {
     "data": {
      "text/plain": [
       "'Hlom aei lmSay'"
      ]
     },
     "execution_count": 33,
     "metadata": {},
     "output_type": "execute_result"
    }
   ],
   "source": [
    "greeting[::2]"
   ]
  },
  {
   "cell_type": "code",
   "execution_count": 40,
   "id": "feab6520",
   "metadata": {},
   "outputs": [
    {
     "name": "stdout",
     "output_type": "stream",
     "text": [
      "Hello World\n",
      "Hello World\n",
      "Hello World\n"
     ]
    }
   ],
   "source": [
    "\"My name is\" + \" \" \"Slim Shady\"\n",
    "hello = \"Hello\"\n",
    "world = \"World\" \n",
    "print(hello + \" \" + world)\n",
    "print(\"%s %s\" % (hello,world))\n",
    "print(\"{} {}\" .format(hello,world))  #последние 2 арика лучше по причине низкого потребления памяти "
   ]
  },
  {
   "cell_type": "code",
   "execution_count": 42,
   "id": "02135c4c",
   "metadata": {},
   "outputs": [
    {
     "data": {
      "text/plain": [
       "'aaaaaaa'"
      ]
     },
     "execution_count": 42,
     "metadata": {},
     "output_type": "execute_result"
    }
   ],
   "source": [
    "'a'*7"
   ]
  },
  {
   "cell_type": "code",
   "execution_count": null,
   "id": "196109dc",
   "metadata": {},
   "outputs": [],
   "source": []
  }
 ],
 "metadata": {
  "kernelspec": {
   "display_name": "Python 3",
   "language": "python",
   "name": "python3"
  },
  "language_info": {
   "codemirror_mode": {
    "name": "ipython",
    "version": 3
   },
   "file_extension": ".py",
   "mimetype": "text/x-python",
   "name": "python",
   "nbconvert_exporter": "python",
   "pygments_lexer": "ipython3",
   "version": "3.8.8"
  }
 },
 "nbformat": 4,
 "nbformat_minor": 5
}
