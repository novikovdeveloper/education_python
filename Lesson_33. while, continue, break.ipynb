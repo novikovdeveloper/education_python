{
 "cells": [
  {
   "cell_type": "code",
   "execution_count": 1,
   "id": "3575ae74",
   "metadata": {},
   "outputs": [
    {
     "name": "stdout",
     "output_type": "stream",
     "text": [
      "x is equals 0\n",
      "x is equals 1\n",
      "x is equals 2\n"
     ]
    }
   ],
   "source": [
    "#в данном случае, цикл будет повторяться, пока x меньше 3\n",
    "x = 0 \n",
    "while x<3:             #while -пока что-то вычисляется в True (до тех пор, пока)\n",
    "    print(f'x is equals {x}')\n",
    "    x+=1\n"
   ]
  },
  {
   "cell_type": "code",
   "execution_count": 3,
   "id": "9cc8beb2",
   "metadata": {},
   "outputs": [
    {
     "name": "stdout",
     "output_type": "stream",
     "text": [
      "x is equals 0\n",
      "x is equals 1\n",
      "x is equals 2\n",
      "Condition is not met\n"
     ]
    }
   ],
   "source": [
    "x=0\n",
    "while x<3:\n",
    "    print(f'x is equals {x}')\n",
    "    x+=1\n",
    "else:\n",
    "    print('Condition is not met')"
   ]
  },
  {
   "cell_type": "code",
   "execution_count": 4,
   "id": "4e720e91",
   "metadata": {},
   "outputs": [
    {
     "data": {
      "text/plain": [
       "16"
      ]
     },
     "execution_count": 4,
     "metadata": {},
     "output_type": "execute_result"
    }
   ],
   "source": [
    "vals = [1,2,3,4,5,6,7,8,9]\n",
    "sum = 0\n",
    "for v in vals:\n",
    "    if v %2 == 0:\n",
    "        continue   # если условие выше соблюдено, то переходим к след. итерации. Если нет, то идет по циклу if снова\n",
    "    else:\n",
    "        sum += v\n",
    "    if sum > 10:\n",
    "        break    #если sum больше 10, то выйдем из цикла\n",
    "sum\n",
    "            \n",
    "        "
   ]
  },
  {
   "cell_type": "code",
   "execution_count": null,
   "id": "72bafd52",
   "metadata": {},
   "outputs": [],
   "source": [
    "for v in vals: #записали цикл, но не знаем что писать в теле блока. С помощью pass,можем пропустить интерпритатором\n",
    "    pass"
   ]
  }
 ],
 "metadata": {
  "kernelspec": {
   "display_name": "Python 3",
   "language": "python",
   "name": "python3"
  },
  "language_info": {
   "codemirror_mode": {
    "name": "ipython",
    "version": 3
   },
   "file_extension": ".py",
   "mimetype": "text/x-python",
   "name": "python",
   "nbconvert_exporter": "python",
   "pygments_lexer": "ipython3",
   "version": "3.8.8"
  }
 },
 "nbformat": 4,
 "nbformat_minor": 5
}
