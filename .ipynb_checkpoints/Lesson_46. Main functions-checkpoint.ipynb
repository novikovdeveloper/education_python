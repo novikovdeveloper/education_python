{
 "cells": [
  {
   "cell_type": "code",
   "execution_count": 9,
   "id": "ae6b95a1",
   "metadata": {},
   "outputs": [],
   "source": [
    "# def - определяем ф-ю, greetin(): - название ф-ии \n",
    "\n",
    "def greeting():          #определили блок\n",
    "    '''\n",
    "    DOCSTRING: Information about the function \n",
    "    INPUT: no input...\n",
    "    OUTPUT: Hello!\n",
    "    '''\n",
    "    print('Hello!')\n",
    "    \n",
    "    \n",
    "#DOCSTRING - информация о ф-ии\n",
    "#INPUT - входные данные для ф-ии\n",
    "#OUTPUT - что ф-я возвращает "
   ]
  },
  {
   "cell_type": "code",
   "execution_count": 6,
   "id": "c2f2f665",
   "metadata": {},
   "outputs": [
    {
     "name": "stdout",
     "output_type": "stream",
     "text": [
      "Hello!\n"
     ]
    }
   ],
   "source": [
    "greeting()"
   ]
  },
  {
   "cell_type": "code",
   "execution_count": 7,
   "id": "5eb4a2ee",
   "metadata": {},
   "outputs": [
    {
     "data": {
      "text/plain": [
       "<function __main__.greeting()>"
      ]
     },
     "execution_count": 7,
     "metadata": {},
     "output_type": "execute_result"
    }
   ],
   "source": [
    "greeting                 #получили описание того что эта ф-я "
   ]
  },
  {
   "cell_type": "code",
   "execution_count": 10,
   "id": "514caa71",
   "metadata": {},
   "outputs": [
    {
     "name": "stdout",
     "output_type": "stream",
     "text": [
      "Help on function greeting in module __main__:\n",
      "\n",
      "greeting()\n",
      "    DOCSTRING: Information about the function \n",
      "    INPUT: no input...\n",
      "    OUTPUT: Hello!\n",
      "\n"
     ]
    }
   ],
   "source": [
    "help(greeting)"
   ]
  },
  {
   "cell_type": "code",
   "execution_count": 14,
   "id": "11e3e4b1",
   "metadata": {},
   "outputs": [],
   "source": [
    "#ф-я принимает аргументы в круглых скобках(в нашем случае написали имя агрумена )\n",
    "\n",
    "def print_name(name = 'Default'):    #определим зна-е по умолчанию, которое может быть любым\n",
    "    print(name)"
   ]
  },
  {
   "cell_type": "code",
   "execution_count": 15,
   "id": "d1e309bb",
   "metadata": {},
   "outputs": [
    {
     "name": "stdout",
     "output_type": "stream",
     "text": [
      "Denis\n"
     ]
    }
   ],
   "source": [
    "print_name('Denis')     #вызвали ф-ю и передали ей зн-е"
   ]
  },
  {
   "cell_type": "code",
   "execution_count": 16,
   "id": "5c4bbebe",
   "metadata": {},
   "outputs": [
    {
     "name": "stdout",
     "output_type": "stream",
     "text": [
      "Default\n"
     ]
    }
   ],
   "source": [
    "print_name()         #ф-я выдала ошибку, так как нужно было передать аргумент name "
   ]
  },
  {
   "cell_type": "code",
   "execution_count": 18,
   "id": "98a99bdd",
   "metadata": {},
   "outputs": [
    {
     "name": "stdout",
     "output_type": "stream",
     "text": [
      "Default\n",
      "None\n",
      "<class 'NoneType'>\n"
     ]
    }
   ],
   "source": [
    "result = print_name()\n",
    "print(result)\n",
    "print(type(result))"
   ]
  },
  {
   "cell_type": "code",
   "execution_count": 21,
   "id": "4dba043a",
   "metadata": {},
   "outputs": [
    {
     "name": "stdout",
     "output_type": "stream",
     "text": [
      "Hello Denis \n"
     ]
    }
   ],
   "source": [
    "def get_greeting(name):\n",
    "    return 'Hello ' + name \n",
    "\n",
    "greeting = get_greeting('Denis ')\n",
    "print(greeting)"
   ]
  },
  {
   "cell_type": "code",
   "execution_count": 22,
   "id": "99f20e36",
   "metadata": {},
   "outputs": [
    {
     "name": "stdout",
     "output_type": "stream",
     "text": [
      "12\n"
     ]
    }
   ],
   "source": [
    "#С ф-ями можно проводить различные математически операции\n",
    "\n",
    "def get_sum(a,b):     \n",
    "    return a+b\n",
    "result = get_sum(10,2)\n",
    "print(result)"
   ]
  },
  {
   "cell_type": "code",
   "execution_count": 24,
   "id": "31da0a3c",
   "metadata": {},
   "outputs": [
    {
     "name": "stdout",
     "output_type": "stream",
     "text": [
      "False\n"
     ]
    }
   ],
   "source": [
    "#boolean ф-я\n",
    "\n",
    "def is_adult(age):\n",
    "    return age >= 18\n",
    "is_adult = is_adult(15)\n",
    "print(is_adult)"
   ]
  },
  {
   "cell_type": "code",
   "execution_count": 27,
   "id": "fbf0a7e6",
   "metadata": {},
   "outputs": [
    {
     "name": "stdout",
     "output_type": "stream",
     "text": [
      "True\n",
      "False\n"
     ]
    }
   ],
   "source": [
    "#ф-я палиндром\n",
    "\n",
    "def is_palindrome(text):\n",
    "    return text == text[::-1]\n",
    "print(is_palindrome('abba'))\n",
    "print(is_palindrome('abbb'))"
   ]
  },
  {
   "cell_type": "code",
   "execution_count": 28,
   "id": "471c17da",
   "metadata": {},
   "outputs": [],
   "source": [
    "#для примера, введем ф-ю по пдсчету налогов\n",
    "\n",
    "def calc_taxes(p1,p2,p3):\n",
    "    return sum((p1,p2,p3)) * 0.06"
   ]
  },
  {
   "cell_type": "code",
   "execution_count": 29,
   "id": "d2e1095a",
   "metadata": {},
   "outputs": [
    {
     "data": {
      "text/plain": [
       "3.5999999999999996"
      ]
     },
     "execution_count": 29,
     "metadata": {},
     "output_type": "execute_result"
    }
   ],
   "source": [
    "calc_taxes(10,20,30)"
   ]
  },
  {
   "cell_type": "code",
   "execution_count": 30,
   "id": "3bec0178",
   "metadata": {},
   "outputs": [],
   "source": [
    "#чтиобы принимать больше аргементов чем 3, воспользуемся *args .Переопределим метод calc_taxes\n",
    "\n",
    "def calc_taxes(*args):\n",
    "    for x in args:\n",
    "        print(f'got payment = {x}')\n",
    "    return sum(args) * 0.06\n",
    "\n",
    "\n"
   ]
  },
  {
   "cell_type": "code",
   "execution_count": 31,
   "id": "8bf2b70c",
   "metadata": {},
   "outputs": [
    {
     "name": "stdout",
     "output_type": "stream",
     "text": [
      "got payment = 10\n",
      "got payment = 20\n",
      "got payment = 30\n",
      "got payment = 40\n",
      "got payment = 50\n",
      "got payment = 60\n",
      "got payment = 70\n",
      "got payment = 80\n",
      "got payment = 90\n"
     ]
    },
    {
     "data": {
      "text/plain": [
       "27.0"
      ]
     },
     "execution_count": 31,
     "metadata": {},
     "output_type": "execute_result"
    }
   ],
   "source": [
    "calc_taxes(10,20,30,40,50,60,70,80,90)"
   ]
  },
  {
   "cell_type": "code",
   "execution_count": 32,
   "id": "3e48175a",
   "metadata": {},
   "outputs": [
    {
     "name": "stdout",
     "output_type": "stream",
     "text": [
      "Player Carlsen has rating 2800\n",
      "Player Giri has rating 2780\n"
     ]
    }
   ],
   "source": [
    "# передача n кол-ва аргументов в паре ключ:значение **kwargs\n",
    "\n",
    "def save_players(**kwargs):\n",
    "    for k ,v in kwargs.items():     #словарь\n",
    "        print(f'Player {k} has rating {v}')\n",
    "save_players(Carlsen = 2800, Giri = 2780)\n",
    "    \n"
   ]
  },
  {
   "cell_type": "code",
   "execution_count": null,
   "id": "13371f98",
   "metadata": {},
   "outputs": [],
   "source": []
  }
 ],
 "metadata": {
  "kernelspec": {
   "display_name": "Python 3",
   "language": "python",
   "name": "python3"
  },
  "language_info": {
   "codemirror_mode": {
    "name": "ipython",
    "version": 3
   },
   "file_extension": ".py",
   "mimetype": "text/x-python",
   "name": "python",
   "nbconvert_exporter": "python",
   "pygments_lexer": "ipython3",
   "version": "3.8.8"
  }
 },
 "nbformat": 4,
 "nbformat_minor": 5
}
