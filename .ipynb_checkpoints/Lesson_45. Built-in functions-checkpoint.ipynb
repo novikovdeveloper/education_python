{
 "cells": [
  {
   "cell_type": "code",
   "execution_count": 1,
   "id": "cec763ae",
   "metadata": {},
   "outputs": [
    {
     "data": {
      "text/plain": [
       "1"
      ]
     },
     "execution_count": 1,
     "metadata": {},
     "output_type": "execute_result"
    }
   ],
   "source": [
    "abs(-1) #взятие числа по модулю (всегда положительное зн-е )\n"
   ]
  },
  {
   "cell_type": "code",
   "execution_count": 2,
   "id": "8cc31792",
   "metadata": {},
   "outputs": [
    {
     "data": {
      "text/plain": [
       "5"
      ]
     },
     "execution_count": 2,
     "metadata": {},
     "output_type": "execute_result"
    }
   ],
   "source": [
    "max(1,2,3,4,5) #показывает максимавльное зн-е аргумента в ф-и"
   ]
  },
  {
   "cell_type": "code",
   "execution_count": 4,
   "id": "937d56d1",
   "metadata": {},
   "outputs": [
    {
     "data": {
      "text/plain": [
       "1"
      ]
     },
     "execution_count": 4,
     "metadata": {},
     "output_type": "execute_result"
    }
   ],
   "source": [
    "min([1,2,3,4,5]) #показывает меньшее, соответсвенно. min и max можно вызвать со списком"
   ]
  },
  {
   "cell_type": "code",
   "execution_count": 6,
   "id": "a8b1b163",
   "metadata": {},
   "outputs": [
    {
     "data": {
      "text/plain": [
       "4"
      ]
     },
     "execution_count": 6,
     "metadata": {},
     "output_type": "execute_result"
    }
   ],
   "source": [
    "pow(2,2) #ф-я возведения в степень.Где первое число - само число, второе- его степень"
   ]
  },
  {
   "cell_type": "code",
   "execution_count": 9,
   "id": "563fe7b1",
   "metadata": {},
   "outputs": [
    {
     "data": {
      "text/plain": [
       "3.1"
      ]
     },
     "execution_count": 9,
     "metadata": {},
     "output_type": "execute_result"
    }
   ],
   "source": [
    "round(3.14, 1) #ф-я округления, второе значение - кол-во знаков после запятой"
   ]
  },
  {
   "cell_type": "code",
   "execution_count": 10,
   "id": "11bd7987",
   "metadata": {},
   "outputs": [
    {
     "data": {
      "text/plain": [
       "15"
      ]
     },
     "execution_count": 10,
     "metadata": {},
     "output_type": "execute_result"
    }
   ],
   "source": [
    "sum([1,2,3,4,5]) #Ф-я ложения, числа нужно передавать в иде списка"
   ]
  },
  {
   "cell_type": "code",
   "execution_count": 12,
   "id": "f6b4f472",
   "metadata": {},
   "outputs": [
    {
     "name": "stdout",
     "output_type": "stream",
     "text": [
      "0x2a\n",
      "0o52\n",
      "0b101010\n"
     ]
    }
   ],
   "source": [
    "#Ф-и преобразования десятичных чисел в соответвенную систему исчесления:\n",
    "\n",
    "h = hex(42) # из 10 в 16 систему\n",
    "o = oct(42) # из 10 в 8 систему\n",
    "b = bin(42) # из 10 в бинарную систему (двоичную)\n",
    "\n",
    "print(h)\n",
    "print(o)\n",
    "print(b)"
   ]
  },
  {
   "cell_type": "code",
   "execution_count": 13,
   "id": "e28d89cb",
   "metadata": {},
   "outputs": [
    {
     "name": "stdout",
     "output_type": "stream",
     "text": [
      "True\n",
      "False\n"
     ]
    }
   ],
   "source": [
    "all_true1 = all([True,True,True])  #all вычисляет все элементы в списке, которые в true\n",
    "all_true2 = all([True,False,True])\n",
    "\n",
    "print(all_true1)\n",
    "print(all_true2)"
   ]
  },
  {
   "cell_type": "code",
   "execution_count": 14,
   "id": "b5be3253",
   "metadata": {},
   "outputs": [],
   "source": [
    "players = [\n",
    "    ('Carlsen', 2842),\n",
    "    ('Caruana', 2822),\n",
    "    ('Mamedyarov', 2801),\n",
    "    ('Ding', 2797),\n",
    "    ('Giri', 2780)\n",
    "]"
   ]
  },
  {
   "cell_type": "code",
   "execution_count": 16,
   "id": "dd933659",
   "metadata": {},
   "outputs": [
    {
     "data": {
      "text/plain": [
       "True"
      ]
     },
     "execution_count": 16,
     "metadata": {},
     "output_type": "execute_result"
    }
   ],
   "source": [
    "#проверим, все ли игроки в этом списке имеют рейтинг более 2700 с результатом boolean с помощью all()\n",
    "all(rating >2700 for _,rating in players)\n"
   ]
  },
  {
   "cell_type": "code",
   "execution_count": 17,
   "id": "f0c8df00",
   "metadata": {},
   "outputs": [
    {
     "data": {
      "text/plain": [
       "False"
      ]
     },
     "execution_count": 17,
     "metadata": {},
     "output_type": "execute_result"
    }
   ],
   "source": [
    "all(rating >2800 for _,rating in players)"
   ]
  },
  {
   "cell_type": "code",
   "execution_count": 18,
   "id": "412930fc",
   "metadata": {},
   "outputs": [
    {
     "name": "stdout",
     "output_type": "stream",
     "text": [
      "True\n",
      "False\n"
     ]
    }
   ],
   "source": [
    "#ф-я для которое важно, если хотя-бы 1 элем. true, то ф-я вернет true. А если все false, то тогда вернет false\n",
    "\n",
    "any_true1 = any([False,False,True])\n",
    "any_true2 = any([False,False,False])\n",
    "\n",
    "print(any_true1)\n",
    "print(any_true2)"
   ]
  },
  {
   "cell_type": "code",
   "execution_count": 19,
   "id": "ec26aeac",
   "metadata": {},
   "outputs": [],
   "source": [
    "players = [\n",
    "    ('Carlsen', 2842),\n",
    "    ('Caruana', 2822),\n",
    "    ('Mamedyarov', 2801),\n",
    "    ('Ding', 2797),\n",
    "    ('Giri', 2780)\n",
    "]"
   ]
  },
  {
   "cell_type": "code",
   "execution_count": 20,
   "id": "b902fb1b",
   "metadata": {},
   "outputs": [
    {
     "data": {
      "text/plain": [
       "True"
      ]
     },
     "execution_count": 20,
     "metadata": {},
     "output_type": "execute_result"
    }
   ],
   "source": [
    "any(rating < 2790 for _,rating in players)"
   ]
  },
  {
   "cell_type": "code",
   "execution_count": 21,
   "id": "908f2e5a",
   "metadata": {},
   "outputs": [
    {
     "data": {
      "text/plain": [
       "False"
      ]
     },
     "execution_count": 21,
     "metadata": {},
     "output_type": "execute_result"
    }
   ],
   "source": [
    "any(rating < 2700 for _,rating in players)"
   ]
  },
  {
   "cell_type": "code",
   "execution_count": 24,
   "id": "5ce6b0c5",
   "metadata": {},
   "outputs": [
    {
     "name": "stdout",
     "output_type": "stream",
     "text": [
      "<class 'zip'>\n",
      "<zip object at 0x000001BBD15AED40>\n",
      "[('a', 10), ('b', 20), ('c', 30)]\n"
     ]
    }
   ],
   "source": [
    "# ф-я склеит 2 итерируемых обьекта zip()\n",
    "\n",
    "letters = 'abcd'\n",
    "numbers = (10,20,30)\n",
    "\n",
    "zipped = zip(letters, numbers)\n",
    "print(type(zipped))\n",
    "print(zipped)\n",
    "\n",
    "zipped_list = list(zipped) #создадим лист для просмотра результата \n",
    "print(zipped_list)"
   ]
  },
  {
   "cell_type": "code",
   "execution_count": 27,
   "id": "3d2fadc3",
   "metadata": {},
   "outputs": [
    {
     "data": {
      "text/plain": [
       "{'Carlsen': 2842,\n",
       " 'Caruana': 2822,\n",
       " 'Mamedyarov': 2801,\n",
       " 'Ding': 2797,\n",
       " 'Giri': 2780}"
      ]
     },
     "execution_count": 27,
     "metadata": {},
     "output_type": "execute_result"
    }
   ],
   "source": [
    "#способ сформировать словарь с помощью zip()\n",
    "\n",
    "names = ['Carlsen','Caruana', 'Mamedyarov', 'Ding', 'Giri' ]\n",
    "rating = [2842, 2822, 2801, 2797, 2780 ]\n",
    "\n",
    "players = dict(zip(names, rating))\n",
    "players\n"
   ]
  },
  {
   "cell_type": "code",
   "execution_count": null,
   "id": "fd569dfe",
   "metadata": {},
   "outputs": [],
   "source": []
  }
 ],
 "metadata": {
  "kernelspec": {
   "display_name": "Python 3",
   "language": "python",
   "name": "python3"
  },
  "language_info": {
   "codemirror_mode": {
    "name": "ipython",
    "version": 3
   },
   "file_extension": ".py",
   "mimetype": "text/x-python",
   "name": "python",
   "nbconvert_exporter": "python",
   "pygments_lexer": "ipython3",
   "version": "3.8.8"
  }
 },
 "nbformat": 4,
 "nbformat_minor": 5
}
