{
 "cells": [
  {
   "cell_type": "code",
   "execution_count": 1,
   "id": "a5f652bf",
   "metadata": {},
   "outputs": [
    {
     "name": "stdout",
     "output_type": "stream",
     "text": [
      "[1, 2, 3, 4, 5]\n"
     ]
    }
   ],
   "source": [
    "numbers = [1,2,3,4,5]\n",
    "print(numbers)"
   ]
  },
  {
   "cell_type": "code",
   "execution_count": 3,
   "id": "f57ec519",
   "metadata": {},
   "outputs": [
    {
     "name": "stdout",
     "output_type": "stream",
     "text": [
      "1\n",
      "2\n",
      "3\n",
      "4\n",
      "5\n"
     ]
    }
   ],
   "source": [
    "for i in numbers:   #строим цикл , где i - новая переменная цикла, munbers наш итерируемый тип\n",
    "    print(i)        #в случае с циклом, ф-я print вызывается 5 раз"
   ]
  },
  {
   "cell_type": "code",
   "execution_count": 6,
   "id": "3d22f928",
   "metadata": {},
   "outputs": [
    {
     "name": "stdout",
     "output_type": "stream",
     "text": [
      "1\n",
      "4\n",
      "9\n",
      "16\n",
      "25\n"
     ]
    }
   ],
   "source": [
    "for i in numbers:\n",
    "    print(i*i)  #можно проводить различные ф-и с циклом, нопр, возвести в квадрат"
   ]
  },
  {
   "cell_type": "code",
   "execution_count": 7,
   "id": "f121e60a",
   "metadata": {},
   "outputs": [
    {
     "data": {
      "text/plain": [
       "range"
      ]
     },
     "execution_count": 7,
     "metadata": {},
     "output_type": "execute_result"
    }
   ],
   "source": [
    "numbers = range(1,6)    #ф-я построения списка через range, и преобразуют переменную в ф-ю range. Указывается число от и до\n",
    "type(numbers)"
   ]
  },
  {
   "cell_type": "code",
   "execution_count": 8,
   "id": "53366ab9",
   "metadata": {},
   "outputs": [
    {
     "name": "stdout",
     "output_type": "stream",
     "text": [
      "1\n",
      "2\n",
      "3\n",
      "4\n",
      "5\n"
     ]
    }
   ],
   "source": [
    "for i in numbers: #типом range тоже можно пройтись циклом. Но последнее число (6) не включается\n",
    "    print(i)"
   ]
  },
  {
   "cell_type": "code",
   "execution_count": 9,
   "id": "122b4749",
   "metadata": {},
   "outputs": [
    {
     "name": "stdout",
     "output_type": "stream",
     "text": [
      "1\n",
      "2\n",
      "3\n",
      "4\n",
      "5\n"
     ]
    }
   ],
   "source": [
    "for i in range(1,6): #можно встроить ф-ю range в цикл сразу в таком виде\n",
    "    print(i)"
   ]
  },
  {
   "cell_type": "code",
   "execution_count": 13,
   "id": "75fb3a21",
   "metadata": {},
   "outputs": [
    {
     "name": "stdout",
     "output_type": "stream",
     "text": [
      "1 is odd\n",
      "2 is even\n",
      "3 is odd\n",
      "4 is even\n",
      "5 is odd\n"
     ]
    }
   ],
   "source": [
    "for i in range(1, 6):\n",
    "    if i % 2 == 0:     #если i делится без остатка на 2 = четное число\n",
    "        print(f'{i} is even')\n",
    "    else:\n",
    "        print(f'{i} is odd')  \n",
    "        #прошлись циклом и увидели что четное, а что нет"
   ]
  },
  {
   "cell_type": "code",
   "execution_count": 14,
   "id": "979f3b49",
   "metadata": {},
   "outputs": [
    {
     "data": {
      "text/plain": [
       "[2, 6, 10, 14, 18]"
      ]
     },
     "execution_count": 14,
     "metadata": {},
     "output_type": "execute_result"
    }
   ],
   "source": [
    "numbers = [1,3,5,7,9] \n",
    "for i, item in enumerate(numbers):  #видим не только элемент(i), но и его индекс(item) c помощью ф-и enumerate()\n",
    "    numbers[i] *=2   #Обращаемся к элементу по индексу и перезапишем его + умножаем на 2 каждое значение\n",
    "numbers"
   ]
  },
  {
   "cell_type": "code",
   "execution_count": 1,
   "id": "aa15e991",
   "metadata": {},
   "outputs": [
    {
     "name": "stdout",
     "output_type": "stream",
     "text": [
      "J\n",
      "o\n",
      "h\n",
      "n\n"
     ]
    }
   ],
   "source": [
    "name = 'John'        #пробежаться циклом мы можем по любым итерируемы типам данных, в том числе строкам\n",
    "for l in name:\n",
    "    print(l)"
   ]
  },
  {
   "cell_type": "code",
   "execution_count": 2,
   "id": "7d03edea",
   "metadata": {},
   "outputs": [
    {
     "name": "stdout",
     "output_type": "stream",
     "text": [
      "Alarm!\n",
      "Alarm!\n",
      "Alarm!\n",
      "Alarm!\n",
      "Alarm!\n"
     ]
    }
   ],
   "source": [
    "for _ in range(5):  #если не хотим вводить именованную переменную, то можем исп. _\n",
    "    print('Alarm!')"
   ]
  },
  {
   "cell_type": "code",
   "execution_count": 3,
   "id": "1b2ff6d6",
   "metadata": {},
   "outputs": [
    {
     "name": "stdout",
     "output_type": "stream",
     "text": [
      "John\n",
      "Silver\n",
      "22\n"
     ]
    }
   ],
   "source": [
    "person = (\"John\", \"Silver\", 22)   #выведем элементы с помощью item\n",
    "for item in person:    \n",
    "    print(item)"
   ]
  },
  {
   "cell_type": "code",
   "execution_count": 4,
   "id": "82e706d4",
   "metadata": {},
   "outputs": [
    {
     "data": {
      "text/plain": [
       "3"
      ]
     },
     "execution_count": 4,
     "metadata": {},
     "output_type": "execute_result"
    }
   ],
   "source": [
    "persons = [(\"John\", 22), (\"Bob\", 32), (\"Dave\", 20)] #обьявим список, который содержит в себе кортежи\n",
    "len(persons)"
   ]
  },
  {
   "cell_type": "code",
   "execution_count": 5,
   "id": "9e16d07f",
   "metadata": {},
   "outputs": [
    {
     "name": "stdout",
     "output_type": "stream",
     "text": [
      "John is 22 old\n",
      "Bob is 32 old\n",
      "Dave is 20 old\n"
     ]
    }
   ],
   "source": [
    "for (name,age) in persons: #unpacking из кортежа. Вводим столько переменных, сколько данных нах в кортеже\n",
    "    print(f\"{name} is {age} old\")"
   ]
  },
  {
   "cell_type": "code",
   "execution_count": 6,
   "id": "4ba4f382",
   "metadata": {},
   "outputs": [],
   "source": [
    "players = dict(Carlsen = 2242, Caruana = 2282, Mamadyarov = 2801 ) #создадим словарь"
   ]
  },
  {
   "cell_type": "code",
   "execution_count": 7,
   "id": "91479dc5",
   "metadata": {},
   "outputs": [
    {
     "name": "stdout",
     "output_type": "stream",
     "text": [
      "Carlsen\n",
      "Caruana\n",
      "Mamadyarov\n"
     ]
    }
   ],
   "source": [
    "for item in players:\n",
    "    print(item)"
   ]
  },
  {
   "cell_type": "code",
   "execution_count": 8,
   "id": "7bcd431f",
   "metadata": {},
   "outputs": [
    {
     "name": "stdout",
     "output_type": "stream",
     "text": [
      "('Carlsen', 2242)\n",
      "('Caruana', 2282)\n",
      "('Mamadyarov', 2801)\n"
     ]
    }
   ],
   "source": [
    "for item in players.items():   #.items()- возвращает список ключей и значений\n",
    "    print(item) #но получаем набор кортежей\n"
   ]
  },
  {
   "cell_type": "code",
   "execution_count": 9,
   "id": "29f1b0cd",
   "metadata": {},
   "outputs": [
    {
     "name": "stdout",
     "output_type": "stream",
     "text": [
      "Carlsen has rating 2242\n",
      "Caruana has rating 2282\n",
      "Mamadyarov has rating 2801\n"
     ]
    }
   ],
   "source": [
    "for k, v in players.items(): #сделаем анпекинг и достанем из кортежей ключи со значеними \n",
    "    print(f'{k} has rating {v}')"
   ]
  },
  {
   "cell_type": "code",
   "execution_count": 10,
   "id": "d01466d7",
   "metadata": {},
   "outputs": [
    {
     "name": "stdout",
     "output_type": "stream",
     "text": [
      "2242\n",
      "2282\n",
      "2801\n"
     ]
    }
   ],
   "source": [
    "for v in players.values():  #.values() если хотим пройтись по значениям\n",
    "    print(v)"
   ]
  },
  {
   "cell_type": "code",
   "execution_count": 13,
   "id": "c55979e5",
   "metadata": {
    "scrolled": true
   },
   "outputs": [
    {
     "data": {
      "text/plain": [
       "[(2, -2), (-5, 5), (6, -6), (-2, 2)]"
      ]
     },
     "execution_count": 13,
     "metadata": {},
     "output_type": "execute_result"
    }
   ],
   "source": [
    "#поиск всех пар, которые в сумме дают 0 из 2х списков \n",
    "list1 = [2,4,-5,6,8,-2]\n",
    "list2 = [2,-6,8,3,5,-2]\n",
    "\n",
    "#строим двойной вложенный цикл, ссумируем каждый элемент из list1 с list2\n",
    "pairs = []\n",
    "for x in list1:     #цикл для прохода по первом списку\n",
    "    for y in list2: #внутренний цикл для прохода по второму списку\n",
    "#здесь будет происходить для х выбор первого элемента(из list1) и перебор всех из у(List2) по порядку,\n",
    "#потом второго элемента из List1 и перебор из List2 и тд, пока не переберутся все элементы\n",
    "        cur_cum = x + y \n",
    "        if cur_cum == 0:\n",
    "            pairs.append((x,y)) #Добавляем текущую пару в качестве кортежа при соблюдении условия в pairs \n",
    "pairs"
   ]
  },
  {
   "cell_type": "code",
   "execution_count": null,
   "id": "edbc47b0",
   "metadata": {},
   "outputs": [],
   "source": []
  }
 ],
 "metadata": {
  "kernelspec": {
   "display_name": "Python 3",
   "language": "python",
   "name": "python3"
  },
  "language_info": {
   "codemirror_mode": {
    "name": "ipython",
    "version": 3
   },
   "file_extension": ".py",
   "mimetype": "text/x-python",
   "name": "python",
   "nbconvert_exporter": "python",
   "pygments_lexer": "ipython3",
   "version": "3.8.8"
  }
 },
 "nbformat": 4,
 "nbformat_minor": 5
}
