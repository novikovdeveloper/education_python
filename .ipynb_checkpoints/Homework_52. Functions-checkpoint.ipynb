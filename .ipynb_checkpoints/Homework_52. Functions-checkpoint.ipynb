{
 "cells": [
  {
   "cell_type": "code",
   "execution_count": 1,
   "id": "47e72818",
   "metadata": {},
   "outputs": [],
   "source": [
    "#2 участника участвуют в дуэли. \n",
    "#Написать ф-ю, которая принимает 2 строки и вычисляет кто выстрелил первым\n",
    "#Если выстрелили одновременно, то написать tie \n",
    "\n",
    "def shutdown(p1,p2):\n",
    "    diff = p1.find(\"B\") - p2.find(\"B\")     #ввели ф-ю diff, и будем искать по индексу первую букву в слове \"bang\" в строках\n",
    "    if diff < 0:\n",
    "        return \"p1\"\n",
    "    elif diff > 0:\n",
    "        return \"p2\"\n",
    "    else:\n",
    "        return \"tie\"\n",
    "    \n",
    "        \n",
    "    "
   ]
  },
  {
   "cell_type": "code",
   "execution_count": 2,
   "id": "fde2127e",
   "metadata": {},
   "outputs": [
    {
     "name": "stdout",
     "output_type": "stream",
     "text": [
      "p1\n",
      "tie\n",
      "p2\n"
     ]
    }
   ],
   "source": [
    "print(shutdown(\"   Bang\", \"    Bang\"))\n",
    "print(shutdown(\"    Bang\", \"    Bang\"))\n",
    "print(shutdown(\"   Bang\", \"  Bang\"))"
   ]
  },
  {
   "cell_type": "code",
   "execution_count": 3,
   "id": "0a8c0afb",
   "metadata": {},
   "outputs": [],
   "source": [
    "#Ханойские башни \n",
    "\n",
    "def solve_hanoe_tower(discs):\n",
    "    return  2**discs - 1"
   ]
  },
  {
   "cell_type": "code",
   "execution_count": 4,
   "id": "db003fd2",
   "metadata": {},
   "outputs": [
    {
     "data": {
      "text/plain": [
       "1023"
      ]
     },
     "execution_count": 4,
     "metadata": {},
     "output_type": "execute_result"
    }
   ],
   "source": [
    "solve_hanoe_tower(10)"
   ]
  },
  {
   "cell_type": "code",
   "execution_count": 5,
   "id": "d466c90e",
   "metadata": {},
   "outputs": [
    {
     "data": {
      "text/plain": [
       "1"
      ]
     },
     "execution_count": 5,
     "metadata": {},
     "output_type": "execute_result"
    }
   ],
   "source": [
    "solve_hanoe_tower(1)"
   ]
  },
  {
   "cell_type": "code",
   "execution_count": 6,
   "id": "80817731",
   "metadata": {},
   "outputs": [
    {
     "data": {
      "text/plain": [
       "3"
      ]
     },
     "execution_count": 6,
     "metadata": {},
     "output_type": "execute_result"
    }
   ],
   "source": [
    "solve_hanoe_tower(2)"
   ]
  },
  {
   "cell_type": "code",
   "execution_count": 7,
   "id": "d8dfb0a6",
   "metadata": {},
   "outputs": [
    {
     "data": {
      "text/plain": [
       "15"
      ]
     },
     "execution_count": 7,
     "metadata": {},
     "output_type": "execute_result"
    }
   ],
   "source": [
    "solve_hanoe_tower(4)"
   ]
  },
  {
   "cell_type": "code",
   "execution_count": 8,
   "id": "a52f4d4c",
   "metadata": {},
   "outputs": [],
   "source": [
    "#Игра в кости\n",
    "#Складываем общее кол-во выпавших чисел и складываем в общее кол-во очков\n",
    "#Если выпадет дубль с двумя костяшками, то общее колво обнуляется и послед. броски не считаются\n",
    "#Необходимо написать ф-ю, принимающую список кортежей, и возвр. общее кол-во очков\n",
    "\n",
    "#[(4,5), (4,5), (4,5)]  - пример броска с двумя костяшками. Представлен в виде tuple\n",
    "\n",
    "def culc_dice_scores(lst):\n",
    "    return sum([a+b for a,b in lst ]) if not any([a==b for a,b in lst]) else 0  #sum тут будет считать суммы по tupl'am. Сделаем unpacking\n"
   ]
  },
  {
   "cell_type": "code",
   "execution_count": 9,
   "id": "3db66b1c",
   "metadata": {},
   "outputs": [
    {
     "data": {
      "text/plain": [
       "21"
      ]
     },
     "execution_count": 9,
     "metadata": {},
     "output_type": "execute_result"
    }
   ],
   "source": [
    "culc_dice_scores([(1,2), (3,4), (5,6)])"
   ]
  },
  {
   "cell_type": "code",
   "execution_count": 10,
   "id": "5d35003f",
   "metadata": {},
   "outputs": [
    {
     "data": {
      "text/plain": [
       "0"
      ]
     },
     "execution_count": 10,
     "metadata": {},
     "output_type": "execute_result"
    }
   ],
   "source": [
    "culc_dice_scores([(1,1), (3,4), (5,6)])"
   ]
  },
  {
   "cell_type": "code",
   "execution_count": 11,
   "id": "83a91ac2",
   "metadata": {},
   "outputs": [
    {
     "data": {
      "text/plain": [
       "27"
      ]
     },
     "execution_count": 11,
     "metadata": {},
     "output_type": "execute_result"
    }
   ],
   "source": [
    "culc_dice_scores([(4,5), (4,5), (4,5)])"
   ]
  },
  {
   "cell_type": "code",
   "execution_count": 12,
   "id": "920195ef",
   "metadata": {},
   "outputs": [],
   "source": [
    "#Написать ф-ю, которая принимает двумерный массив размера 3х3(9 элементов)\n",
    "#Двумерный массив заполнен числами от 1 до 9 \n",
    "#Ф-я должна вернуть False, если в массиве все числа от 1 до 9 встречаются 1 раз, если нет, то True \n",
    "    #[1,2,3,4,5,6,7,8,9] пример одномерного массива. Двумерный можем разложить в одномерный\n",
    "\n",
    "def any_duplicates(square):\n",
    "    plain = [i for x in square for i in x] #в x записывается подсписок, и по иксу мы итерируем\n",
    "    return sorted(plain) != [1,2,3,4,5,6,7,8,9]\n",
    "    \n",
    "    \n"
   ]
  },
  {
   "cell_type": "code",
   "execution_count": 13,
   "id": "bc6b6670",
   "metadata": {},
   "outputs": [
    {
     "data": {
      "text/plain": [
       "False"
      ]
     },
     "execution_count": 13,
     "metadata": {},
     "output_type": "execute_result"
    }
   ],
   "source": [
    "any_duplicates([[1,3,2], [9,7,8], [4,5,6]])"
   ]
  },
  {
   "cell_type": "code",
   "execution_count": 14,
   "id": "f8b5226a",
   "metadata": {},
   "outputs": [
    {
     "data": {
      "text/plain": [
       "False"
      ]
     },
     "execution_count": 14,
     "metadata": {},
     "output_type": "execute_result"
    }
   ],
   "source": [
    "any_duplicates([[5,9,6], [3,7,8], [4,1,2]])"
   ]
  },
  {
   "cell_type": "code",
   "execution_count": 15,
   "id": "14d3c594",
   "metadata": {},
   "outputs": [
    {
     "data": {
      "text/plain": [
       "True"
      ]
     },
     "execution_count": 15,
     "metadata": {},
     "output_type": "execute_result"
    }
   ],
   "source": [
    "any_duplicates([[1,9,6], [3,7,8], [4,1,2]]) #здесь есть дубликат, в других случаях его нет"
   ]
  },
  {
   "cell_type": "code",
   "execution_count": 16,
   "id": "50a4516f",
   "metadata": {},
   "outputs": [
    {
     "name": "stdout",
     "output_type": "stream",
     "text": [
      "Сколько палочек взять? Осталось 10\n",
      "3\n",
      "Палочек взято 3\n",
      "\n",
      "Сколько палочек взять? Осталось 7\n",
      "3\n",
      "Палочек взято 3\n",
      "\n",
      "Сколько палочек взять? Осталось 4\n",
      "3\n",
      "Палочек взято 3\n",
      "\n",
      "Сколько палочек взять? Осталось 1\n",
      "1\n",
      "Палочек взято 1\n",
      "\n",
      "В игре больше нет палочек. \n",
      " Игрок2 проиграл\n"
     ]
    }
   ],
   "source": [
    "#Играют два игрока.  Есть 10 палочек. Игроки по очереди берут от одной до трёх палочек.\n",
    "#Играют до тех пор пока не закончатся палочки. Тот кто взял последним - тот проиграл.\n",
    "\n",
    "#Реализуйте игру таким образом, чтобы могли играть два человека. Изначально есть 10 палочек. \n",
    "#На каждом ходу выводите на консоль текущее количество оставшихся палочек и просите ввести количество палочек,\n",
    "#которое хочет взять игрок (который делает ход). Не забывайте менять очерёдность игроков и сокращать кол-во палочек.\n",
    "#В конце надо вывести кто победил - первый или второй игрок.\n",
    "\n",
    "#Нюансы реализации могут отличаться. Кто-то может захотет запросить имена у игроков. \n",
    "#Кто-то может захотеть реализовать не с 10-ю палочками, а с тем количеством, которое введёт пользователь \n",
    "#(может он хочет играть с 20-ю палочками?).\n",
    "\n",
    "\n",
    "number_of_sticks = 10            #кол-во палочек\n",
    "player_turn = 1                  #в переменной поместим очередь игрока\n",
    "\n",
    "while number_of_sticks > 0:\n",
    "    print(f'Сколько палочек взять? Осталось {number_of_sticks}')\n",
    "    taken = int(input())         #запрос кол-ва палочек, которое берет пользователь\n",
    "    \n",
    "    if taken < 1 or taken > 3:\n",
    "        print(f'Введите кол-во палочек от 1 до 3. Вы взяли {taken}')\n",
    "        continue                  #пойдет в начало цикла и запросит кол-во палочек еще раз\n",
    "        \n",
    "    number_of_sticks -= taken #отнимаем от общего числа, кол-во палочек, которое забрал пользователь\n",
    "    print(f'Палочек взято {taken}\\n')\n",
    "        \n",
    "    if number_of_sticks <= 0:\n",
    "        print(f'В игре больше нет палочек. \\n Игрок{player_turn} проиграл')\n",
    "            \n",
    "    player_turn = 1 if player_turn == 2 else 2 #игроки поменяются местами в очереди "
   ]
  },
  {
   "cell_type": "code",
   "execution_count": 17,
   "id": "2b0c2979",
   "metadata": {},
   "outputs": [
    {
     "name": "stdout",
     "output_type": "stream",
     "text": [
      "Сколько палочек взять? Осталось 10\n",
      "2\n",
      "Палочек взято 2\n",
      "\n",
      "Сколько палочек взять? Осталось 8\n",
      "3\n",
      "Палочек взято 3\n",
      "\n",
      "Сколько палочек взять? Осталось 5\n",
      "5\n",
      "Введите кол-во палочек от 1 до 3. Вы взяли 5\n",
      "Сколько палочек взять? Осталось 5\n",
      "5\n",
      "Введите кол-во палочек от 1 до 3. Вы взяли 5\n",
      "Сколько палочек взять? Осталось 5\n",
      "88888\n",
      "Введите кол-во палочек от 1 до 3. Вы взяли 88888\n",
      "Сколько палочек взять? Осталось 5\n",
      "-1\n",
      "Введите кол-во палочек от 1 до 3. Вы взяли -1\n",
      "Сколько палочек взять? Осталось 5\n",
      "0\n",
      "Введите кол-во палочек от 1 до 3. Вы взяли 0\n",
      "Сколько палочек взять? Осталось 5\n",
      "2\n",
      "Палочек взято 2\n",
      "\n",
      "Сколько палочек взять? Осталось 3\n",
      "3\n",
      "Палочек взято 3\n",
      "\n",
      "В игре больше нет палочек. \n",
      " Игрок2 проиграл\n"
     ]
    }
   ],
   "source": [
    "#другой вариант исполнения той же задачи \n",
    "\n",
    "number_of_sticks = 10            \n",
    "player_turn = 1  \n",
    "\n",
    "def can_take(sticks):      #принимает кол-во палочек. возвращает boolean\n",
    "    return sticks >= 1 and sticks <=3  #если условие соблюдено, то можно брать\n",
    "\n",
    "def swith_player_turn(turn):\n",
    "    return 1 if player_turn == 2 else 2 \n",
    "\n",
    "def end_of_game(sticks):     #принимает текущее ко-во палочек\n",
    "    return number_of_sticks <=0 #проверка , чтобы не появилось отрицательного зн-я\n",
    "\n",
    "while (not end_of_game(number_of_sticks)):\n",
    "    print(f'Сколько палочек взять? Осталось {number_of_sticks}')\n",
    "    taken = int(input())         #запрос кол-ва палочек, которое берет пользователь\n",
    "    \n",
    "    if not can_take(taken):\n",
    "        print(f'Введите кол-во палочек от 1 до 3. Вы взяли {taken}')\n",
    "        continue                  #пойдет в начало цикла и запросит кол-во палочек еще раз\n",
    "        \n",
    "    number_of_sticks -= taken #отнимаем от общего числа, кол-во палочек, которое забрал пользователь\n",
    "    print(f'Палочек взято {taken}\\n')\n",
    "        \n",
    "    if end_of_game(number_of_sticks):\n",
    "        print(f'В игре больше нет палочек. \\n Игрок{player_turn} проиграл')\n",
    "        break\n",
    "    player_turn = swith_player_turn(player_turn)\n",
    "    "
   ]
  },
  {
   "cell_type": "code",
   "execution_count": null,
   "id": "e0289ca4",
   "metadata": {},
   "outputs": [],
   "source": []
  }
 ],
 "metadata": {
  "kernelspec": {
   "display_name": "Python 3",
   "language": "python",
   "name": "python3"
  },
  "language_info": {
   "codemirror_mode": {
    "name": "ipython",
    "version": 3
   },
   "file_extension": ".py",
   "mimetype": "text/x-python",
   "name": "python",
   "nbconvert_exporter": "python",
   "pygments_lexer": "ipython3",
   "version": "3.8.8"
  }
 },
 "nbformat": 4,
 "nbformat_minor": 5
}
