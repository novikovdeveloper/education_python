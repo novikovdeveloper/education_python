{
 "cells": [
  {
   "cell_type": "code",
   "execution_count": 3,
   "id": "8ef7d840",
   "metadata": {},
   "outputs": [],
   "source": [
    "class Name:\n",
    "    def __init__(self, first_name, last_name):\n",
    "        #self.first_name = first_name.lower().capitalize()  #приводим к нижнему регистру приходящие зн-я+первый символ заглавный\n",
    "        self.first_name = first_name.title()   #еще один способ описанный выше\n",
    "        self.last_name = last_name.title()\n",
    "        self.full_name = self.first_name + \" \" + self.last_name\n",
    "        self.initials = self.first_name[0] + \".\" + self.last_name[0] + \n",
    "        \n",
    "        \n",
    "        "
   ]
  },
  {
   "cell_type": "code",
   "execution_count": 4,
   "id": "fcc8dc13",
   "metadata": {},
   "outputs": [
    {
     "name": "stdout",
     "output_type": "stream",
     "text": [
      "John\n",
      "Silver\n",
      "John Silver\n",
      "J.S\n"
     ]
    }
   ],
   "source": [
    "n = Name('jOhN', 'sIlvER')\n",
    "print(n.first_name)\n",
    "print(n.last_name)\n",
    "print(n.full_name)\n",
    "print(n.initials)"
   ]
  },
  {
   "cell_type": "code",
   "execution_count": 1,
   "id": "7f591043",
   "metadata": {},
   "outputs": [],
   "source": [
    "#Калькулятор\n",
    "\n",
    "class Calculator():\n",
    "    def add(self, a, b):\n",
    "        return a+b\n",
    "    \n",
    "    def subtract(self, a, b):\n",
    "        return a-b\n",
    "    \n",
    "    def myltiply(self, a, b):\n",
    "        return a*b\n",
    "    \n",
    "    def divide(self, a, b):\n",
    "        return a/b\n",
    "    \n",
    "    \n",
    "       "
   ]
  },
  {
   "cell_type": "code",
   "execution_count": 2,
   "id": "db6b733e",
   "metadata": {},
   "outputs": [
    {
     "data": {
      "text/plain": [
       "3"
      ]
     },
     "execution_count": 2,
     "metadata": {},
     "output_type": "execute_result"
    }
   ],
   "source": [
    "c = Calculator()\n",
    "c.add(1,2)"
   ]
  },
  {
   "cell_type": "code",
   "execution_count": 3,
   "id": "2460b814",
   "metadata": {},
   "outputs": [],
   "source": [
    "#'John-Smith-55000'"
   ]
  },
  {
   "cell_type": "code",
   "execution_count": 4,
   "id": "30fb64f6",
   "metadata": {},
   "outputs": [],
   "source": [
    "class Employe():\n",
    "    def __init__(self, first_name, last_name, salary):\n",
    "        self.first_name = first_name\n",
    "        self.last_name = last_name\n",
    "        self.salary = salary\n",
    "        \n",
    "    @classmethod\n",
    "    def from_string(cls, str_to_parse): #ф-я уровня класса \n",
    "        data = str_to_parse.split('-')   #парсим с помощью ф-и split\n",
    "        return cls(data[0], data[1], int(data[2]))"
   ]
  },
  {
   "cell_type": "code",
   "execution_count": 5,
   "id": "7332acb9",
   "metadata": {},
   "outputs": [
    {
     "name": "stdout",
     "output_type": "stream",
     "text": [
      "John\n",
      "Smith\n",
      "55000\n"
     ]
    }
   ],
   "source": [
    "emp = Employe.from_string('John-Smith-55000')\n",
    "print(emp.first_name)\n",
    "print(emp.last_name)\n",
    "print(emp.salary)"
   ]
  },
  {
   "cell_type": "code",
   "execution_count": null,
   "id": "d42405c4",
   "metadata": {},
   "outputs": [],
   "source": []
  }
 ],
 "metadata": {
  "kernelspec": {
   "display_name": "Python 3",
   "language": "python",
   "name": "python3"
  },
  "language_info": {
   "codemirror_mode": {
    "name": "ipython",
    "version": 3
   },
   "file_extension": ".py",
   "mimetype": "text/x-python",
   "name": "python",
   "nbconvert_exporter": "python",
   "pygments_lexer": "ipython3",
   "version": "3.8.8"
  }
 },
 "nbformat": 4,
 "nbformat_minor": 5
}
