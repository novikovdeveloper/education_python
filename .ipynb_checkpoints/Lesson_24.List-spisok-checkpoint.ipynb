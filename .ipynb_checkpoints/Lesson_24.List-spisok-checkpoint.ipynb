{
 "cells": [
  {
   "cell_type": "code",
   "execution_count": 2,
   "id": "e7445653",
   "metadata": {},
   "outputs": [
    {
     "data": {
      "text/plain": [
       "3"
      ]
     },
     "execution_count": 2,
     "metadata": {},
     "output_type": "execute_result"
    }
   ],
   "source": [
    "int_list = [1, 2, 3] #создали список из простых чисел\n",
    "mixed_list = [1, 2.0, 'string'] #создали смешанный список из разных типов значений \n",
    "len(int_list) #узнаем длину списка с помощью функции len()"
   ]
  },
  {
   "cell_type": "code",
   "execution_count": 3,
   "id": "89356576",
   "metadata": {},
   "outputs": [
    {
     "name": "stdout",
     "output_type": "stream",
     "text": [
      "1\n",
      "3\n"
     ]
    }
   ],
   "source": [
    "print(int_list[0]) #обратимся к элементу списка с индексом ноль\n",
    "print(int_list[-1]) #последний элемент с конце, как со строками"
   ]
  },
  {
   "cell_type": "code",
   "execution_count": 4,
   "id": "bf188258",
   "metadata": {},
   "outputs": [
    {
     "data": {
      "text/plain": [
       "[2, 3]"
      ]
     },
     "execution_count": 4,
     "metadata": {},
     "output_type": "execute_result"
    }
   ],
   "source": [
    "int_list[1:] #пример среза с элементами начиная со второго по счету "
   ]
  },
  {
   "cell_type": "code",
   "execution_count": 8,
   "id": "566e02a9",
   "metadata": {},
   "outputs": [
    {
     "name": "stdout",
     "output_type": "stream",
     "text": [
      "<class 'list'>\n"
     ]
    },
    {
     "data": {
      "text/plain": [
       "['John', 'Bob', 'Alice', 'Tracy', 'Elijah', 'Mason']"
      ]
     },
     "execution_count": 8,
     "metadata": {},
     "output_type": "execute_result"
    }
   ],
   "source": [
    "names1 = ['John', 'Bob', 'Alice'] #Списки поддерживают канкатенацию (сложение) \n",
    "names2 = ['Tracy', 'Elijah', 'Mason'] \n",
    "names_combined = names1 + names2 \n",
    "print(type(names_combined))\n",
    "names_combined"
   ]
  },
  {
   "cell_type": "code",
   "execution_count": 9,
   "id": "d8194be4",
   "metadata": {},
   "outputs": [
    {
     "data": {
      "text/plain": [
       "['Liam', 'Bob', 'Alice']"
      ]
     },
     "execution_count": 9,
     "metadata": {},
     "output_type": "execute_result"
    }
   ],
   "source": [
    "names1[0] = 'Liam' #списки являются изменяемым типом, поэтому можно заменить элемент согласно индексу \n",
    "names1"
   ]
  },
  {
   "cell_type": "code",
   "execution_count": 10,
   "id": "c6003770",
   "metadata": {},
   "outputs": [
    {
     "data": {
      "text/plain": [
       "['Liam', 'Bob', 'Alice', 'William', 'James']"
      ]
     },
     "execution_count": 10,
     "metadata": {},
     "output_type": "execute_result"
    }
   ],
   "source": [
    "names1.append('William')\n",
    "names1.append('James')\n",
    "names1"
   ]
  },
  {
   "cell_type": "code",
   "execution_count": 11,
   "id": "189890ef",
   "metadata": {},
   "outputs": [
    {
     "name": "stdout",
     "output_type": "stream",
     "text": [
      "James\n",
      "['Liam', 'Bob', 'Alice', 'William']\n"
     ]
    }
   ],
   "source": [
    "popped = names1.pop() #с помощью ф-и .pop() удаляем последний элемент с конца списка + возвращает удаленный элемент в консоль\n",
    "print(popped)\n",
    "print(names1)\n"
   ]
  },
  {
   "cell_type": "code",
   "execution_count": 12,
   "id": "bea159a2",
   "metadata": {},
   "outputs": [
    {
     "data": {
      "text/plain": [
       "['Bob', 'Alice', 'William']"
      ]
     },
     "execution_count": 12,
     "metadata": {},
     "output_type": "execute_result"
    }
   ],
   "source": [
    "names1.pop(0) #удалять можно по индексу \n",
    "names1"
   ]
  },
  {
   "cell_type": "code",
   "execution_count": 14,
   "id": "d9b419b1",
   "metadata": {},
   "outputs": [
    {
     "data": {
      "text/plain": [
       "['Alice', 'Bob', 'James', 'James', 'William']"
      ]
     },
     "execution_count": 14,
     "metadata": {},
     "output_type": "execute_result"
    }
   ],
   "source": [
    "names1.append('James')\n",
    "names1.sort() #сортируем список\n",
    "names1"
   ]
  },
  {
   "cell_type": "code",
   "execution_count": 15,
   "id": "dfeb7df5",
   "metadata": {},
   "outputs": [
    {
     "name": "stdout",
     "output_type": "stream",
     "text": [
      "['aa', 'ab', 'ac']\n"
     ]
    }
   ],
   "source": [
    "letters = ['ac', 'ab', 'aa']\n",
    "letters.sort()\n",
    "print(letters)"
   ]
  },
  {
   "cell_type": "code",
   "execution_count": 17,
   "id": "711cd27e",
   "metadata": {},
   "outputs": [
    {
     "name": "stdout",
     "output_type": "stream",
     "text": [
      "['a', 'ab', 'abc']\n"
     ]
    }
   ],
   "source": [
    "letters = ['abc', 'a', 'ab'] #переназначили список \n",
    "letters.sort(key = len) #при сортировке будет вызываться ф-я key и ей передаваться ф-я len(кол-во символов в строке)\n",
    "print(letters) #в результате получаем сортировку по кол-ву символов в элементе "
   ]
  },
  {
   "cell_type": "code",
   "execution_count": 18,
   "id": "bd585fdd",
   "metadata": {},
   "outputs": [
    {
     "name": "stdout",
     "output_type": "stream",
     "text": [
      "[3, 2, 8, 5, 0, 3, 4, 1, 1]\n",
      "[0, 1, 1, 2, 3, 3, 4, 5, 8]\n"
     ]
    }
   ],
   "source": [
    "numbers = [3, 2, 8, 5, 0, 3, 4, 1, 1]\n",
    "print(numbers)\n",
    "numbers.sort()\n",
    "print(numbers)"
   ]
  },
  {
   "cell_type": "code",
   "execution_count": 19,
   "id": "5d3d339c",
   "metadata": {},
   "outputs": [
    {
     "data": {
      "text/plain": [
       "[1, 1, 4, 3, 0, 5, 8, 2, 3]"
      ]
     },
     "execution_count": 19,
     "metadata": {},
     "output_type": "execute_result"
    }
   ],
   "source": [
    "numbers = [3, 2, 8, 5, 0, 3, 4, 1, 1]\n",
    "numbers.reverse() #с помощью ф-и .reverse() реверсируем список\n",
    "numbers"
   ]
  },
  {
   "cell_type": "code",
   "execution_count": 21,
   "id": "180361a4",
   "metadata": {},
   "outputs": [
    {
     "data": {
      "text/plain": [
       "[8, 5, 4, 3, 3, 2, 1, 1, 0]"
      ]
     },
     "execution_count": 21,
     "metadata": {},
     "output_type": "execute_result"
    }
   ],
   "source": [
    "numbers.sort(reverse = True) #сортировка по убыванию\n",
    "numbers"
   ]
  },
  {
   "cell_type": "code",
   "execution_count": 22,
   "id": "e7c57294",
   "metadata": {},
   "outputs": [
    {
     "name": "stdout",
     "output_type": "stream",
     "text": [
      "[8, 5, 4, 3, 3, 2, 1, 1, 0]\n"
     ]
    },
    {
     "data": {
      "text/plain": [
       "[8, 22, 5, 4, 3, 3, 2, 1, 1, 0]"
      ]
     },
     "execution_count": 22,
     "metadata": {},
     "output_type": "execute_result"
    }
   ],
   "source": [
    "print(numbers)\n",
    "numbers.insert(1, 22) #ф-я .insert() позволяет вставлять обьект в список по указанному индексу(вставится между 1 и 2 элем.)\n",
    "numbers"
   ]
  },
  {
   "cell_type": "code",
   "execution_count": 23,
   "id": "56156cb4",
   "metadata": {},
   "outputs": [
    {
     "data": {
      "text/plain": [
       "2"
      ]
     },
     "execution_count": 23,
     "metadata": {},
     "output_type": "execute_result"
    }
   ],
   "source": [
    "numbers.index(5) #возвращает элемент с указанным индексом \n"
   ]
  },
  {
   "cell_type": "code",
   "execution_count": 24,
   "id": "1dc5bbb2",
   "metadata": {},
   "outputs": [
    {
     "name": "stdout",
     "output_type": "stream",
     "text": [
      "[8, 22, 5, 4, 3, 3, 2, 1, 1, 0]\n",
      "2\n"
     ]
    }
   ],
   "source": [
    "print(numbers)\n",
    "print(numbers.count(3)) # подсчет ко-ва вхождений элемента в список"
   ]
  },
  {
   "cell_type": "code",
   "execution_count": 25,
   "id": "08af334c",
   "metadata": {},
   "outputs": [
    {
     "name": "stdout",
     "output_type": "stream",
     "text": [
      "[8, 22, 5, 4, 3, 3, 2, 1, 1, 0]\n"
     ]
    }
   ],
   "source": [
    "copy = numbers.copy() #копирует список\n",
    "print(copy)"
   ]
  },
  {
   "cell_type": "code",
   "execution_count": 26,
   "id": "ab69186a",
   "metadata": {},
   "outputs": [
    {
     "data": {
      "text/plain": [
       "[]"
      ]
     },
     "execution_count": 26,
     "metadata": {},
     "output_type": "execute_result"
    }
   ],
   "source": [
    "numbers.clear() #чистит список\n",
    "numbers"
   ]
  },
  {
   "cell_type": "code",
   "execution_count": null,
   "id": "1b883a0c",
   "metadata": {},
   "outputs": [],
   "source": []
  }
 ],
 "metadata": {
  "kernelspec": {
   "display_name": "Python 3",
   "language": "python",
   "name": "python3"
  },
  "language_info": {
   "codemirror_mode": {
    "name": "ipython",
    "version": 3
   },
   "file_extension": ".py",
   "mimetype": "text/x-python",
   "name": "python",
   "nbconvert_exporter": "python",
   "pygments_lexer": "ipython3",
   "version": "3.8.8"
  }
 },
 "nbformat": 4,
 "nbformat_minor": 5
}
