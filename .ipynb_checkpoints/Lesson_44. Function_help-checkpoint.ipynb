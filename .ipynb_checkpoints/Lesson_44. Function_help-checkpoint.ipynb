{
 "cells": [
  {
   "cell_type": "code",
   "execution_count": 1,
   "id": "8b6c4a98",
   "metadata": {},
   "outputs": [],
   "source": [
    "#в жупитере при написании можем воспрользоваться кл tab , которая поможет нам в быстром написании кода\n",
    "numbers = [1,2,3]\n",
    "numbers #с помощью tab, дописалось слово до конца \n",
    "numbers.append(4) #после точки, можно тоже нажать tab и появится список методов\n",
    "\n",
    "\n",
    "\n"
   ]
  },
  {
   "cell_type": "code",
   "execution_count": 2,
   "id": "bc90c619",
   "metadata": {},
   "outputs": [
    {
     "name": "stdout",
     "output_type": "stream",
     "text": [
      "Help on built-in function append:\n",
      "\n",
      "append(object, /) method of builtins.list instance\n",
      "    Append object to the end of the list.\n",
      "\n"
     ]
    }
   ],
   "source": [
    "help(numbers.append) #c помощью help мы узнаем больше об функции "
   ]
  },
  {
   "cell_type": "code",
   "execution_count": null,
   "id": "40754804",
   "metadata": {},
   "outputs": [],
   "source": []
  }
 ],
 "metadata": {
  "kernelspec": {
   "display_name": "Python 3",
   "language": "python",
   "name": "python3"
  },
  "language_info": {
   "codemirror_mode": {
    "name": "ipython",
    "version": 3
   },
   "file_extension": ".py",
   "mimetype": "text/x-python",
   "name": "python",
   "nbconvert_exporter": "python",
   "pygments_lexer": "ipython3",
   "version": "3.8.8"
  }
 },
 "nbformat": 4,
 "nbformat_minor": 5
}
