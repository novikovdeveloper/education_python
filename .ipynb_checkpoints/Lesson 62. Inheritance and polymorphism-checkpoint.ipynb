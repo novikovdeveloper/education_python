{
 "cells": [
  {
   "cell_type": "code",
   "execution_count": 18,
   "id": "8f2e370e",
   "metadata": {},
   "outputs": [],
   "source": [
    "class Shape():\n",
    "    def __init__(self):\n",
    "        print(\"Shape crated\")\n",
    "        \n",
    "    def draw(self):\n",
    "        print(\"Drawing a shape\")\n",
    "        \n",
    "    def area(self):\n",
    "        print(\"Calc area\")\n",
    "        \n",
    "    def perimeter(self):\n",
    "        print(\"Cacl perimeter\")"
   ]
  },
  {
   "cell_type": "code",
   "execution_count": 19,
   "id": "5157fa8d",
   "metadata": {},
   "outputs": [
    {
     "name": "stdout",
     "output_type": "stream",
     "text": [
      "Shape crated\n"
     ]
    }
   ],
   "source": [
    "shape = Shape()"
   ]
  },
  {
   "cell_type": "code",
   "execution_count": 20,
   "id": "a0fece66",
   "metadata": {},
   "outputs": [],
   "source": [
    "class Rectangle(Shape):      #таким образом унаследовали класс. И испаользуем функционал класса Shape\n",
    "    def __init__(self,width,height):\n",
    "        Shape.__init__(self)\n",
    "        \n",
    "        self.width = width\n",
    "        self.height = height\n",
    "        \n",
    "        print(\"Rectangle created\")\n",
    "        \n",
    "        Shape.area(self)\n",
    "        \n",
    "    def area(self):\n",
    "        return self.width * self.height\n",
    "    \n",
    "    def perimeter(self):\n",
    "        return 2*(self.width + self.height)\n",
    "    \n",
    "    def draw(self):\n",
    "        print(f'Drawing rectangle with width = {self.width} and height = {self.height}')\n",
    "        "
   ]
  },
  {
   "cell_type": "code",
   "execution_count": 21,
   "id": "e7f3e48e",
   "metadata": {},
   "outputs": [
    {
     "name": "stdout",
     "output_type": "stream",
     "text": [
      "Shape crated\n",
      "Rectangle created\n",
      "Calc area\n"
     ]
    }
   ],
   "source": [
    "rect = Rectangle(10,15)"
   ]
  },
  {
   "cell_type": "code",
   "execution_count": 22,
   "id": "6faca5f1",
   "metadata": {},
   "outputs": [
    {
     "data": {
      "text/plain": [
       "150"
      ]
     },
     "execution_count": 22,
     "metadata": {},
     "output_type": "execute_result"
    }
   ],
   "source": [
    "rect.area()"
   ]
  },
  {
   "cell_type": "code",
   "execution_count": 23,
   "id": "c98d1af7",
   "metadata": {},
   "outputs": [
    {
     "name": "stdout",
     "output_type": "stream",
     "text": [
      "50\n",
      "Drawing rectangle with width = 10 and height = 15\n",
      "None\n"
     ]
    }
   ],
   "source": [
    "print(rect.perimeter())\n",
    "print(rect.draw())"
   ]
  },
  {
   "cell_type": "code",
   "execution_count": 24,
   "id": "79c9293e",
   "metadata": {},
   "outputs": [],
   "source": [
    "import math \n",
    "class Triangle(Shape):\n",
    "    \n",
    "    def __init__(self,a,b,c):\n",
    "        Shape.__init__(self)\n",
    "        \n",
    "        self.a = a\n",
    "        self.b = b\n",
    "        self.c = c\n",
    "        \n",
    "        print('Triangle created')\n",
    "                                          #переопределяем методы\n",
    "    def draw(self):\n",
    "        print(f'Drawing triangle with sides = {self.a}, {self.b}, {self.c}')\n",
    "        \n",
    "    def area(self):\n",
    "        s = (self.a + self.b + self.c)/2\n",
    "        return math.sqrt(s*(s-self.a)*(s-self.b)*(s-self.c))\n",
    "    \n",
    "    def perimeter(self):\n",
    "        return self.a + self.b + self.c"
   ]
  },
  {
   "cell_type": "code",
   "execution_count": 26,
   "id": "db57578a",
   "metadata": {},
   "outputs": [
    {
     "name": "stdout",
     "output_type": "stream",
     "text": [
      "Shape crated\n",
      "Triangle created\n"
     ]
    }
   ],
   "source": [
    "triangle = Triangle(10,10,10)"
   ]
  },
  {
   "cell_type": "code",
   "execution_count": 28,
   "id": "e75b283f",
   "metadata": {},
   "outputs": [
    {
     "name": "stdout",
     "output_type": "stream",
     "text": [
      "Drawing triangle with sides = 10, 10, 10\n",
      "43.30127018922193\n",
      "30\n"
     ]
    }
   ],
   "source": [
    "triangle.draw()\n",
    "print(triangle.area())\n",
    "print(triangle.perimeter())"
   ]
  },
  {
   "cell_type": "code",
   "execution_count": 29,
   "id": "f3705382",
   "metadata": {},
   "outputs": [
    {
     "name": "stdout",
     "output_type": "stream",
     "text": [
      "Drawing rectangle with width = 10 and height = 15\n",
      "Drawing triangle with sides = 10, 10, 10\n"
     ]
    }
   ],
   "source": [
    "for shape in [rect, triangle]:\n",
    "    shape.draw()"
   ]
  },
  {
   "cell_type": "code",
   "execution_count": null,
   "id": "5641b13c",
   "metadata": {},
   "outputs": [],
   "source": []
  }
 ],
 "metadata": {
  "kernelspec": {
   "display_name": "Python 3",
   "language": "python",
   "name": "python3"
  },
  "language_info": {
   "codemirror_mode": {
    "name": "ipython",
    "version": 3
   },
   "file_extension": ".py",
   "mimetype": "text/x-python",
   "name": "python",
   "nbconvert_exporter": "python",
   "pygments_lexer": "ipython3",
   "version": "3.8.8"
  }
 },
 "nbformat": 4,
 "nbformat_minor": 5
}
