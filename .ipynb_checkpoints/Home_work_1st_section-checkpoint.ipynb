{
 "cells": [
  {
   "cell_type": "code",
   "execution_count": null,
   "id": "1677ad1d",
   "metadata": {},
   "outputs": [],
   "source": []
  },
  {
   "cell_type": "code",
   "execution_count": null,
   "id": "c494eba0",
   "metadata": {},
   "outputs": [],
   "source": []
  },
  {
   "cell_type": "code",
   "execution_count": 36,
   "id": "9473df00",
   "metadata": {},
   "outputs": [
    {
     "name": "stdout",
     "output_type": "stream",
     "text": [
      "3.1\n",
      "3.2\n",
      "3.3\n",
      "3.4\n",
      "0.11\n"
     ]
    }
   ],
   "source": [
    "xa = float(input())\n",
    "xb = float(input())\n",
    "ya = float(input())\n",
    "yb = float(input())\n",
    "\n",
    "import math\n",
    "c = math.sqrt((xb - xa)**2 + (yb - ya)**2)\n",
    "print(f\"{c:1.2f}\")"
   ]
  },
  {
   "cell_type": "markdown",
   "id": "a7c4b118",
   "metadata": {},
   "source": []
  },
  {
   "cell_type": "code",
   "execution_count": 21,
   "id": "9658b86e",
   "metadata": {},
   "outputs": [
    {
     "name": "stdout",
     "output_type": "stream",
     "text": [
      "Введите количество чашек: 666\n",
      "111\n"
     ]
    }
   ],
   "source": [
    "\n",
    "print(int(input('Введите количество чашек: '))//6)\n"
   ]
  },
  {
   "cell_type": "code",
   "execution_count": 9,
   "id": "5a887ec6",
   "metadata": {},
   "outputs": [
    {
     "name": "stdout",
     "output_type": "stream",
     "text": [
      "612\n",
      "2\n"
     ]
    }
   ],
   "source": []
  },
  {
   "cell_type": "code",
   "execution_count": 37,
   "id": "f5133210",
   "metadata": {},
   "outputs": [
    {
     "name": "stdout",
     "output_type": "stream",
     "text": [
      "Введите количество куриц: 2\n",
      "Введите количество свинней: 2\n",
      "Введите количество коров: 2\n",
      "20\n"
     ]
    }
   ],
   "source": [
    "hen = int (input(\"Введите количество куриц: \"))\n",
    "pig = int (input(\"Введите количество свинней: \"))\n",
    "cow = int (input(\"Введите количество коров: \"))\n",
    "\n",
    "total = hen*2 + pig*4 + cow*4\n",
    "\n",
    "print(total)"
   ]
  },
  {
   "cell_type": "code",
   "execution_count": null,
   "id": "2214993b",
   "metadata": {},
   "outputs": [],
   "source": []
  },
  {
   "cell_type": "code",
   "execution_count": 26,
   "id": "9adae7a7",
   "metadata": {},
   "outputs": [
    {
     "name": "stdout",
     "output_type": "stream",
     "text": [
      "Кол-во куриц: 2\n",
      "8\n"
     ]
    }
   ],
   "source": []
  },
  {
   "cell_type": "code",
   "execution_count": null,
   "id": "d8823c39",
   "metadata": {},
   "outputs": [],
   "source": []
  }
 ],
 "metadata": {
  "kernelspec": {
   "display_name": "Python 3",
   "language": "python",
   "name": "python3"
  },
  "language_info": {
   "codemirror_mode": {
    "name": "ipython",
    "version": 3
   },
   "file_extension": ".py",
   "mimetype": "text/x-python",
   "name": "python",
   "nbconvert_exporter": "python",
   "pygments_lexer": "ipython3",
   "version": "3.8.8"
  }
 },
 "nbformat": 4,
 "nbformat_minor": 5
}
