{
 "cells": [
  {
   "cell_type": "code",
   "execution_count": 1,
   "id": "dbb3fabd",
   "metadata": {},
   "outputs": [
    {
     "ename": "TypeError",
     "evalue": "'tuple' object does not support item assignment",
     "output_type": "error",
     "traceback": [
      "\u001b[1;31m---------------------------------------------------------------------------\u001b[0m",
      "\u001b[1;31mTypeError\u001b[0m                                 Traceback (most recent call last)",
      "\u001b[1;32m<ipython-input-1-09e71aae9e3e>\u001b[0m in \u001b[0;36m<module>\u001b[1;34m\u001b[0m\n\u001b[0;32m      1\u001b[0m \u001b[0mstrings\u001b[0m \u001b[1;33m=\u001b[0m \u001b[1;33m(\u001b[0m\u001b[1;34m'str1'\u001b[0m\u001b[1;33m,\u001b[0m \u001b[1;34m'str2'\u001b[0m\u001b[1;33m,\u001b[0m \u001b[1;34m'str3'\u001b[0m\u001b[1;33m)\u001b[0m \u001b[1;31m#так как кортежи неизменяемый тип, перезапись не выйдет\u001b[0m\u001b[1;33m\u001b[0m\u001b[1;33m\u001b[0m\u001b[0m\n\u001b[1;32m----> 2\u001b[1;33m \u001b[0mstrings\u001b[0m\u001b[1;33m[\u001b[0m\u001b[1;36m0\u001b[0m\u001b[1;33m]\u001b[0m \u001b[1;33m=\u001b[0m \u001b[1;34m'str0'\u001b[0m\u001b[1;33m\u001b[0m\u001b[1;33m\u001b[0m\u001b[0m\n\u001b[0m",
      "\u001b[1;31mTypeError\u001b[0m: 'tuple' object does not support item assignment"
     ]
    }
   ],
   "source": [
    "strings = ('str1', 'str2', 'str3') #так как кортежи неизменяемый тип, перезапись не выйдет\n",
    "strings[0] = 'str0'"
   ]
  },
  {
   "cell_type": "code",
   "execution_count": 2,
   "id": "d8b25f18",
   "metadata": {},
   "outputs": [
    {
     "data": {
      "text/plain": [
       "tuple"
      ]
     },
     "execution_count": 2,
     "metadata": {},
     "output_type": "execute_result"
    }
   ],
   "source": [
    "person = ('John', 'Silver', 22) #значения кортежа могут быть определены опред типом\n",
    "type(person)"
   ]
  },
  {
   "cell_type": "code",
   "execution_count": 3,
   "id": "d5bb4dd2",
   "metadata": {},
   "outputs": [
    {
     "data": {
      "text/plain": [
       "3"
      ]
     },
     "execution_count": 3,
     "metadata": {},
     "output_type": "execute_result"
    }
   ],
   "source": [
    "len(person) #определяем сколько элеменов нах в кортеже\n"
   ]
  },
  {
   "cell_type": "code",
   "execution_count": 4,
   "id": "bc965581",
   "metadata": {},
   "outputs": [
    {
     "name": "stdout",
     "output_type": "stream",
     "text": [
      "John\n",
      "22\n"
     ]
    }
   ],
   "source": [
    "print(person[0]) #берем элемент по индексу\n",
    "print(person[-1]) #тоже берем, но с конца "
   ]
  },
  {
   "cell_type": "code",
   "execution_count": 5,
   "id": "992b693b",
   "metadata": {},
   "outputs": [
    {
     "data": {
      "text/plain": [
       "list"
      ]
     },
     "execution_count": 5,
     "metadata": {},
     "output_type": "execute_result"
    }
   ],
   "source": [
    "person_info = ['John', 'Silver', 22]\n",
    "type(person_info)"
   ]
  },
  {
   "cell_type": "code",
   "execution_count": 6,
   "id": "e8ed44ef",
   "metadata": {},
   "outputs": [
    {
     "name": "stdout",
     "output_type": "stream",
     "text": [
      "['Bob', 'Silver', 22]\n"
     ]
    }
   ],
   "source": [
    "person_info[0] = 'Bob' #В данном случае мы обратились к элементу списка и переназначили его (см. тип)\n",
    "print(person_info)"
   ]
  },
  {
   "cell_type": "code",
   "execution_count": 7,
   "id": "6c8417e6",
   "metadata": {},
   "outputs": [
    {
     "ename": "TypeError",
     "evalue": "'tuple' object does not support item assignment",
     "output_type": "error",
     "traceback": [
      "\u001b[1;31m---------------------------------------------------------------------------\u001b[0m",
      "\u001b[1;31mTypeError\u001b[0m                                 Traceback (most recent call last)",
      "\u001b[1;32m<ipython-input-7-6f5e578e0fa2>\u001b[0m in \u001b[0;36m<module>\u001b[1;34m\u001b[0m\n\u001b[1;32m----> 1\u001b[1;33m \u001b[0mperson\u001b[0m\u001b[1;33m[\u001b[0m\u001b[1;36m0\u001b[0m\u001b[1;33m]\u001b[0m \u001b[1;33m=\u001b[0m \u001b[1;34m'Bob'\u001b[0m\u001b[1;33m\u001b[0m\u001b[1;33m\u001b[0m\u001b[0m\n\u001b[0m",
      "\u001b[1;31mTypeError\u001b[0m: 'tuple' object does not support item assignment"
     ]
    }
   ],
   "source": [
    "person[0] = 'Bob'"
   ]
  },
  {
   "cell_type": "code",
   "execution_count": 8,
   "id": "4a27376b",
   "metadata": {},
   "outputs": [
    {
     "data": {
      "text/plain": [
       "1"
      ]
     },
     "execution_count": 8,
     "metadata": {},
     "output_type": "execute_result"
    }
   ],
   "source": [
    "person.count('John') #подсчет элемента в кортеже "
   ]
  },
  {
   "cell_type": "code",
   "execution_count": 9,
   "id": "93881fd4",
   "metadata": {},
   "outputs": [
    {
     "data": {
      "text/plain": [
       "0"
      ]
     },
     "execution_count": 9,
     "metadata": {},
     "output_type": "execute_result"
    }
   ],
   "source": [
    "person.index('John') #подсчет индекса элемента "
   ]
  },
  {
   "cell_type": "code",
   "execution_count": null,
   "id": "d556612f",
   "metadata": {},
   "outputs": [],
   "source": []
  }
 ],
 "metadata": {
  "kernelspec": {
   "display_name": "Python 3",
   "language": "python",
   "name": "python3"
  },
  "language_info": {
   "codemirror_mode": {
    "name": "ipython",
    "version": 3
   },
   "file_extension": ".py",
   "mimetype": "text/x-python",
   "name": "python",
   "nbconvert_exporter": "python",
   "pygments_lexer": "ipython3",
   "version": "3.8.8"
  }
 },
 "nbformat": 4,
 "nbformat_minor": 5
}
