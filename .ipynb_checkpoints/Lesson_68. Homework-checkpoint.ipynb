{
 "cells": [
  {
   "cell_type": "code",
   "execution_count": 5,
   "id": "cc618b5d",
   "metadata": {},
   "outputs": [],
   "source": [
    "class Pizza:\n",
    "    \n",
    "    order = 0                               #обьявим статический счетчик\n",
    "        \n",
    "        \n",
    "    def __init__(self, ingridients):\n",
    "        self.ingridients = ingridients\n",
    "        Pizza.order += 1                         #обратимся к статическому члену класса\n",
    "        self.order_number =  Pizza.order\n",
    "        \n",
    "        \n",
    "    @classmethod\n",
    "    def hawaiian(cls):\n",
    "        return cls(['ham', 'pineaple'])\n",
    "    \n",
    "    @classmethod\n",
    "    def meat_festival(cls):\n",
    "        return cls(['beef', 'meatbol', 'bacon'])\n",
    "    \n",
    "    @classmethod\n",
    "    def garden_fest(cls):\n",
    "        return cls(['spinach', 'olives', 'mushroom'])\n",
    "        \n",
    "        "
   ]
  },
  {
   "cell_type": "code",
   "execution_count": 6,
   "id": "22783c33",
   "metadata": {},
   "outputs": [
    {
     "name": "stdout",
     "output_type": "stream",
     "text": [
      "4\n",
      "1\n",
      "2\n",
      "3\n",
      "4\n"
     ]
    }
   ],
   "source": [
    "p1 = Pizza(['ham', 'bacon'])\n",
    "p2 = Pizza.garden_fest()\n",
    "p3 = Pizza.hawaiian()\n",
    "p4 = Pizza(['beef', 'olives'])\n",
    "\n",
    "print(Pizza.order)\n",
    "print(p1.order_number)\n",
    "print(p2.order_number)\n",
    "print(p3.order_number)\n",
    "print(p4.order_number)"
   ]
  },
  {
   "cell_type": "code",
   "execution_count": 8,
   "id": "e4928046",
   "metadata": {},
   "outputs": [],
   "source": [
    "import math\n",
    "class Circle:\n",
    "    def __init__(self, r=0):\n",
    "        self.r = r\n",
    "        \n",
    "        \n",
    "    def get_area(self):\n",
    "        return math.pi * self.r **2\n",
    "    \n",
    "    def get_perimiter(self):\n",
    "        return 2*math.pi*self.r\n",
    "    "
   ]
  },
  {
   "cell_type": "code",
   "execution_count": 9,
   "id": "610ed2b1",
   "metadata": {},
   "outputs": [
    {
     "data": {
      "text/plain": [
       "27.897342763877365"
      ]
     },
     "execution_count": 9,
     "metadata": {},
     "output_type": "execute_result"
    }
   ],
   "source": [
    "c = Circle(4.44)\n",
    "c.get_perimiter()"
   ]
  },
  {
   "cell_type": "code",
   "execution_count": 10,
   "id": "67744715",
   "metadata": {},
   "outputs": [
    {
     "data": {
      "text/plain": [
       "61.93210093580775"
      ]
     },
     "execution_count": 10,
     "metadata": {},
     "output_type": "execute_result"
    }
   ],
   "source": [
    "c.get_area()"
   ]
  },
  {
   "cell_type": "code",
   "execution_count": 13,
   "id": "b563bd3f",
   "metadata": {},
   "outputs": [],
   "source": [
    "prices = {\"Strawberries\" : 1.5, \"Banana\" : 0.5, \"Mango\" : 2.5,\n",
    "          \"Blueberries\" : 1, \"Raspberries\" : 1, \"Apple\" : 1.75,\n",
    "          \"Pineapple\" : 3.5}\n"
   ]
  },
  {
   "cell_type": "code",
   "execution_count": 14,
   "id": "761dcc2e",
   "metadata": {},
   "outputs": [],
   "source": [
    "class Beverage:\n",
    "    \n",
    "    def __init__(self,ingredients):\n",
    "        self.ingredients = ingredients\n",
    "        self.cost = sum([prices[fruit] for fruit in self.ingredients])\n",
    "        self.price = self.cost*2.5\n",
    "        \n",
    "    def get_cost(self):\n",
    "        return f'${self.cost:.2f}'  #цена в формате 2х точек после запятой\n",
    "    \n",
    "    def get_price(self):\n",
    "        return f'${self.price:.2f}'\n",
    "    \n",
    "    def get_name(self):\n",
    "        lst = sorted([i.replace('ies', 'y') for i in self.ingredients])\n",
    "        return f'{\" \".join(lst)} {\"Fusion\" if len(lst) > 1 else \"Smoothe\"}'\n",
    "    "
   ]
  },
  {
   "cell_type": "code",
   "execution_count": 15,
   "id": "85c8d8e3",
   "metadata": {},
   "outputs": [
    {
     "name": "stdout",
     "output_type": "stream",
     "text": [
      "['Banana']\n",
      "$0.50\n",
      "$1.25\n",
      "Banana Smoothe\n"
     ]
    }
   ],
   "source": [
    "b1 = Beverage(['Banana'])\n",
    "print(b1.ingredients)\n",
    "print(b1.get_cost())\n",
    "print(b1.get_price())\n",
    "print(b1.get_name())"
   ]
  },
  {
   "cell_type": "code",
   "execution_count": 16,
   "id": "5969e1d5",
   "metadata": {},
   "outputs": [
    {
     "name": "stdout",
     "output_type": "stream",
     "text": [
      "['Banana', 'Strawberries', 'Blueberries']\n",
      "$3.00\n",
      "$7.50\n",
      "Banana Blueberry Strawberry Fusion\n"
     ]
    }
   ],
   "source": [
    "b1 = Beverage([\"Banana\",\"Strawberries\", \"Blueberries\" ])\n",
    "print(b1.ingredients)\n",
    "print(b1.get_cost())\n",
    "print(b1.get_price())\n",
    "print(b1.get_name())"
   ]
  },
  {
   "cell_type": "code",
   "execution_count": null,
   "id": "a247ad32",
   "metadata": {},
   "outputs": [],
   "source": []
  }
 ],
 "metadata": {
  "kernelspec": {
   "display_name": "Python 3",
   "language": "python",
   "name": "python3"
  },
  "language_info": {
   "codemirror_mode": {
    "name": "ipython",
    "version": 3
   },
   "file_extension": ".py",
   "mimetype": "text/x-python",
   "name": "python",
   "nbconvert_exporter": "python",
   "pygments_lexer": "ipython3",
   "version": "3.8.8"
  }
 },
 "nbformat": 4,
 "nbformat_minor": 5
}
