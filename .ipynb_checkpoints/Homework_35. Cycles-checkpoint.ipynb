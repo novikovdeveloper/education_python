{
 "cells": [
  {
   "cell_type": "code",
   "execution_count": 1,
   "id": "57b66c00",
   "metadata": {},
   "outputs": [
    {
     "name": "stdout",
     "output_type": "stream",
     "text": [
      "Введите число 3\n",
      "0 is even\n",
      "2 is even\n",
      "3 is odd\n"
     ]
    }
   ],
   "source": [
    "#Запросить у пользователя ввод числа. Построить цикл от 0 до введённого числа (включительно)\n",
    "#и для чётных чисел вывести то, что они чётные, а для нечётных, что они нечётные\n",
    "\n",
    "\n",
    "limit = int(input('Введите число '))\n",
    "\n",
    "for x in range(limit + 1):\n",
    "     if x % 2 == 0:\n",
    "        print(f'{x} is even')\n",
    "else:\n",
    "        print(f'{x} is odd')"
   ]
  },
  {
   "cell_type": "code",
   "execution_count": null,
   "id": "b2a5b775",
   "metadata": {},
   "outputs": [],
   "source": [
    "\n"
   ]
  },
  {
   "cell_type": "code",
   "execution_count": null,
   "id": "3ec61c4a",
   "metadata": {},
   "outputs": [],
   "source": []
  },
  {
   "cell_type": "code",
   "execution_count": 2,
   "id": "e1f28323",
   "metadata": {},
   "outputs": [
    {
     "name": "stdout",
     "output_type": "stream",
     "text": [
      "Введите кол-во строк7\n",
      "*\n",
      "**\n",
      "***\n",
      "****\n",
      "*****\n",
      "******\n",
      "*******\n"
     ]
    }
   ],
   "source": [
    "#Задание:\n",
    "#Вывести лесенкой символ звёздочки по кол-ву строк, заданных пользователем:\n",
    "#запросить ввод у пользователя кол-ва строк, вывести звёздочки лесенкой\n",
    "\n",
    "\n",
    "rows = int(input(\"Введите кол-во строк\"))\n",
    "for x in range(rows):\n",
    "    print('*' *(x+1))"
   ]
  },
  {
   "cell_type": "code",
   "execution_count": null,
   "id": "fee8ef31",
   "metadata": {},
   "outputs": [],
   "source": [
    "\n"
   ]
  },
  {
   "cell_type": "code",
   "execution_count": 17,
   "id": "c38ce2a2",
   "metadata": {},
   "outputs": [
    {
     "name": "stdout",
     "output_type": "stream",
     "text": [
      "0\n",
      "0\n",
      "3\n",
      "5\n",
      "6\n",
      "9\n",
      "10\n"
     ]
    }
   ],
   "source": [
    "\n",
    "\n",
    "for i in range(0,11):\n",
    "    if i %  3 ==0:\n",
    "        print(i)\n",
    "    if i % 5 ==0:\n",
    "        print(i)"
   ]
  },
  {
   "cell_type": "code",
   "execution_count": null,
   "id": "0cdef98b",
   "metadata": {},
   "outputs": [],
   "source": []
  },
  {
   "cell_type": "code",
   "execution_count": 4,
   "id": "f3d48120",
   "metadata": {},
   "outputs": [
    {
     "data": {
      "text/plain": [
       "33"
      ]
     },
     "execution_count": 4,
     "metadata": {},
     "output_type": "execute_result"
    }
   ],
   "source": [
    "#Построить цикл от нуля до введенного числа( в моем примере до 10), и посчитать сумму всех чисел,\n",
    "#делимых без остатка на 3 и 5 \n",
    "\n",
    "sum(x for x in range(0,11) if x % 3 ==0 or x % 5 == 0 )"
   ]
  },
  {
   "cell_type": "code",
   "execution_count": null,
   "id": "feffb8d4",
   "metadata": {},
   "outputs": [],
   "source": []
  },
  {
   "cell_type": "code",
   "execution_count": 18,
   "id": "3d3eaa1b",
   "metadata": {},
   "outputs": [
    {
     "name": "stdout",
     "output_type": "stream",
     "text": [
      "Введите длину списка 17\n",
      "Введите длину списка 5\n"
     ]
    },
    {
     "data": {
      "text/plain": [
       "[9, 11, 13, 15, 0, 2, 4]"
      ]
     },
     "execution_count": 18,
     "metadata": {},
     "output_type": "execute_result"
    }
   ],
   "source": [
    "#Взять из первого списка четкные числа, из второго нечетные и обьединисть их в общем спике (допустим, что в первом от 8)\n",
    "\n",
    "\n",
    "first_lst = int(input('Введите длину списка '))\n",
    "second_lst = int(input('Введите длину списка '))\n",
    "\n",
    "nechet = [i for i in range(8,first_lst) if i %2 ==1]\n",
    "chet = [x for x in range(0,second_lst) if x %2 ==0]\n",
    "joined_list = nechet + chet\n",
    "joined_list"
   ]
  },
  {
   "cell_type": "code",
   "execution_count": null,
   "id": "26b8effe",
   "metadata": {},
   "outputs": [],
   "source": [
    "\n",
    "\n"
   ]
  },
  {
   "cell_type": "code",
   "execution_count": 1,
   "id": "1d61664c",
   "metadata": {},
   "outputs": [
    {
     "name": "stdout",
     "output_type": "stream",
     "text": [
      "2\n"
     ]
    }
   ],
   "source": [
    "# У нас есть рука current_hand, каждая карта имеет свой вес.\n",
    "#необходимо посчитать вес указанной, или любой другой руки\n",
    "\n",
    "current_hand = [2,3,4,10,'Q',5]\n",
    "cards = {2:+1, 3:+1, 4:+1, 5:+1, 6:+1, 7:0, 8:0, 9:0, 10:-1, 'Q':-1, 'K':-1, 'A':-1}\n",
    "total = sum([cards[x] for x in current_hand]) #обращаемся к словарю по ключу cards[x], возвращает вес текущей карты\n",
    "print(total)"
   ]
  },
  {
   "cell_type": "code",
   "execution_count": 8,
   "id": "3d9af00d",
   "metadata": {},
   "outputs": [
    {
     "name": "stdout",
     "output_type": "stream",
     "text": [
      "No Flush\n"
     ]
    }
   ],
   "source": [
    "#Играем в техасский покер, нужно вывести flush, при условии что в руке и на столе появится 5 карт одной масти\n",
    "table_cards = [\"A_S\", \"J_H\", \"7_D\", \"8_D\", \"10_D\"]\n",
    "hand_cards = [\"J_D\", \"3_D\"]\n",
    "\n",
    "table_suites = [i[-1]  for i in table_cards] #достанем по индексу масть(последний символ в элементе списка; -1)\n",
    "hand_suites = [i[-1]  for i in hand_cards] #Достаем тоже самое из второго списка \n",
    "\n",
    "suites_in_game = table_suites + hand_suites\n",
    "\n",
    "#обьявили переменную в цикле for по 4 мастям и на каждой интерации смотреть в списке suites_in_game кол-во,\n",
    "#более или равно 5, совпадающее по масти. 4 итерации, для проверки в suites_in_game что масть всречается 5 раз(print flush)\n",
    "\n",
    "flush = False\n",
    "for suit in 'CHSD': \n",
    "    if suites_in_game.count(suit) >= 5: #подсчитаем ко-ло вхождений некого значения в списки\n",
    "        flush = True\n",
    "        \n",
    "if flush:                #если flush = true \n",
    "    print('Flush!')\n",
    "else:\n",
    "    print('No Flush')\n"
   ]
  },
  {
   "cell_type": "code",
   "execution_count": 9,
   "id": "713c15d7",
   "metadata": {},
   "outputs": [
    {
     "name": "stdout",
     "output_type": "stream",
     "text": [
      "Flush!\n"
     ]
    }
   ],
   "source": [
    "#Еще один вариант решения данной задачи. лучше использовать такой вариант \n",
    "table_cards = [\"A_S\", \"J_H\", \"7_D\", \"8_D\", \"10_D\"]\n",
    "hand_cards = [\"J_D\", \"3_D\"]\n",
    "\n",
    "table_suites = [i[-1]  for i in table_cards] #достанем по индексу масть(последний символ в элементе списка; -1)\n",
    "hand_suites = [i[-1]  for i in hand_cards] #Достаем тоже самое из второго списка \n",
    "\n",
    "suites_in_game = table_suites + hand_suites\n",
    "\n",
    "\n",
    "flush = any([suites_in_game.count(suit) >=5 for suit in  'CHSD']) #идем в цикле по строкам и ввыводим их зна-я в переменной suit\n",
    "#нам возвращается список из true и false \n",
    "#проинициализируем в переменную flush с помощью ф-и any, оно венет true, если в списке есть хоть одно зн-е flush\n",
    "        \n",
    "if flush:                #если flush = true \n",
    "    print('Flush!')\n",
    "else:\n",
    "    print('No Flush')\n"
   ]
  },
  {
   "cell_type": "code",
   "execution_count": 11,
   "id": "72f189e7",
   "metadata": {},
   "outputs": [
    {
     "name": "stdout",
     "output_type": "stream",
     "text": [
      "No Flush\n"
     ]
    }
   ],
   "source": [
    "#И еще один вариант, более короткий, но менее понятный и читаемый\n",
    "table_cards = [\"A_S\", \"J_H\", \"7_D\", \"8_D\", \"10_D\"]\n",
    "hand_cards = [\"J_D\", \"3_D\"]\n",
    "\n",
    "flush = any([sum([card[-1] == suit for card in table_cards + hand_cards]) >=5 for suit in 'CHSD'])\n",
    "#конструкция с внутренним list comprehension. Ф-я sum(), применимая для boolean, складывает true зн-я\n",
    "\n",
    "if flush:                #если flush = true \n",
    "    print('Flush!')\n",
    "else:\n",
    "    print('No Flush')"
   ]
  },
  {
   "cell_type": "code",
   "execution_count": null,
   "id": "44649dda",
   "metadata": {},
   "outputs": [],
   "source": [
    "#Компьютер загадывает число от 1 до 50 и даёт 6 попыток пользователю, чтобы тот смог угадать загаданное число. \n",
    "#Когда пользователь вводит число, компьютер проверяет угадано ли число и если не угадано, то сообщает пользователю \n",
    "#меньше ли или больше загаданое число. Если пользователь угадал - то сообщает о том, что число отгадано.\n",
    "\n",
    "import randoom #итмпортируем модуль для рандомного выборе компьютером числа\n",
    "\n",
    "tries = 0 #ввели переменную кол-ва числа попыток\n",
    "number = random.randint(1,50) #randint ф-я для рандомнного выбора числа в заданном диапазоне\n",
    "\n",
    "print('Попробуйте отгадать задуманное число от 1 до 50')\n",
    "while tries <=6:\n",
    "    guess = int(input('Введите число '))\n",
    "    \n",
    "    tries + 1 #инкрементируем кол-во попыток на +1\n",
    "    if guess < number:\n",
    "        print('Ваше число меньше задуманного')\n",
    "    if guess > number:\n",
    "        print('Ваше число больше задуманного')\n",
    "    if guess = number:\n",
    "        print('Вы угадали число! ')\n",
    "        #sssss"
   ]
  }
 ],
 "metadata": {
  "kernelspec": {
   "display_name": "Python 3",
   "language": "python",
   "name": "python3"
  },
  "language_info": {
   "codemirror_mode": {
    "name": "ipython",
    "version": 3
   },
   "file_extension": ".py",
   "mimetype": "text/x-python",
   "name": "python",
   "nbconvert_exporter": "python",
   "pygments_lexer": "ipython3",
   "version": "3.8.8"
  }
 },
 "nbformat": 4,
 "nbformat_minor": 5
}
