{
 "cells": [
  {
   "cell_type": "code",
   "execution_count": 2,
   "id": "c46cb6ad",
   "metadata": {},
   "outputs": [
    {
     "name": "stdout",
     "output_type": "stream",
     "text": [
      "Hello world!\n"
     ]
    }
   ],
   "source": [
    "def Hello_world():\n",
    "    print('Hello world!')\n",
    "Hello_world()"
   ]
  },
  {
   "cell_type": "code",
   "execution_count": 4,
   "id": "58b231ee",
   "metadata": {},
   "outputs": [
    {
     "name": "stdout",
     "output_type": "stream",
     "text": [
      "Hello world!\n"
     ]
    }
   ],
   "source": [
    "hello2 = Hello_world               #вызов ф-и не делаем, а ф-ю присваиваем переменной (ф-я содержит ссылку)\n",
    "hello2()"
   ]
  },
  {
   "cell_type": "code",
   "execution_count": 5,
   "id": "e9d12107",
   "metadata": {},
   "outputs": [],
   "source": [
    "def hello_world():\n",
    "    def internal():\n",
    "        print('Hello world!')\n",
    "    return internal"
   ]
  },
  {
   "cell_type": "code",
   "execution_count": 6,
   "id": "4547d0f0",
   "metadata": {},
   "outputs": [
    {
     "data": {
      "text/plain": [
       "<function __main__.hello_world.<locals>.internal()>"
      ]
     },
     "execution_count": 6,
     "metadata": {},
     "output_type": "execute_result"
    }
   ],
   "source": [
    "hello2 = hello_world()                 #из ф-и hello2 будет возвращена ссылка на ф-ю internal.Тут мы вызываем ф-ю ()\n",
    "hello2"
   ]
  },
  {
   "cell_type": "code",
   "execution_count": 8,
   "id": "5c115080",
   "metadata": {},
   "outputs": [
    {
     "name": "stdout",
     "output_type": "stream",
     "text": [
      "Hello world!\n"
     ]
    }
   ],
   "source": [
    "hello2()"
   ]
  },
  {
   "cell_type": "code",
   "execution_count": 11,
   "id": "1fbf480e",
   "metadata": {},
   "outputs": [
    {
     "name": "stdout",
     "output_type": "stream",
     "text": [
      "Hello world!\n"
     ]
    }
   ],
   "source": [
    "#ф-и могут принимать в качестве аргументов другие ф-и\n",
    "\n",
    "def say_something(func):\n",
    "    func()                      #ф-я вызывает ф-ю, которую ей передали\n",
    "    \n",
    "def hello_world():\n",
    "    print('Hello world!')\n",
    "\n",
    "say_something(hello_world)\n"
   ]
  },
  {
   "cell_type": "code",
   "execution_count": 37,
   "id": "16a93a90",
   "metadata": {},
   "outputs": [],
   "source": [
    "#Декораторы- ф-ии, которые содержат в себе обертку(wraper'ы), с помощью которой можно обернуть ф-ю,\n",
    "#передаваемую в качестве обьекта\n",
    "#Для примера, создадим декоратор, который логирует начало и конец вызова ф-ии\n",
    "\n",
    "def log_decorator(func):\n",
    "    def wrap():\n",
    "        print(f'Calling func {func}')\n",
    "        func()\n",
    "        print(f'Func {func} is finished!')\n",
    "    return wrap\n",
    "    "
   ]
  },
  {
   "cell_type": "code",
   "execution_count": 38,
   "id": "e19bd1d5",
   "metadata": {},
   "outputs": [],
   "source": [
    "def hello():\n",
    "    print('Hello world!')"
   ]
  },
  {
   "cell_type": "code",
   "execution_count": 39,
   "id": "f15e7f99",
   "metadata": {},
   "outputs": [
    {
     "name": "stdout",
     "output_type": "stream",
     "text": [
      "Calling func <function hello at 0x000002EFAAE86D30>\n",
      "Hello world!\n",
      "Func <function hello at 0x000002EFAAE86D30> is finished!\n"
     ]
    }
   ],
   "source": [
    "wrapped_by_logger = log_decorator(hello)\n",
    "wrapped_by_logger()"
   ]
  },
  {
   "cell_type": "code",
   "execution_count": 40,
   "id": "aea5ef12",
   "metadata": {},
   "outputs": [],
   "source": [
    "@log_decorator # так запись короче, ф-я передается в соответсвующую сразу же \n",
    "def hello():\n",
    "    print('Hello world!')\n",
    "    "
   ]
  },
  {
   "cell_type": "code",
   "execution_count": 41,
   "id": "c2e120c9",
   "metadata": {},
   "outputs": [
    {
     "name": "stdout",
     "output_type": "stream",
     "text": [
      "Calling func <function hello at 0x000002EFAB1623A0>\n",
      "Hello world!\n",
      "Func <function hello at 0x000002EFAB1623A0> is finished!\n"
     ]
    }
   ],
   "source": [
    "hello()"
   ]
  },
  {
   "cell_type": "code",
   "execution_count": 43,
   "id": "cbe31252",
   "metadata": {},
   "outputs": [],
   "source": [
    "#пример декоратора с измерением скорости работы ф-ий. Сначала импорты\n",
    "\n",
    "from timeit import default_timer as timer \n",
    "import math\n",
    "import time \n"
   ]
  },
  {
   "cell_type": "code",
   "execution_count": 53,
   "id": "ca975e54",
   "metadata": {},
   "outputs": [],
   "source": [
    "def measure_time(func):\n",
    "    def inner(*args, **kwargs):\n",
    "        start = timer()              #измерим текущее время, вызвав таймер\n",
    "        \n",
    "        func(*args, **kwargs)\n",
    "        \n",
    "        end = timer()                #после вызова ф-ии, замеряем время\n",
    "        \n",
    "        print(f'Function {func.__name__} took {end-start} for execution')\n",
    "    return inner\n",
    "    \n",
    "    "
   ]
  },
  {
   "cell_type": "code",
   "execution_count": 54,
   "id": "f3e4411f",
   "metadata": {},
   "outputs": [],
   "source": [
    "@measure_time        #навесим декоратор \n",
    "def factorial(num):\n",
    "    time.sleep(3)  #подождем 3 сек, чтобы узнать что measure_time действительно работает\n",
    "    print(math.factorial(num))"
   ]
  },
  {
   "cell_type": "code",
   "execution_count": 55,
   "id": "5bd70cca",
   "metadata": {},
   "outputs": [
    {
     "name": "stdout",
     "output_type": "stream",
     "text": [
      "93326215443944152681699238856266700490715968264381621468592963895217599993229915608941463976156518286253697920827223758251185210916864000000000000000000000000\n",
      "Function factorial took 3.006144399999812 for execution\n"
     ]
    }
   ],
   "source": [
    "factorial(100)"
   ]
  },
  {
   "cell_type": "code",
   "execution_count": null,
   "id": "df4d84c8",
   "metadata": {},
   "outputs": [],
   "source": []
  }
 ],
 "metadata": {
  "kernelspec": {
   "display_name": "Python 3",
   "language": "python",
   "name": "python3"
  },
  "language_info": {
   "codemirror_mode": {
    "name": "ipython",
    "version": 3
   },
   "file_extension": ".py",
   "mimetype": "text/x-python",
   "name": "python",
   "nbconvert_exporter": "python",
   "pygments_lexer": "ipython3",
   "version": "3.8.8"
  }
 },
 "nbformat": 4,
 "nbformat_minor": 5
}
