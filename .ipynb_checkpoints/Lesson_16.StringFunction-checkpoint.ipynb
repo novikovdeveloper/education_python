{
 "cells": [
  {
   "cell_type": "code",
   "execution_count": 1,
   "id": "58bcd606",
   "metadata": {},
   "outputs": [
    {
     "data": {
      "text/plain": [
       "22"
      ]
     },
     "execution_count": 1,
     "metadata": {},
     "output_type": "execute_result"
    }
   ],
   "source": [
    "x = \"Hello,my name is Denis\"\n",
    "len(x)"
   ]
  },
  {
   "cell_type": "code",
   "execution_count": 2,
   "id": "fc291142",
   "metadata": {},
   "outputs": [
    {
     "data": {
      "text/plain": [
       "'s'"
      ]
     },
     "execution_count": 2,
     "metadata": {},
     "output_type": "execute_result"
    }
   ],
   "source": [
    "x[len(x)-1]"
   ]
  },
  {
   "cell_type": "code",
   "execution_count": 3,
   "id": "93b12cbc",
   "metadata": {},
   "outputs": [
    {
     "data": {
      "text/plain": [
       "2"
      ]
     },
     "execution_count": 3,
     "metadata": {},
     "output_type": "execute_result"
    }
   ],
   "source": [
    "x.count(\"i\")"
   ]
  },
  {
   "cell_type": "code",
   "execution_count": 6,
   "id": "bd70a30a",
   "metadata": {},
   "outputs": [
    {
     "data": {
      "text/plain": [
       "'Hello,my name is denis'"
      ]
     },
     "execution_count": 6,
     "metadata": {},
     "output_type": "execute_result"
    }
   ],
   "source": [
    "x.capitalize()"
   ]
  },
  {
   "cell_type": "code",
   "execution_count": 7,
   "id": "77a6fffe",
   "metadata": {},
   "outputs": [
    {
     "name": "stdout",
     "output_type": "stream",
     "text": [
      "HELLO,MY NAME IS DENIS\n"
     ]
    }
   ],
   "source": [
    "upper_cased = x.upper()\n",
    "print(upper_cased)"
   ]
  },
  {
   "cell_type": "code",
   "execution_count": 8,
   "id": "15651dd9",
   "metadata": {},
   "outputs": [
    {
     "name": "stdout",
     "output_type": "stream",
     "text": [
      "hello,my name is denis\n"
     ]
    }
   ],
   "source": [
    "lower_cased = x.lower()\n",
    "print(lower_cased)"
   ]
  },
  {
   "cell_type": "code",
   "execution_count": 9,
   "id": "ceef1602",
   "metadata": {},
   "outputs": [
    {
     "data": {
      "text/plain": [
       "'Hello,my name is Denis'"
      ]
     },
     "execution_count": 9,
     "metadata": {},
     "output_type": "execute_result"
    }
   ],
   "source": [
    "x\n"
   ]
  },
  {
   "cell_type": "code",
   "execution_count": 11,
   "id": "17bef78a",
   "metadata": {},
   "outputs": [
    {
     "name": "stdout",
     "output_type": "stream",
     "text": [
      "True\n",
      "True\n",
      "False\n",
      "False\n"
     ]
    }
   ],
   "source": [
    "print(upper_cased.isupper())\n",
    "print(lower_cased.islower())\n",
    "print(x.isupper())\n",
    "print(x.islower())\n",
    "\n"
   ]
  },
  {
   "cell_type": "code",
   "execution_count": 13,
   "id": "4487f16e",
   "metadata": {},
   "outputs": [
    {
     "name": "stdout",
     "output_type": "stream",
     "text": [
      "2\n",
      "-1\n",
      "-1\n",
      "11\n"
     ]
    }
   ],
   "source": [
    "print(x.find(\"l\"))\n",
    "print(x.find(\"l\", 5)) \n",
    "print(x.find(\"l\", 5, 10))\n",
    "print(x.find(\"m\", 8, 15))\n",
    "#минусовой результат означает что символ не найден"
   ]
  },
  {
   "cell_type": "code",
   "execution_count": 16,
   "id": "4a2831d3",
   "metadata": {},
   "outputs": [
    {
     "name": "stdout",
     "output_type": "stream",
     "text": [
      "True\n",
      "False\n"
     ]
    }
   ],
   "source": [
    "print(\"123abc\".isalnum())\n",
    "print(\"123abc!\".isalnum())"
   ]
  },
  {
   "cell_type": "code",
   "execution_count": 17,
   "id": "fef0f59a",
   "metadata": {},
   "outputs": [
    {
     "name": "stdout",
     "output_type": "stream",
     "text": [
      "False\n"
     ]
    }
   ],
   "source": [
    "print(\"123abc\".isalpha())"
   ]
  },
  {
   "cell_type": "code",
   "execution_count": 18,
   "id": "87e7b376",
   "metadata": {},
   "outputs": [
    {
     "name": "stdout",
     "output_type": "stream",
     "text": [
      "False\n"
     ]
    }
   ],
   "source": [
    "print(\"123\".isalpha())"
   ]
  },
  {
   "cell_type": "code",
   "execution_count": 19,
   "id": "c7b329fc",
   "metadata": {},
   "outputs": [
    {
     "name": "stdout",
     "output_type": "stream",
     "text": [
      "True\n"
     ]
    }
   ],
   "source": [
    "print(\"abc\".isalpha())\n"
   ]
  },
  {
   "cell_type": "code",
   "execution_count": 20,
   "id": "36bb2c4d",
   "metadata": {},
   "outputs": [
    {
     "name": "stdout",
     "output_type": "stream",
     "text": [
      "True\n"
     ]
    }
   ],
   "source": [
    "print(\"    \".isspace())"
   ]
  },
  {
   "cell_type": "code",
   "execution_count": 21,
   "id": "18a72c82",
   "metadata": {},
   "outputs": [
    {
     "name": "stdout",
     "output_type": "stream",
     "text": [
      "False\n"
     ]
    }
   ],
   "source": [
    "print(\"\".isspace())  #вернуло false, так как пробел-является тоже символом"
   ]
  },
  {
   "cell_type": "code",
   "execution_count": 22,
   "id": "d5cef07c",
   "metadata": {},
   "outputs": [
    {
     "name": "stdout",
     "output_type": "stream",
     "text": [
      "True\n"
     ]
    }
   ],
   "source": [
    "empty_string = \"\"\n",
    "print(empty_string == \"\")"
   ]
  },
  {
   "cell_type": "code",
   "execution_count": 23,
   "id": "0b3e0b09",
   "metadata": {},
   "outputs": [
    {
     "name": "stdout",
     "output_type": "stream",
     "text": [
      "False\n"
     ]
    }
   ],
   "source": [
    "empty_string = \"   \"\n",
    "print(empty_string == \"\")"
   ]
  },
  {
   "cell_type": "code",
   "execution_count": 24,
   "id": "625f9e6f",
   "metadata": {},
   "outputs": [
    {
     "name": "stdout",
     "output_type": "stream",
     "text": [
      "True\n"
     ]
    }
   ],
   "source": [
    "empty_string = \"  \"\n",
    "print(empty_string.strip(\" \") == \"\")"
   ]
  },
  {
   "cell_type": "code",
   "execution_count": 26,
   "id": "0f2961a0",
   "metadata": {},
   "outputs": [
    {
     "name": "stdout",
     "output_type": "stream",
     "text": [
      "empty\n"
     ]
    }
   ],
   "source": [
    "empty_string = \"\"\n",
    "if not empty_string:\n",
    "    print(\"not empty\")\n",
    "else:\n",
    "    print(\"empty\")"
   ]
  },
  {
   "cell_type": "code",
   "execution_count": 28,
   "id": "8965709d",
   "metadata": {},
   "outputs": [
    {
     "name": "stdout",
     "output_type": "stream",
     "text": [
      "True\n",
      "True\n"
     ]
    }
   ],
   "source": [
    "h = \"hello\"\n",
    "print(h.startswith(\"h\"))\n",
    "print(h.endswith(\"lo\"))"
   ]
  },
  {
   "cell_type": "code",
   "execution_count": 29,
   "id": "a4f94dd9",
   "metadata": {},
   "outputs": [
    {
     "name": "stdout",
     "output_type": "stream",
     "text": [
      "<class 'list'>\n",
      "['he', '', 'o']\n",
      "['h', 'llo']\n"
     ]
    }
   ],
   "source": [
    "split = h.split(\"l\")\n",
    "print(type(split))\n",
    "print(split)\n",
    "split = h.split(\"e\")\n",
    "print(split)"
   ]
  },
  {
   "cell_type": "code",
   "execution_count": 34,
   "id": "6f4449cf",
   "metadata": {},
   "outputs": [
    {
     "name": "stdout",
     "output_type": "stream",
     "text": [
      "['12', '10', '8', '10']\n"
     ]
    }
   ],
   "source": [
    "data = \"12;10;8;10\"\n",
    "separetaed_data = data.split(\";\")\n",
    "print(separetaed_data)"
   ]
  },
  {
   "cell_type": "code",
   "execution_count": 35,
   "id": "9f475d5d",
   "metadata": {},
   "outputs": [
    {
     "name": "stdout",
     "output_type": "stream",
     "text": [
      "('python ', 'is ', 'fun')\n",
      "('python is fun', '', '')\n",
      "('python ', 'is', \" fun, isn't it\")\n"
     ]
    }
   ],
   "source": [
    "python = \"python is fun\"\n",
    "print(python.partition(\"is \"))\n",
    "print(python.partition(\"not \"))\n",
    "\n",
    "python = \"python is fun, isn't it\"\n",
    "print(python.partition(\"is\"))"
   ]
  },
  {
   "cell_type": "code",
   "execution_count": null,
   "id": "651ca86f",
   "metadata": {},
   "outputs": [],
   "source": []
  }
 ],
 "metadata": {
  "kernelspec": {
   "display_name": "Python 3",
   "language": "python",
   "name": "python3"
  },
  "language_info": {
   "codemirror_mode": {
    "name": "ipython",
    "version": 3
   },
   "file_extension": ".py",
   "mimetype": "text/x-python",
   "name": "python",
   "nbconvert_exporter": "python",
   "pygments_lexer": "ipython3",
   "version": "3.8.8"
  }
 },
 "nbformat": 4,
 "nbformat_minor": 5
}
