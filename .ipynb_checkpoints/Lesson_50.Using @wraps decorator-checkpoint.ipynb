{
 "cells": [
  {
   "cell_type": "code",
   "execution_count": 7,
   "id": "4f81ad42",
   "metadata": {},
   "outputs": [],
   "source": [
    "def log_decorator(func):\n",
    "    def wrap():\n",
    "        print(f'Calling func {func}')\n",
    "        func()\n",
    "        print(f'Func {func} finished!')\n",
    "    return wrap\n",
    "    \n",
    "    "
   ]
  },
  {
   "cell_type": "code",
   "execution_count": 8,
   "id": "5a2e3c2a",
   "metadata": {},
   "outputs": [],
   "source": [
    "@log_decorator\n",
    "def hello():\n",
    "    print('Hello world!')"
   ]
  },
  {
   "cell_type": "code",
   "execution_count": 4,
   "id": "fdc832e2",
   "metadata": {},
   "outputs": [
    {
     "name": "stdout",
     "output_type": "stream",
     "text": [
      "Calling func <function hello at 0x0000020D347D1280>\n",
      "Hello world!\n",
      "Func <function hello at 0x0000020D347D1280> finished!\n"
     ]
    }
   ],
   "source": [
    "hello()"
   ]
  },
  {
   "cell_type": "code",
   "execution_count": 9,
   "id": "4cc57f4f",
   "metadata": {},
   "outputs": [
    {
     "name": "stdout",
     "output_type": "stream",
     "text": [
      "Help on function wrap in module __main__:\n",
      "\n",
      "wrap()\n",
      "\n"
     ]
    }
   ],
   "source": [
    "help(hello)        #видим что декоратор возвращает wrap. Чтобы это изменить, импортируем functools"
   ]
  },
  {
   "cell_type": "code",
   "execution_count": 10,
   "id": "99dc284c",
   "metadata": {},
   "outputs": [],
   "source": [
    "from functools import wraps"
   ]
  },
  {
   "cell_type": "code",
   "execution_count": 11,
   "id": "121f4840",
   "metadata": {},
   "outputs": [],
   "source": [
    "def log_decorator(func):\n",
    "    @wraps(func)           #создаем такое декоратори передаем ф-ю, которую оборачиваем\n",
    "    def wrap(*args, **kwargs):\n",
    "        print(f'Calling func {func}')\n",
    "        func(*args, **kwargs)\n",
    "        print(f'Func {func} finished!')\n",
    "    return wrap\n",
    "    "
   ]
  },
  {
   "cell_type": "code",
   "execution_count": 12,
   "id": "2075a341",
   "metadata": {},
   "outputs": [],
   "source": [
    "@log_decorator\n",
    "def hello():\n",
    "    print('Hello world!')"
   ]
  },
  {
   "cell_type": "code",
   "execution_count": 13,
   "id": "2506c64f",
   "metadata": {},
   "outputs": [
    {
     "name": "stdout",
     "output_type": "stream",
     "text": [
      "Help on function hello in module __main__:\n",
      "\n",
      "hello()\n",
      "\n"
     ]
    }
   ],
   "source": [
    "help(hello)        #теперь видим что работаем с ф-й, а не с декоратором"
   ]
  },
  {
   "cell_type": "code",
   "execution_count": null,
   "id": "84a3b471",
   "metadata": {},
   "outputs": [],
   "source": []
  }
 ],
 "metadata": {
  "kernelspec": {
   "display_name": "Python 3",
   "language": "python",
   "name": "python3"
  },
  "language_info": {
   "codemirror_mode": {
    "name": "ipython",
    "version": 3
   },
   "file_extension": ".py",
   "mimetype": "text/x-python",
   "name": "python",
   "nbconvert_exporter": "python",
   "pygments_lexer": "ipython3",
   "version": "3.8.8"
  }
 },
 "nbformat": 4,
 "nbformat_minor": 5
}
