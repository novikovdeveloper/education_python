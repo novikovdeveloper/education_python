{
 "cells": [
  {
   "cell_type": "code",
   "execution_count": 1,
   "id": "edcadd67",
   "metadata": {},
   "outputs": [],
   "source": [
    "class Animal():\n",
    "    def die(self):\n",
    "        print(\"bye-bye\")\n",
    "        self.health = 0 \n",
    "        \n",
    "class Carnivour():\n",
    "    def hunt(self):\n",
    "        print(\"eating\")\n",
    "        self.satiety = 100\n",
    "        \n",
    "class Dog(Animal,Carnivour):      #Пример множественного наследования, наследуемые обьекты заключаются в скобки\n",
    "    def bark(self):\n",
    "        print(\"woof-woof\")\n",
    "        \n",
    "    \n",
    "\n"
   ]
  },
  {
   "cell_type": "code",
   "execution_count": 2,
   "id": "47ce3f8a",
   "metadata": {},
   "outputs": [
    {
     "name": "stdout",
     "output_type": "stream",
     "text": [
      "woof-woof\n",
      "eating\n",
      "bye-bye\n"
     ]
    }
   ],
   "source": [
    "#создадим экземпляр Dog и погавкаем\n",
    "dog = Dog()\n",
    "dog.bark()\n",
    "dog.hunt()\n",
    "dog.die()\n",
    "\n"
   ]
  },
  {
   "cell_type": "code",
   "execution_count": 4,
   "id": "b274542c",
   "metadata": {},
   "outputs": [],
   "source": [
    "class Animal:\n",
    "    def set_health(self,health):\n",
    "        print(\"set in animal\")\n",
    "        \n",
    "class Carnivour(Animal):\n",
    "    def set_helath(self,health):\n",
    "        print(\"set in carnivour\")\n",
    "        \n",
    "class Mammal(Animal):\n",
    "    def set_helath(self,health):\n",
    "        print(\"set in mammal\")\n",
    "    \n",
    "class Dog(Mammal,Carnivour):\n",
    "    pass\n",
    "\n",
    "#Согласно наследованию, мы попали в \"Смертельный ромб\", когда наследование пошло порядку зн-я в скобках"
   ]
  },
  {
   "cell_type": "code",
   "execution_count": 5,
   "id": "74bd3007",
   "metadata": {},
   "outputs": [
    {
     "name": "stdout",
     "output_type": "stream",
     "text": [
      "set in animal\n"
     ]
    }
   ],
   "source": [
    "dog = Dog()\n",
    "dog.set_health(10)"
   ]
  },
  {
   "cell_type": "code",
   "execution_count": 8,
   "id": "1fd4d359",
   "metadata": {},
   "outputs": [],
   "source": [
    "class Animal:\n",
    "    def set_health(self,health):\n",
    "        print(\"set in animal\")\n",
    "        \n",
    "class Carnivour(Animal):\n",
    "    def set_health(self,health):\n",
    "        Animal.set_health(self,health)\n",
    "        print(\"set in carnivour\")\n",
    "        \n",
    "class Mammal(Animal):\n",
    "    def set_health(self,health):\n",
    "        Animal.set_health(self,health)\n",
    "        print(\"set in mammal\")\n",
    "\n",
    "class Dog(Mammal,Carnivour):\n",
    "    def set_health(self,health):\n",
    "        Mammal.set_health(self,health)\n",
    "        Carnivour.set_health(self,health)\n",
    "        \n",
    "        \n",
    "        print(\"set in dog\")\n",
    "        "
   ]
  },
  {
   "cell_type": "code",
   "execution_count": 9,
   "id": "540ba4c8",
   "metadata": {},
   "outputs": [
    {
     "name": "stdout",
     "output_type": "stream",
     "text": [
      "set in mammal\n",
      "set in carnivour\n",
      "set in animal\n",
      "set in dog\n"
     ]
    }
   ],
   "source": [
    "dog = Dog()\n",
    "dog.set_health(10)"
   ]
  },
  {
   "cell_type": "code",
   "execution_count": 15,
   "id": "8a43ae0f",
   "metadata": {},
   "outputs": [],
   "source": [
    "#пример правильного множественного наследования\n",
    "\n",
    "class Animal:\n",
    "    def set_health(self,health):\n",
    "        print(\"set in animal\")\n",
    "        \n",
    "class Carnivour(Animal):\n",
    "    def set_health(self,health):\n",
    "        super().set_health(health)\n",
    "        print(\"set in carnivour\")\n",
    "        \n",
    "class Mammal(Animal):\n",
    "    def set_health(self,health):\n",
    "        super().set_health(health)\n",
    "        print(\"set in mammal\")\n",
    "\n",
    "class Dog(Mammal,Carnivour):\n",
    "    def set_health(self,health):\n",
    "        super().set_health(health)                      #ф-я дает гарантии последовательности вызовов\n",
    "        #Mammal.set_health(self,health)\n",
    "        #Carnivour.set_health(self,health)\n",
    "        \n",
    "        \n",
    "        print(\"set in dog\")\n",
    "        "
   ]
  },
  {
   "cell_type": "code",
   "execution_count": 16,
   "id": "34cfbaa2",
   "metadata": {},
   "outputs": [
    {
     "name": "stdout",
     "output_type": "stream",
     "text": [
      "set in animal\n",
      "set in carnivour\n",
      "set in mammal\n",
      "set in dog\n"
     ]
    }
   ],
   "source": [
    "dog = Dog()\n",
    "dog.set_health(10)"
   ]
  },
  {
   "cell_type": "code",
   "execution_count": 23,
   "id": "3803c320",
   "metadata": {},
   "outputs": [],
   "source": [
    "class Animal:\n",
    "    \n",
    "    def __init__(self):\n",
    "        self.health = 100\n",
    "        \n",
    "    def hit(self,damage):\n",
    "        self.health -= damage\n",
    "        \n",
    "        \n",
    "class Carnivour(Animal):\n",
    "    def __init__(self):\n",
    "        super().__init__()\n",
    "        self.legs = 4 \n",
    "        \n",
    "    "
   ]
  },
  {
   "cell_type": "code",
   "execution_count": 24,
   "id": "8fa81907",
   "metadata": {},
   "outputs": [
    {
     "name": "stdout",
     "output_type": "stream",
     "text": [
      "90\n"
     ]
    }
   ],
   "source": [
    "c = Carnivour()\n",
    "c.hit(10)\n",
    "print(c.health)"
   ]
  },
  {
   "cell_type": "code",
   "execution_count": null,
   "id": "f6e949d8",
   "metadata": {},
   "outputs": [],
   "source": []
  }
 ],
 "metadata": {
  "kernelspec": {
   "display_name": "Python 3",
   "language": "python",
   "name": "python3"
  },
  "language_info": {
   "codemirror_mode": {
    "name": "ipython",
    "version": 3
   },
   "file_extension": ".py",
   "mimetype": "text/x-python",
   "name": "python",
   "nbconvert_exporter": "python",
   "pygments_lexer": "ipython3",
   "version": "3.8.8"
  }
 },
 "nbformat": 4,
 "nbformat_minor": 5
}
