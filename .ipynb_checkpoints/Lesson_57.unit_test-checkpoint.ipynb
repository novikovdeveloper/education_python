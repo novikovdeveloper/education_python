{
 "cells": [
  {
   "cell_type": "code",
   "execution_count": null,
   "id": "5829d143",
   "metadata": {},
   "outputs": [],
   "source": [
    "import unittest\n",
    "import fizz_buz          #импортируем библиотеку, которую будем тестировать\n",
    "\n",
    "\n",
    "class FizzBuzzTests(unittest.TestCase):      #создадим класс для тестирования\n",
    "    #определим тестировочные случаи, методы, которые будут исполняться тест-раннером.И проверим поведение программы\n",
    "    \n",
    "    def test_fizz(self):\n",
    "        number = 6 \n",
    "        \n",
    "        result = test_fizz.get_reply(number)  #передаем число из ф-ии в прошлом файле\n",
    "        \n",
    "        self.assertEqual(result, 'Fizz' )   #assertEqual-проверка ожидаемого результата,2й арг-то что мы ожидаем,1й-актуальный \n",
    "        \n",
    "    \n",
    "    def test_buzz(self):\n",
    "        number = 10 \n",
    "        \n",
    "        result = test_buzz.get_reply(number)\n",
    "        \n",
    "        self.assertEqual(result, 'Buzz' )\n",
    "        \n",
    "    \n",
    "    def test_fizzbuzz(self):\n",
    "        number = 15\n",
    "        \n",
    "        result = test_fizzbuzz.get_reply(number)\n",
    "        \n",
    "        self.assertEqual(result, 'Fizz' )\n",
    "        \n",
    "        \n",
    "        \n",
    "if __name__ == '__main__':       #если скрипт запущен напрямую\n",
    "    unittest.main()              #внутри этой конструкции будут прогонятся тесты, которые мы написали"
   ]
  }
 ],
 "metadata": {
  "kernelspec": {
   "display_name": "Python 3",
   "language": "python",
   "name": "python3"
  },
  "language_info": {
   "codemirror_mode": {
    "name": "ipython",
    "version": 3
   },
   "file_extension": ".py",
   "mimetype": "text/x-python",
   "name": "python",
   "nbconvert_exporter": "python",
   "pygments_lexer": "ipython3",
   "version": "3.8.8"
  }
 },
 "nbformat": 4,
 "nbformat_minor": 5
}
