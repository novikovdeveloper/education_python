{
 "cells": [
  {
   "cell_type": "code",
   "execution_count": 1,
   "id": "b5168427",
   "metadata": {},
   "outputs": [],
   "source": [
    "d1 = {} #определяем словари и записываем в него ключи со значениями\n",
    "d1['a'] = 'A'\n",
    "d1['b'] = 'B'\n",
    "d1['c'] = 'C'\n",
    "\n",
    "\n",
    "d2 = {} #и еще один словарь\n",
    "d2['b'] = 'B'\n",
    "d2['a'] = 'A'\n",
    "d2['c'] = 'C'\n",
    "\n",
    "d3 = {} # и еще один\n",
    "d3['a'] = 'A'\n",
    "d3['b'] = 'B'\n",
    "d3['c'] = 'C'\n"
   ]
  },
  {
   "cell_type": "code",
   "execution_count": 2,
   "id": "7b3dc6b6",
   "metadata": {},
   "outputs": [
    {
     "name": "stdout",
     "output_type": "stream",
     "text": [
      "True\n",
      "True\n"
     ]
    }
   ],
   "source": [
    "print(d1 == d2)\n",
    "print(d2 == d3)\n",
    "#в данном случае, в сравнении нет ошибок, так как не важна последовательность"
   ]
  },
  {
   "cell_type": "code",
   "execution_count": 4,
   "id": "e25862fa",
   "metadata": {},
   "outputs": [
    {
     "name": "stdout",
     "output_type": "stream",
     "text": [
      "a A\n",
      "b B\n",
      "c C\n"
     ]
    }
   ],
   "source": [
    "for k,v in d1.items():\n",
    "    print(k, v)"
   ]
  },
  {
   "cell_type": "code",
   "execution_count": 5,
   "id": "be986e46",
   "metadata": {},
   "outputs": [],
   "source": [
    "from collections import OrderedDict #учитывает и контролирует порядок добавления пар \"ключ : значение\""
   ]
  },
  {
   "cell_type": "code",
   "execution_count": 6,
   "id": "171418c1",
   "metadata": {},
   "outputs": [],
   "source": [
    "d1 = OrderedDict() #определяем как OrderedDict() 3 словаря\n",
    "d1['a'] = 'A'\n",
    "d1['b'] = 'B'\n",
    "d1['c'] = 'C'\n",
    "\n",
    "\n",
    "d2 = OrderedDict() \n",
    "d2['b'] = 'B'\n",
    "d2['a'] = 'A'\n",
    "d2['c'] = 'C'\n",
    "\n",
    "d3 = OrderedDict() \n",
    "d3['a'] = 'A'\n",
    "d3['b'] = 'B'\n",
    "d3['c'] = 'C'"
   ]
  },
  {
   "cell_type": "code",
   "execution_count": 8,
   "id": "19c284fc",
   "metadata": {},
   "outputs": [
    {
     "name": "stdout",
     "output_type": "stream",
     "text": [
      "False\n",
      "True\n"
     ]
    }
   ],
   "source": [
    "print(d1 == d2)\n",
    "print(d1 == d3)"
   ]
  },
  {
   "cell_type": "code",
   "execution_count": null,
   "id": "a9759c64",
   "metadata": {},
   "outputs": [],
   "source": []
  }
 ],
 "metadata": {
  "kernelspec": {
   "display_name": "Python 3",
   "language": "python",
   "name": "python3"
  },
  "language_info": {
   "codemirror_mode": {
    "name": "ipython",
    "version": 3
   },
   "file_extension": ".py",
   "mimetype": "text/x-python",
   "name": "python",
   "nbconvert_exporter": "python",
   "pygments_lexer": "ipython3",
   "version": "3.8.8"
  }
 },
 "nbformat": 4,
 "nbformat_minor": 5
}
