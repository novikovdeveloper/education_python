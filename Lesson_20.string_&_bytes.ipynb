{
 "cells": [
  {
   "cell_type": "code",
   "execution_count": 1,
   "id": "4429f824",
   "metadata": {},
   "outputs": [
    {
     "data": {
      "text/plain": [
       "'utf-8'"
      ]
     },
     "execution_count": 1,
     "metadata": {},
     "output_type": "execute_result"
    }
   ],
   "source": [
    "import sys\n",
    "sys.getdefaultencoding() #узнаем текущую кодировку"
   ]
  },
  {
   "cell_type": "code",
   "execution_count": 2,
   "id": "48bea601",
   "metadata": {},
   "outputs": [
    {
     "data": {
      "text/plain": [
       "97"
      ]
     },
     "execution_count": 2,
     "metadata": {},
     "output_type": "execute_result"
    }
   ],
   "source": [
    "ord(\"a\") #с помощью ф-и узнаем код указанного символа"
   ]
  },
  {
   "cell_type": "code",
   "execution_count": 3,
   "id": "3b1fc035",
   "metadata": {},
   "outputs": [
    {
     "data": {
      "text/plain": [
       "'a'"
      ]
     },
     "execution_count": 3,
     "metadata": {},
     "output_type": "execute_result"
    }
   ],
   "source": [
    "chr(97) #обратное преобразование из кода в символ"
   ]
  },
  {
   "cell_type": "code",
   "execution_count": 4,
   "id": "6b53ff7e",
   "metadata": {},
   "outputs": [
    {
     "data": {
      "text/plain": [
       "'Æ'"
      ]
     },
     "execution_count": 4,
     "metadata": {},
     "output_type": "execute_result"
    }
   ],
   "source": [
    "chr(198)"
   ]
  },
  {
   "cell_type": "code",
   "execution_count": 8,
   "id": "a1682926",
   "metadata": {},
   "outputs": [
    {
     "name": "stdout",
     "output_type": "stream",
     "text": [
      "<class 'bytes'>\n",
      "b'hello'\n",
      "b'hello'\n",
      "b'\\xff\\xfeh\\x00e\\x00l\\x00l\\x00o\\x00'\n"
     ]
    }
   ],
   "source": [
    "s = \"hello\"\n",
    "enc_ascii = s.encode(\"ascii\") #с помощью метода .encode() - переводим в байт переменную + передаем кодировочную таблицу (ascii)\n",
    "enc_utf8 = s.encode(\"utf8\")\n",
    "enc_utf16 = s.encode(\"utf16\")\n",
    "\n",
    "print(type(enc_ascii))\n",
    "print(enc_ascii)\n",
    "print(enc_utf8)\n",
    "print(enc_utf16)   #в результате, префикс b - означает что представление байтовое"
   ]
  },
  {
   "cell_type": "code",
   "execution_count": 9,
   "id": "627ae24d",
   "metadata": {},
   "outputs": [
    {
     "name": "stdout",
     "output_type": "stream",
     "text": [
      "<class 'bytes'>\n",
      "<class 'str'>\n"
     ]
    }
   ],
   "source": [
    "str_in_bytes = b\"hello\" #способ перевода в байты\n",
    "str_in_bytes = s.encode() #еще способ, но с указанием кодировочной таблицы\n",
    "\n",
    "str_in_text = \"hello\" #способ перевода в строку\n",
    "\n",
    "print(type(str_in_bytes))\n",
    "print(type(str_in_text))"
   ]
  },
  {
   "cell_type": "code",
   "execution_count": 10,
   "id": "2580b4f3",
   "metadata": {},
   "outputs": [
    {
     "name": "stdout",
     "output_type": "stream",
     "text": [
      "b'bytes'\n",
      "b'\\xd0\\xb1\\xd0\\xb0\\xd0\\xb9\\xd1\\x82\\xd1\\x8b'\n"
     ]
    }
   ],
   "source": [
    "print(\"bytes\".encode(\"utf8\")) #быстрый способ перевода текста, можно и с кирилицей\n",
    "print(\"байты\".encode(\"utf8\"))"
   ]
  },
  {
   "cell_type": "code",
   "execution_count": 11,
   "id": "f6c69156",
   "metadata": {},
   "outputs": [
    {
     "name": "stdout",
     "output_type": "stream",
     "text": [
      "104\n",
      "h\n"
     ]
    }
   ],
   "source": [
    "print(str_in_bytes[0]) #получим первый символ из байтового и текстового представления\n",
    "print(str_in_text[0])"
   ]
  },
  {
   "cell_type": "code",
   "execution_count": 12,
   "id": "e2f7c8b6",
   "metadata": {},
   "outputs": [
    {
     "ename": "TypeError",
     "evalue": "'bytes' object does not support item assignment",
     "output_type": "error",
     "traceback": [
      "\u001b[1;31m---------------------------------------------------------------------------\u001b[0m",
      "\u001b[1;31mTypeError\u001b[0m                                 Traceback (most recent call last)",
      "\u001b[1;32m<ipython-input-12-99afc97f1086>\u001b[0m in \u001b[0;36m<module>\u001b[1;34m\u001b[0m\n\u001b[1;32m----> 1\u001b[1;33m \u001b[0mstr_in_bytes\u001b[0m\u001b[1;33m[\u001b[0m\u001b[1;36m0\u001b[0m\u001b[1;33m]\u001b[0m \u001b[1;33m=\u001b[0m \u001b[1;36m10\u001b[0m \u001b[1;31m#тип не изеняемый, поэтому будет ошибка\u001b[0m\u001b[1;33m\u001b[0m\u001b[1;33m\u001b[0m\u001b[0m\n\u001b[0m",
      "\u001b[1;31mTypeError\u001b[0m: 'bytes' object does not support item assignment"
     ]
    }
   ],
   "source": [
    "str_in_bytes[0] = 10 #тип байтовый не изеняемый, поэтому будет ошибка при попытке туда что-то записать"
   ]
  },
  {
   "cell_type": "code",
   "execution_count": 13,
   "id": "eb7f7e0d",
   "metadata": {},
   "outputs": [
    {
     "data": {
      "text/plain": [
       "bytearray(b'Wello')"
      ]
     },
     "execution_count": 13,
     "metadata": {},
     "output_type": "execute_result"
    }
   ],
   "source": [
    "ba = bytearray(b\"hello\") #с помощью типа bytearray, тип данных стал изменяемым\n",
    "ba[0] = 87 #поменяли H на W\n",
    "ba"
   ]
  },
  {
   "cell_type": "code",
   "execution_count": 15,
   "id": "cb496c65",
   "metadata": {},
   "outputs": [
    {
     "name": "stdout",
     "output_type": "stream",
     "text": [
      "hello\n",
      "5\n"
     ]
    }
   ],
   "source": [
    "result = str(str_in_bytes, \"utf8\") #при переводе из байтов в текс, обязательно указываем кодировку\n",
    "print(result)\n",
    "print(len(result))"
   ]
  },
  {
   "cell_type": "code",
   "execution_count": 16,
   "id": "51aee696",
   "metadata": {},
   "outputs": [
    {
     "name": "stdout",
     "output_type": "stream",
     "text": [
      "hello\n"
     ]
    }
   ],
   "source": [
    "result = str_in_bytes.decode(\"utf8\")  #при  переводе в строку байтов, кодируем декодируем с помощью ф-и .decode()\n",
    "print(result)"
   ]
  },
  {
   "cell_type": "code",
   "execution_count": 24,
   "id": "5c92c84d",
   "metadata": {},
   "outputs": [
    {
     "ename": "FileNotFoundError",
     "evalue": "[Errno 2] No such file or directory: 'C:\\\\tmp\\\\btest.bin'",
     "output_type": "error",
     "traceback": [
      "\u001b[1;31m---------------------------------------------------------------------------\u001b[0m",
      "\u001b[1;31mFileNotFoundError\u001b[0m                         Traceback (most recent call last)",
      "\u001b[1;32m<ipython-input-24-922735c6d53e>\u001b[0m in \u001b[0;36m<module>\u001b[1;34m\u001b[0m\n\u001b[0;32m      1\u001b[0m \u001b[0mjpeg\u001b[0m \u001b[1;33m=\u001b[0m \u001b[1;33m[\u001b[0m\u001b[1;36m120\u001b[0m\u001b[1;33m,\u001b[0m \u001b[1;36m3\u001b[0m\u001b[1;33m,\u001b[0m \u001b[1;36m255\u001b[0m\u001b[1;33m,\u001b[0m \u001b[1;36m0\u001b[0m\u001b[1;33m,\u001b[0m \u001b[1;36m100\u001b[0m\u001b[1;33m]\u001b[0m\u001b[1;33m\u001b[0m\u001b[1;33m\u001b[0m\u001b[0m\n\u001b[1;32m----> 2\u001b[1;33m \u001b[1;32mwith\u001b[0m \u001b[0mopen\u001b[0m\u001b[1;33m(\u001b[0m\u001b[1;34mr\"C:\\tmp\\btest.bin\"\u001b[0m\u001b[1;33m,\u001b[0m \u001b[1;34m\"w+b\"\u001b[0m\u001b[1;33m)\u001b[0m \u001b[1;32mas\u001b[0m \u001b[0mfile\u001b[0m\u001b[1;33m:\u001b[0m\u001b[1;33m\u001b[0m\u001b[1;33m\u001b[0m\u001b[0m\n\u001b[0m\u001b[0;32m      3\u001b[0m         \u001b[0mfile\u001b[0m\u001b[1;33m.\u001b[0m\u001b[0mwrite\u001b[0m\u001b[1;33m(\u001b[0m\u001b[0mbytes\u001b[0m\u001b[1;33m(\u001b[0m\u001b[0mjpeg\u001b[0m\u001b[1;33m)\u001b[0m\u001b[1;33m)\u001b[0m\u001b[1;33m\u001b[0m\u001b[1;33m\u001b[0m\u001b[0m\n",
      "\u001b[1;31mFileNotFoundError\u001b[0m: [Errno 2] No such file or directory: 'C:\\\\tmp\\\\btest.bin'"
     ]
    }
   ],
   "source": [
    "jpeg = [120, 3, 255, 0, 100]\n",
    "with open(r\"C:\\tmp\\btest.bin\", \"w+b\") as file:\n",
    "        file.write(bytes(jpeg))"
   ]
  },
  {
   "cell_type": "code",
   "execution_count": 1,
   "id": "3c872d19",
   "metadata": {},
   "outputs": [
    {
     "ename": "FileNotFoundError",
     "evalue": "[Errno 2] No such file or directory: 'C:\\\\tmp\\\\btest.bin'",
     "output_type": "error",
     "traceback": [
      "\u001b[1;31m---------------------------------------------------------------------------\u001b[0m",
      "\u001b[1;31mFileNotFoundError\u001b[0m                         Traceback (most recent call last)",
      "\u001b[1;32m<ipython-input-1-44f35784d67e>\u001b[0m in \u001b[0;36m<module>\u001b[1;34m\u001b[0m\n\u001b[0;32m      1\u001b[0m \u001b[0mjpeg\u001b[0m \u001b[1;33m=\u001b[0m \u001b[1;33m[\u001b[0m\u001b[1;36m120\u001b[0m\u001b[1;33m,\u001b[0m \u001b[1;36m3\u001b[0m\u001b[1;33m,\u001b[0m \u001b[1;36m255\u001b[0m\u001b[1;33m,\u001b[0m \u001b[1;36m0\u001b[0m\u001b[1;33m,\u001b[0m \u001b[1;36m100\u001b[0m\u001b[1;33m]\u001b[0m\u001b[1;33m\u001b[0m\u001b[1;33m\u001b[0m\u001b[0m\n\u001b[1;32m----> 2\u001b[1;33m \u001b[1;32mwith\u001b[0m \u001b[0mopen\u001b[0m\u001b[1;33m(\u001b[0m\u001b[1;34mr\"C:\\tmp\\btest.bin\"\u001b[0m\u001b[1;33m,\u001b[0m \u001b[1;34m\"w+b\"\u001b[0m\u001b[1;33m)\u001b[0m \u001b[1;32mas\u001b[0m \u001b[0mfile\u001b[0m\u001b[1;33m:\u001b[0m\u001b[1;33m\u001b[0m\u001b[1;33m\u001b[0m\u001b[0m\n\u001b[0m\u001b[0;32m      3\u001b[0m         \u001b[0mfile\u001b[0m\u001b[1;33m.\u001b[0m\u001b[0mwrite\u001b[0m\u001b[1;33m(\u001b[0m\u001b[0mbytes\u001b[0m\u001b[1;33m(\u001b[0m\u001b[0mjpeg\u001b[0m\u001b[1;33m)\u001b[0m\u001b[1;33m)\u001b[0m\u001b[1;33m\u001b[0m\u001b[1;33m\u001b[0m\u001b[0m\n\u001b[0;32m      4\u001b[0m         \u001b[0mprint\u001b[0m\u001b[1;33m(\u001b[0m\u001b[1;33m)\u001b[0m\u001b[1;33m\u001b[0m\u001b[1;33m\u001b[0m\u001b[0m\n\u001b[0;32m      5\u001b[0m \u001b[1;33m\u001b[0m\u001b[0m\n",
      "\u001b[1;31mFileNotFoundError\u001b[0m: [Errno 2] No such file or directory: 'C:\\\\tmp\\\\btest.bin'"
     ]
    }
   ],
   "source": [
    "jpeg = [120, 3, 255, 0, 100]\n",
    "with open(r\"C:\\tmp\\btest.bin\", \"w+b\") as file:\n",
    "        file.write(bytes(jpeg))\n",
    "        print()\n",
    "        "
   ]
  },
  {
   "cell_type": "code",
   "execution_count": 20,
   "id": "f0f5f162",
   "metadata": {},
   "outputs": [
    {
     "name": "stdout",
     "output_type": "stream",
     "text": [
      "nesgt\n"
     ]
    }
   ],
   "source": [
    "x = \"My name is Agent Smith\"\n",
    "print(x[3:16:3]) #nesgt"
   ]
  },
  {
   "cell_type": "code",
   "execution_count": null,
   "id": "977beee4",
   "metadata": {},
   "outputs": [],
   "source": []
  }
 ],
 "metadata": {
  "kernelspec": {
   "display_name": "Python 3",
   "language": "python",
   "name": "python3"
  },
  "language_info": {
   "codemirror_mode": {
    "name": "ipython",
    "version": 3
   },
   "file_extension": ".py",
   "mimetype": "text/x-python",
   "name": "python",
   "nbconvert_exporter": "python",
   "pygments_lexer": "ipython3",
   "version": "3.8.8"
  }
 },
 "nbformat": 4,
 "nbformat_minor": 5
}
