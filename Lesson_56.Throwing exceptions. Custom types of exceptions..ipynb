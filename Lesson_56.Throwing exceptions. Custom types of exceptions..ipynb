{
 "cells": [
  {
   "cell_type": "code",
   "execution_count": 1,
   "id": "69f8981b",
   "metadata": {},
   "outputs": [],
   "source": [
    "#вычислим площать треугольника по формуле Герона\n",
    "\n",
    "import math \n",
    "\n",
    "def calc_square(ab,ac,bc):\n",
    "    p = (ab + ac + bc) / 2\n",
    "    s = math.sqrt(p*(p-ab) * (p-ac) * (p-bc))\n",
    "    return s\n",
    "    "
   ]
  },
  {
   "cell_type": "code",
   "execution_count": 3,
   "id": "9a009484",
   "metadata": {},
   "outputs": [
    {
     "name": "stdout",
     "output_type": "stream",
     "text": [
      "43.30127018922193\n"
     ]
    }
   ],
   "source": [
    "square = calc_square(10,10,10)\n",
    "print(square)"
   ]
  },
  {
   "cell_type": "code",
   "execution_count": 5,
   "id": "42207033",
   "metadata": {},
   "outputs": [
    {
     "name": "stdout",
     "output_type": "stream",
     "text": [
      "7.310095758606723\n"
     ]
    }
   ],
   "source": [
    "square = calc_square(-2,8,9)  #в зн-ях ошибка, так как длина стророны не может быть отрицательной\n",
    "print(square)"
   ]
  },
  {
   "cell_type": "code",
   "execution_count": 9,
   "id": "5cd0b7ab",
   "metadata": {},
   "outputs": [],
   "source": [
    "import math \n",
    "\n",
    "def calc_square(ab,ac,bc):\n",
    "    if ab <= 0 or ac <= 0 or bc <=0:\n",
    "        raise ValueError(\"Одна из сторон меньше нуля\")        #raise - поднятие исключений.Сработает в случае ошибки \n",
    "    \n",
    "    \n",
    "    p = (ab + ac + bc) / 2\n",
    "    s = math.sqrt(p*(p-ab) * (p-ac) * (p-bc))\n",
    "    return s\n",
    "    "
   ]
  },
  {
   "cell_type": "code",
   "execution_count": 10,
   "id": "9ecd2a97",
   "metadata": {},
   "outputs": [
    {
     "ename": "ValueError",
     "evalue": "Одна из сторон менье нуля",
     "output_type": "error",
     "traceback": [
      "\u001b[1;31m---------------------------------------------------------------------------\u001b[0m",
      "\u001b[1;31mValueError\u001b[0m                                Traceback (most recent call last)",
      "\u001b[1;32m<ipython-input-10-8d44b9f6588f>\u001b[0m in \u001b[0;36m<module>\u001b[1;34m\u001b[0m\n\u001b[1;32m----> 1\u001b[1;33m \u001b[0msquare\u001b[0m \u001b[1;33m=\u001b[0m \u001b[0mcalc_square\u001b[0m\u001b[1;33m(\u001b[0m\u001b[1;33m-\u001b[0m\u001b[1;36m2\u001b[0m\u001b[1;33m,\u001b[0m\u001b[1;36m8\u001b[0m\u001b[1;33m,\u001b[0m\u001b[1;36m9\u001b[0m\u001b[1;33m)\u001b[0m\u001b[1;33m\u001b[0m\u001b[1;33m\u001b[0m\u001b[0m\n\u001b[0m\u001b[0;32m      2\u001b[0m \u001b[0mprint\u001b[0m\u001b[1;33m(\u001b[0m\u001b[0msquare\u001b[0m\u001b[1;33m)\u001b[0m\u001b[1;33m\u001b[0m\u001b[1;33m\u001b[0m\u001b[0m\n",
      "\u001b[1;32m<ipython-input-9-3454e948b4c9>\u001b[0m in \u001b[0;36mcalc_square\u001b[1;34m(ab, ac, bc)\u001b[0m\n\u001b[0;32m      3\u001b[0m \u001b[1;32mdef\u001b[0m \u001b[0mcalc_square\u001b[0m\u001b[1;33m(\u001b[0m\u001b[0mab\u001b[0m\u001b[1;33m,\u001b[0m\u001b[0mac\u001b[0m\u001b[1;33m,\u001b[0m\u001b[0mbc\u001b[0m\u001b[1;33m)\u001b[0m\u001b[1;33m:\u001b[0m\u001b[1;33m\u001b[0m\u001b[1;33m\u001b[0m\u001b[0m\n\u001b[0;32m      4\u001b[0m     \u001b[1;32mif\u001b[0m \u001b[0mab\u001b[0m \u001b[1;33m<=\u001b[0m \u001b[1;36m0\u001b[0m \u001b[1;32mor\u001b[0m \u001b[0mac\u001b[0m \u001b[1;33m<=\u001b[0m \u001b[1;36m0\u001b[0m \u001b[1;32mor\u001b[0m \u001b[0mbc\u001b[0m \u001b[1;33m<=\u001b[0m\u001b[1;36m0\u001b[0m\u001b[1;33m:\u001b[0m\u001b[1;33m\u001b[0m\u001b[1;33m\u001b[0m\u001b[0m\n\u001b[1;32m----> 5\u001b[1;33m         \u001b[1;32mraise\u001b[0m \u001b[0mValueError\u001b[0m\u001b[1;33m(\u001b[0m\u001b[1;34m\"Одна из сторон менье нуля\"\u001b[0m\u001b[1;33m)\u001b[0m        \u001b[1;31m#raise - поднятие исключений\u001b[0m\u001b[1;33m\u001b[0m\u001b[1;33m\u001b[0m\u001b[0m\n\u001b[0m\u001b[0;32m      6\u001b[0m \u001b[1;33m\u001b[0m\u001b[0m\n\u001b[0;32m      7\u001b[0m \u001b[1;33m\u001b[0m\u001b[0m\n",
      "\u001b[1;31mValueError\u001b[0m: Одна из сторон менье нуля"
     ]
    }
   ],
   "source": [
    "square = calc_square(-2,8,9) \n",
    "print(square)"
   ]
  },
  {
   "cell_type": "code",
   "execution_count": 12,
   "id": "37f33692",
   "metadata": {},
   "outputs": [],
   "source": [
    "#обозначаем кастомное исключение, далее имя класса, далее базовый тип, от которого наследуются все исключения\n",
    "class  InvalidTriagleError(Exception):\n",
    "    \"\"\"\"Raised when a triangle has invalid sides\"\"\"\n",
    "\n",
    "    "
   ]
  },
  {
   "cell_type": "code",
   "execution_count": 13,
   "id": "e13e8f53",
   "metadata": {},
   "outputs": [],
   "source": [
    "import math \n",
    "\n",
    "def calc_square(ab,ac,bc):\n",
    "    if ab <= 0 or ac <= 0 or bc <=0:\n",
    "        raise InvalidTriagleError(\"Одна из сторон меньше нуля\")        #Прокинули InvalidTriagle\n",
    "    \n",
    "    \n",
    "    p = (ab + ac + bc) / 2\n",
    "    s = math.sqrt(p*(p-ab) * (p-ac) * (p-bc))\n",
    "    return s\n",
    "    "
   ]
  },
  {
   "cell_type": "code",
   "execution_count": 14,
   "id": "30594888",
   "metadata": {},
   "outputs": [
    {
     "ename": "InvalidTriagleError",
     "evalue": "Одна из сторон меньше нуля",
     "output_type": "error",
     "traceback": [
      "\u001b[1;31m---------------------------------------------------------------------------\u001b[0m",
      "\u001b[1;31mInvalidTriagleError\u001b[0m                       Traceback (most recent call last)",
      "\u001b[1;32m<ipython-input-14-8d44b9f6588f>\u001b[0m in \u001b[0;36m<module>\u001b[1;34m\u001b[0m\n\u001b[1;32m----> 1\u001b[1;33m \u001b[0msquare\u001b[0m \u001b[1;33m=\u001b[0m \u001b[0mcalc_square\u001b[0m\u001b[1;33m(\u001b[0m\u001b[1;33m-\u001b[0m\u001b[1;36m2\u001b[0m\u001b[1;33m,\u001b[0m\u001b[1;36m8\u001b[0m\u001b[1;33m,\u001b[0m\u001b[1;36m9\u001b[0m\u001b[1;33m)\u001b[0m\u001b[1;33m\u001b[0m\u001b[1;33m\u001b[0m\u001b[0m\n\u001b[0m\u001b[0;32m      2\u001b[0m \u001b[0mprint\u001b[0m\u001b[1;33m(\u001b[0m\u001b[0msquare\u001b[0m\u001b[1;33m)\u001b[0m\u001b[1;33m\u001b[0m\u001b[1;33m\u001b[0m\u001b[0m\n",
      "\u001b[1;32m<ipython-input-13-ac27674f33d2>\u001b[0m in \u001b[0;36mcalc_square\u001b[1;34m(ab, ac, bc)\u001b[0m\n\u001b[0;32m      3\u001b[0m \u001b[1;32mdef\u001b[0m \u001b[0mcalc_square\u001b[0m\u001b[1;33m(\u001b[0m\u001b[0mab\u001b[0m\u001b[1;33m,\u001b[0m\u001b[0mac\u001b[0m\u001b[1;33m,\u001b[0m\u001b[0mbc\u001b[0m\u001b[1;33m)\u001b[0m\u001b[1;33m:\u001b[0m\u001b[1;33m\u001b[0m\u001b[1;33m\u001b[0m\u001b[0m\n\u001b[0;32m      4\u001b[0m     \u001b[1;32mif\u001b[0m \u001b[0mab\u001b[0m \u001b[1;33m<=\u001b[0m \u001b[1;36m0\u001b[0m \u001b[1;32mor\u001b[0m \u001b[0mac\u001b[0m \u001b[1;33m<=\u001b[0m \u001b[1;36m0\u001b[0m \u001b[1;32mor\u001b[0m \u001b[0mbc\u001b[0m \u001b[1;33m<=\u001b[0m\u001b[1;36m0\u001b[0m\u001b[1;33m:\u001b[0m\u001b[1;33m\u001b[0m\u001b[1;33m\u001b[0m\u001b[0m\n\u001b[1;32m----> 5\u001b[1;33m         \u001b[1;32mraise\u001b[0m \u001b[0mInvalidTriagleError\u001b[0m\u001b[1;33m(\u001b[0m\u001b[1;34m\"Одна из сторон меньше нуля\"\u001b[0m\u001b[1;33m)\u001b[0m        \u001b[1;31m#Прокинули InvalidTriagle\u001b[0m\u001b[1;33m\u001b[0m\u001b[1;33m\u001b[0m\u001b[0m\n\u001b[0m\u001b[0;32m      6\u001b[0m \u001b[1;33m\u001b[0m\u001b[0m\n\u001b[0;32m      7\u001b[0m \u001b[1;33m\u001b[0m\u001b[0m\n",
      "\u001b[1;31mInvalidTriagleError\u001b[0m: Одна из сторон меньше нуля"
     ]
    }
   ],
   "source": [
    "square = calc_square(-2,8,9) \n",
    "print(square)"
   ]
  },
  {
   "cell_type": "code",
   "execution_count": null,
   "id": "30ce3fa5",
   "metadata": {},
   "outputs": [],
   "source": [
    "try:\n",
    "    square = calc_square(2,8,9) \n",
    "except InvalidTriagleError as ex:\n",
    "    print(ex)\n",
    "else:\n",
    "    print(square)"
   ]
  },
  {
   "cell_type": "code",
   "execution_count": null,
   "id": "2dd1437b",
   "metadata": {},
   "outputs": [],
   "source": []
  }
 ],
 "metadata": {
  "kernelspec": {
   "display_name": "Python 3",
   "language": "python",
   "name": "python3"
  },
  "language_info": {
   "codemirror_mode": {
    "name": "ipython",
    "version": 3
   },
   "file_extension": ".py",
   "mimetype": "text/x-python",
   "name": "python",
   "nbconvert_exporter": "python",
   "pygments_lexer": "ipython3",
   "version": "3.8.8"
  }
 },
 "nbformat": 4,
 "nbformat_minor": 5
}
