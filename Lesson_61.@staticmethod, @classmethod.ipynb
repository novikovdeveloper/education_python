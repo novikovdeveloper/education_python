{
 "cells": [
  {
   "cell_type": "code",
   "execution_count": 1,
   "id": "61e4b54b",
   "metadata": {},
   "outputs": [],
   "source": [
    "class StaticTest:\n",
    "    x = 1            #обьявили атрибут на уровне класса\n"
   ]
  },
  {
   "cell_type": "code",
   "execution_count": 2,
   "id": "c4a83fd0",
   "metadata": {},
   "outputs": [],
   "source": [
    "t1 = StaticTest()    #создали инстанцию класса"
   ]
  },
  {
   "cell_type": "code",
   "execution_count": 3,
   "id": "612c74da",
   "metadata": {},
   "outputs": [
    {
     "name": "stdout",
     "output_type": "stream",
     "text": [
      "Через инстанцию, зн-е: 1\n",
      "Через класс: 1\n"
     ]
    }
   ],
   "source": [
    "print(f'Через инстанцию, зн-е: {t1.x}')\n",
    "print(f'Через класс: {StaticTest.x}')"
   ]
  },
  {
   "cell_type": "code",
   "execution_count": 4,
   "id": "04e71d51",
   "metadata": {},
   "outputs": [],
   "source": [
    "t1.x = 2 "
   ]
  },
  {
   "cell_type": "code",
   "execution_count": 5,
   "id": "c4a6d381",
   "metadata": {},
   "outputs": [
    {
     "name": "stdout",
     "output_type": "stream",
     "text": [
      "Через инстанцию, зн-е: 2\n",
      "Через класс: 1\n"
     ]
    }
   ],
   "source": [
    "print(f'Через инстанцию, зн-е: {t1.x}')\n",
    "print(f'Через класс: {StaticTest.x}')"
   ]
  },
  {
   "cell_type": "code",
   "execution_count": 6,
   "id": "5b371f4f",
   "metadata": {},
   "outputs": [],
   "source": [
    "StaticTest.x = 3 "
   ]
  },
  {
   "cell_type": "code",
   "execution_count": 7,
   "id": "902e5103",
   "metadata": {},
   "outputs": [
    {
     "name": "stdout",
     "output_type": "stream",
     "text": [
      "Через инстанцию, зн-е: 2\n",
      "Через класс: 3\n"
     ]
    }
   ],
   "source": [
    "print(f'Через инстанцию, зн-е: {t1.x}')\n",
    "print(f'Через класс: {StaticTest.x}')\n",
    "\n",
    "#присваивание остается на уровне класса, инстанция не тронута"
   ]
  },
  {
   "cell_type": "code",
   "execution_count": 9,
   "id": "c4456a30",
   "metadata": {},
   "outputs": [],
   "source": [
    "class Date:\n",
    "    def __init__(self,month,day,year):\n",
    "        self.month = month\n",
    "        self.day = day\n",
    "        self.year = year\n",
    "        \n",
    "    def display(self):                                         #создали метод уровня инстанции\n",
    "        return f'{self.month} - {self.day} - {self.year}'\n",
    "    \n",
    "    \n",
    "    @classmethod                           #обьявили метод, чтобы пользователь смог установить дату не раньше 200 года\n",
    "    def millenium_c(cls,month,day):                 #в @classmethod первым агрументом принимается инфа о классе\n",
    "        return cls(month,day,2000)\n",
    "    \n",
    "    @staticmethod\n",
    "    def millenium_s(month,day):   #ничего в себя не приминает, абстрагирован от класса\n",
    "        return Date(month,day, 2000)"
   ]
  },
  {
   "cell_type": "code",
   "execution_count": 10,
   "id": "34d71309",
   "metadata": {},
   "outputs": [
    {
     "name": "stdout",
     "output_type": "stream",
     "text": [
      "6 - 9 - 2000\n",
      "6 - 9 - 2000\n"
     ]
    }
   ],
   "source": [
    "d1 = Date.millenium_c(6,9)\n",
    "d2 = Date.millenium_s(6,9)\n",
    "\n",
    "print(d1.display())\n",
    "print(d2.display())"
   ]
  },
  {
   "cell_type": "code",
   "execution_count": 12,
   "id": "83a48771",
   "metadata": {},
   "outputs": [],
   "source": [
    "class DateTime(Date):\n",
    "    def display(self):\n",
    "        return f'{self.month} - {self.day} - {self.year} - 00:00:00PM'\n",
    "    "
   ]
  },
  {
   "cell_type": "code",
   "execution_count": 15,
   "id": "d2f34d52",
   "metadata": {},
   "outputs": [
    {
     "name": "stdout",
     "output_type": "stream",
     "text": [
      "True\n",
      "False\n",
      "10 - 10 - 1990 - 00:00:00PM\n",
      "10 - 10 - 2000\n"
     ]
    }
   ],
   "source": [
    "dt1 = DateTime(10,10,1990)\n",
    "dt2 = DateTime.millenium_s(10,10)\n",
    "\n",
    "print(isinstance(dt1,DateTime))                    #метод проверяет тип инстанции. Проверит dt1 принадлежит ли DateTime\n",
    "print(isinstance(dt2,DateTime))   \n",
    "\n",
    "print(dt1.display())\n",
    "print(dt2.display())"
   ]
  },
  {
   "cell_type": "code",
   "execution_count": null,
   "id": "8aeadf0c",
   "metadata": {},
   "outputs": [],
   "source": []
  }
 ],
 "metadata": {
  "kernelspec": {
   "display_name": "Python 3",
   "language": "python",
   "name": "python3"
  },
  "language_info": {
   "codemirror_mode": {
    "name": "ipython",
    "version": 3
   },
   "file_extension": ".py",
   "mimetype": "text/x-python",
   "name": "python",
   "nbconvert_exporter": "python",
   "pygments_lexer": "ipython3",
   "version": "3.8.8"
  }
 },
 "nbformat": 4,
 "nbformat_minor": 5
}
