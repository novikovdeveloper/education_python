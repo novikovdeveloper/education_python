{
 "cells": [
  {
   "cell_type": "code",
   "execution_count": 1,
   "id": "5ccc2ce7",
   "metadata": {},
   "outputs": [
    {
     "name": "stdout",
     "output_type": "stream",
     "text": [
      "Indeed,true.\n"
     ]
    }
   ],
   "source": [
    "if True:                       \n",
    "    print('Indeed,true.')\n",
    "#если выражение после if истинно и вычисляется в true,\n",
    "#то логика пойдет по пути, записанному после двоеточия выведет Indeed,true."
   ]
  },
  {
   "cell_type": "code",
   "execution_count": 2,
   "id": "db9920e3",
   "metadata": {},
   "outputs": [
    {
     "name": "stdout",
     "output_type": "stream",
     "text": [
      "3 is greater than 2\n"
     ]
    }
   ],
   "source": [
    "if 3>2:\n",
    "    print('3 is greater than 2')"
   ]
  },
  {
   "cell_type": "code",
   "execution_count": 3,
   "id": "98f7aa07",
   "metadata": {},
   "outputs": [],
   "source": [
    "if 3<2:\n",
    "    print('3 is less than 2') #выведене ничего не будет, так как 3<2 false"
   ]
  },
  {
   "cell_type": "code",
   "execution_count": 4,
   "id": "88292b2d",
   "metadata": {},
   "outputs": [
    {
     "name": "stdout",
     "output_type": "stream",
     "text": [
      "It's admin,look at him!\n"
     ]
    }
   ],
   "source": [
    "is_admin = True\n",
    "if is_admin:\n",
    "    print(\"It's admin,look at him!\")"
   ]
  },
  {
   "cell_type": "code",
   "execution_count": 12,
   "id": "cbb663ab",
   "metadata": {},
   "outputs": [
    {
     "name": "stdout",
     "output_type": "stream",
     "text": [
      "Zerg\n",
      "Zerg is the most weak race but it spreads like a plegue\n"
     ]
    }
   ],
   "source": [
    "selected_character = input()\n",
    "\n",
    "if selected_character == 'Protos': # == сравниваем с тем что ввел юзер\n",
    "    print('Protos is the most powerful race')\n",
    "elif selected_character == 'Zerg':       #а если (elif) .... Еще одно условие, помимо if\n",
    "    print('Zerg is the most weak race but it spreads like a plegue')\n",
    "elif selected_character == 'Terran':\n",
    "    print('Terran is a race balanced between Zerg and Protos')\n",
    "#elif'ов можем городить сколько угодно, в зависимости от вариативности и кейсов\n",
    "else:     # else - во всех остальных случаях\n",
    "    print(\"It's seems...we have a new race.\")"
   ]
  },
  {
   "cell_type": "code",
   "execution_count": null,
   "id": "1155c6ce",
   "metadata": {},
   "outputs": [],
   "source": []
  }
 ],
 "metadata": {
  "kernelspec": {
   "display_name": "Python 3",
   "language": "python",
   "name": "python3"
  },
  "language_info": {
   "codemirror_mode": {
    "name": "ipython",
    "version": 3
   },
   "file_extension": ".py",
   "mimetype": "text/x-python",
   "name": "python",
   "nbconvert_exporter": "python",
   "pygments_lexer": "ipython3",
   "version": "3.8.8"
  }
 },
 "nbformat": 4,
 "nbformat_minor": 5
}
