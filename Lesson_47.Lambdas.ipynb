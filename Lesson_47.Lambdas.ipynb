{
 "cells": [
  {
   "cell_type": "code",
   "execution_count": 1,
   "id": "7a142cdb",
   "metadata": {},
   "outputs": [],
   "source": [
    "#ф-я возведения числа в квадрат для n-колва аргументов\n",
    "\n",
    "def square(*args):\n",
    "    return [x*x for x in args]\n"
   ]
  },
  {
   "cell_type": "code",
   "execution_count": 8,
   "id": "07ef9c4b",
   "metadata": {},
   "outputs": [
    {
     "data": {
      "text/plain": [
       "[1, 4, 9, 16, 25, 36]"
      ]
     },
     "execution_count": 8,
     "metadata": {},
     "output_type": "execute_result"
    }
   ],
   "source": [
    "reuslt=square(1,2,3,4,5,6)\n",
    "reuslt"
   ]
  },
  {
   "cell_type": "code",
   "execution_count": 3,
   "id": "79b1fbaf",
   "metadata": {},
   "outputs": [],
   "source": [
    "def triple(*args):\n",
    "    return [x*3  for x in args]"
   ]
  },
  {
   "cell_type": "code",
   "execution_count": 7,
   "id": "e6edd5a6",
   "metadata": {},
   "outputs": [
    {
     "data": {
      "text/plain": [
       "[3, 6, 9, 12, 15]"
      ]
     },
     "execution_count": 7,
     "metadata": {},
     "output_type": "execute_result"
    }
   ],
   "source": [
    "result = triple(1,2,3,4,5)\n",
    "result"
   ]
  },
  {
   "cell_type": "code",
   "execution_count": 10,
   "id": "5e18038a",
   "metadata": {},
   "outputs": [],
   "source": [
    "def square(number):\n",
    "    return number*number\n",
    "\n",
    "numbers = [1,2,3,4,5]            #обьявим список \n",
    "mapped_sed = map(square,numbers)             #ф-я map() принимает ф-ю и список. Ф-я пойдет в цикле по элементам списка "
   ]
  },
  {
   "cell_type": "code",
   "execution_count": 11,
   "id": "bba74d2c",
   "metadata": {},
   "outputs": [
    {
     "name": "stdout",
     "output_type": "stream",
     "text": [
      "1\n",
      "4\n",
      "9\n",
      "16\n",
      "25\n"
     ]
    }
   ],
   "source": [
    "#для вывода на печать, нам необходимо вызвать таким образом\n",
    "\n",
    "for x in map(square,numbers):\n",
    "    print(x)"
   ]
  },
  {
   "cell_type": "code",
   "execution_count": 12,
   "id": "007f046f",
   "metadata": {},
   "outputs": [
    {
     "name": "stdout",
     "output_type": "stream",
     "text": [
      "<class 'map'>\n"
     ]
    }
   ],
   "source": [
    "print(type(mapped_sed))"
   ]
  },
  {
   "cell_type": "code",
   "execution_count": 13,
   "id": "20e39ca9",
   "metadata": {},
   "outputs": [
    {
     "data": {
      "text/plain": [
       "[1, 4, 9, 16, 25]"
      ]
     },
     "execution_count": 13,
     "metadata": {},
     "output_type": "execute_result"
    }
   ],
   "source": [
    "#можно запросить сразу список с результатами \n",
    "list(map(square,numbers))"
   ]
  },
  {
   "cell_type": "code",
   "execution_count": 14,
   "id": "a6e58cfa",
   "metadata": {},
   "outputs": [],
   "source": [
    "def is_adult(age):\n",
    "    return age >=18\n",
    "\n",
    "ages = [14,18,21,16,30]"
   ]
  },
  {
   "cell_type": "code",
   "execution_count": 16,
   "id": "08172bdd",
   "metadata": {},
   "outputs": [
    {
     "data": {
      "text/plain": [
       "[18, 21, 30]"
      ]
     },
     "execution_count": 16,
     "metadata": {},
     "output_type": "execute_result"
    }
   ],
   "source": [
    "list(filter(is_adult,ages))  #в ф-ю filter() передается обьект boolean и ф-я будет применять ее к каждому аргументу"
   ]
  },
  {
   "cell_type": "code",
   "execution_count": 17,
   "id": "df2bd247",
   "metadata": {},
   "outputs": [],
   "source": [
    "#трансформируем конструкцию в лямбду\n",
    "\n",
    "is_adult = lambda age: age >=18"
   ]
  },
  {
   "cell_type": "code",
   "execution_count": 18,
   "id": "d69b9d61",
   "metadata": {},
   "outputs": [
    {
     "data": {
      "text/plain": [
       "[18, 21, 30]"
      ]
     },
     "execution_count": 18,
     "metadata": {},
     "output_type": "execute_result"
    }
   ],
   "source": [
    "#можем лямбду передать в map() И filter() и обернуть в список\n",
    "\n",
    "list(filter(is_adult,ages))"
   ]
  },
  {
   "cell_type": "code",
   "execution_count": 19,
   "id": "3cff81de",
   "metadata": {},
   "outputs": [
    {
     "data": {
      "text/plain": [
       "[18, 21, 30]"
      ]
     },
     "execution_count": 19,
     "metadata": {},
     "output_type": "execute_result"
    }
   ],
   "source": [
    "#лямбду можем встроить в функции map() И filter(). Лучше использовать, если юзаем ф-ю только раз\n",
    "list(filter(lambda age: age >=18,ages))"
   ]
  },
  {
   "cell_type": "code",
   "execution_count": 20,
   "id": "07e125cb",
   "metadata": {},
   "outputs": [],
   "source": [
    "multiplayer = lambda x,y : x*y\n"
   ]
  },
  {
   "cell_type": "code",
   "execution_count": 21,
   "id": "60eeb967",
   "metadata": {},
   "outputs": [
    {
     "data": {
      "text/plain": [
       "6"
      ]
     },
     "execution_count": 21,
     "metadata": {},
     "output_type": "execute_result"
    }
   ],
   "source": [
    "multiplayer(2,3)"
   ]
  },
  {
   "cell_type": "code",
   "execution_count": null,
   "id": "a282131d",
   "metadata": {},
   "outputs": [],
   "source": []
  }
 ],
 "metadata": {
  "kernelspec": {
   "display_name": "Python 3",
   "language": "python",
   "name": "python3"
  },
  "language_info": {
   "codemirror_mode": {
    "name": "ipython",
    "version": 3
   },
   "file_extension": ".py",
   "mimetype": "text/x-python",
   "name": "python",
   "nbconvert_exporter": "python",
   "pygments_lexer": "ipython3",
   "version": "3.8.8"
  }
 },
 "nbformat": 4,
 "nbformat_minor": 5
}
