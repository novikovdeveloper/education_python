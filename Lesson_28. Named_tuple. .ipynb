{
 "cells": [
  {
   "cell_type": "code",
   "execution_count": 2,
   "id": "143602a6",
   "metadata": {},
   "outputs": [
    {
     "name": "stdout",
     "output_type": "stream",
     "text": [
      "('Carlsen', 1990, 2842)\n"
     ]
    }
   ],
   "source": [
    "players = [('Carlsen', 1990, 2842), ('Caruana', 1992, 2822), ('Mamedyarov', 1985, 2801)] #tuole завернуты в list \n",
    "print(players[0]) #обращаемся по индексу \n"
   ]
  },
  {
   "cell_type": "code",
   "execution_count": 3,
   "id": "43f67826",
   "metadata": {},
   "outputs": [],
   "source": [
    "from collections import namedtuple #импортируем из коллекций namedtuple для вывода какого-то элемента по индексу"
   ]
  },
  {
   "cell_type": "code",
   "execution_count": 4,
   "id": "59ad314e",
   "metadata": {},
   "outputs": [],
   "source": [
    "Player = namedtuple('Player', 'name age rating') #создаем именованный tuple. Передаем имя класса и элемента"
   ]
  },
  {
   "cell_type": "code",
   "execution_count": 5,
   "id": "6a6b1e5f",
   "metadata": {},
   "outputs": [
    {
     "data": {
      "text/plain": [
       "Player(name='Carlsen', age=1990, rating=2842)"
      ]
     },
     "execution_count": 5,
     "metadata": {},
     "output_type": "execute_result"
    }
   ],
   "source": [
    "players = [Player('Carlsen', 1990, 2842), Player('Caruana', 1992, 2822), ('Mamedyarov', 1985, 2801)] \n",
    "#создадим лист игроков с именовым tuple 'Player'\n",
    "players[0] # обращаемся по нулевому индексу нашего tuple "
   ]
  },
  {
   "cell_type": "code",
   "execution_count": 8,
   "id": "30390925",
   "metadata": {},
   "outputs": [
    {
     "data": {
      "text/plain": [
       "'Carlsen'"
      ]
     },
     "execution_count": 8,
     "metadata": {},
     "output_type": "execute_result"
    }
   ],
   "source": [
    "players[0].name #теперь можем обратиться к любому элементу индекса"
   ]
  },
  {
   "cell_type": "code",
   "execution_count": 9,
   "id": "ec7d8d52",
   "metadata": {},
   "outputs": [
    {
     "name": "stdout",
     "output_type": "stream",
     "text": [
      "Carlsen\n",
      "1990\n",
      "2842\n"
     ]
    }
   ],
   "source": [
    "p1 = Player('Carlsen', 1990, 2842) #вариант вываода атрибутов именованого tuple\n",
    "print(p1.name)\n",
    "print(p1.age)\n",
    "print(p1.rating)"
   ]
  },
  {
   "cell_type": "code",
   "execution_count": null,
   "id": "f700cc91",
   "metadata": {},
   "outputs": [],
   "source": []
  }
 ],
 "metadata": {
  "kernelspec": {
   "display_name": "Python 3",
   "language": "python",
   "name": "python3"
  },
  "language_info": {
   "codemirror_mode": {
    "name": "ipython",
    "version": 3
   },
   "file_extension": ".py",
   "mimetype": "text/x-python",
   "name": "python",
   "nbconvert_exporter": "python",
   "pygments_lexer": "ipython3",
   "version": "3.8.8"
  }
 },
 "nbformat": 4,
 "nbformat_minor": 5
}
