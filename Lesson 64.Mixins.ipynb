{
 "cells": [
  {
   "cell_type": "code",
   "execution_count": 5,
   "id": "0e70c184",
   "metadata": {},
   "outputs": [],
   "source": [
    "class Vehincle:\n",
    "    \n",
    "    def __init__(self,position):\n",
    "        self.position = position\n",
    "        \n",
    "    def travel(self,destination):\n",
    "        route = calculate_route(source = self.position, to = destination)\n",
    "        self.move_along(route)\n",
    "        \n",
    "    def calculate_route(self, source, to):\n",
    "        return 0\n",
    "    \n",
    "    def move_along(self,route):\n",
    "        print(\"moving\")\n",
    "        \n",
    "        \n",
    "class Car(Vehincle):\n",
    "    pass\n",
    "\n",
    "\n",
    "class Airplane(Vehincle):\n",
    "    pass\n",
    "\n"
   ]
  },
  {
   "cell_type": "code",
   "execution_count": 16,
   "id": "e64d2a51",
   "metadata": {},
   "outputs": [],
   "source": [
    "#для добавления радио для car, но не для airplane используем mixin\n",
    "\n",
    "class RadioMixin:\n",
    "    \n",
    "    def __init__(self):\n",
    "        self.radio = Radio()\n",
    "        \n",
    "    def turn_on(self,station):\n",
    "        self.radio.set_station(station)\n",
    "        self.radio.play()\n",
    "        \n",
    "class Radio:\n",
    "    def set_station(self,station):\n",
    "        self.station = station\n",
    "        \n",
    "    def play(self):\n",
    "        print(f\"palying {self.station}\")\n",
    "        \n",
    "        \n",
    "class Car(Vehincle,RadioMixin):\n",
    "    \n",
    "    def __init__(self):\n",
    "        Vehincle.__init__(self, (10,20))\n",
    "        RadioMixin.__init__(self)\n",
    "    "
   ]
  },
  {
   "cell_type": "code",
   "execution_count": 17,
   "id": "d59f6ebb",
   "metadata": {},
   "outputs": [
    {
     "name": "stdout",
     "output_type": "stream",
     "text": [
      "palying Moscow FM\n"
     ]
    }
   ],
   "source": [
    "car = Car()\n",
    "car.turn_on(\"Moscow FM\")"
   ]
  },
  {
   "cell_type": "code",
   "execution_count": null,
   "id": "b8770c0d",
   "metadata": {},
   "outputs": [],
   "source": []
  }
 ],
 "metadata": {
  "kernelspec": {
   "display_name": "Python 3",
   "language": "python",
   "name": "python3"
  },
  "language_info": {
   "codemirror_mode": {
    "name": "ipython",
    "version": 3
   },
   "file_extension": ".py",
   "mimetype": "text/x-python",
   "name": "python",
   "nbconvert_exporter": "python",
   "pygments_lexer": "ipython3",
   "version": "3.8.8"
  }
 },
 "nbformat": 4,
 "nbformat_minor": 5
}
