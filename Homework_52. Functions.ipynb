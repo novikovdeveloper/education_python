{
 "cells": [
  {
   "cell_type": "code",
   "execution_count": 1,
   "id": "47e72818",
   "metadata": {},
   "outputs": [],
   "source": [
    "#2 участника участвуют в дуэли. \n",
    "#Написать ф-ю, которая принимает 2 строки и вычисляет кто выстрелил первым\n",
    "#Если выстрелили одновременно, то написать tie \n",
    "\n",
    "def shutdown(p1,p2):\n",
    "    diff = p1.find(\"B\") - p2.find(\"B\")     #ввели ф-ю diff, и будем искать по индексу первую букву в слове \"bang\" в строках\n",
    "    if diff < 0:\n",
    "        return \"p1\"\n",
    "    elif diff > 0:\n",
    "        return \"p2\"\n",
    "    else:\n",
    "        return \"tie\"\n",
    "    \n",
    "        \n",
    "    "
   ]
  },
  {
   "cell_type": "code",
   "execution_count": 2,
   "id": "fde2127e",
   "metadata": {},
   "outputs": [
    {
     "name": "stdout",
     "output_type": "stream",
     "text": [
      "p1\n",
      "tie\n",
      "p2\n"
     ]
    }
   ],
   "source": [
    "print(shutdown(\"   Bang\", \"    Bang\"))\n",
    "print(shutdown(\"    Bang\", \"    Bang\"))\n",
    "print(shutdown(\"   Bang\", \"  Bang\"))"
   ]
  },
  {
   "cell_type": "code",
   "execution_count": 7,
   "id": "0a8c0afb",
   "metadata": {},
   "outputs": [],
   "source": [
    "#Ханойские башни \n",
    "\n",
    "def solve_hanoe_tower(discs):\n",
    "    return  2**discs - 1"
   ]
  },
  {
   "cell_type": "code",
   "execution_count": 8,
   "id": "db003fd2",
   "metadata": {},
   "outputs": [
    {
     "data": {
      "text/plain": [
       "1023"
      ]
     },
     "execution_count": 8,
     "metadata": {},
     "output_type": "execute_result"
    }
   ],
   "source": [
    "solve_hanoe_tower(10)"
   ]
  },
  {
   "cell_type": "code",
   "execution_count": 9,
   "id": "d466c90e",
   "metadata": {},
   "outputs": [
    {
     "data": {
      "text/plain": [
       "1"
      ]
     },
     "execution_count": 9,
     "metadata": {},
     "output_type": "execute_result"
    }
   ],
   "source": [
    "solve_hanoe_tower(1)"
   ]
  },
  {
   "cell_type": "code",
   "execution_count": 10,
   "id": "80817731",
   "metadata": {},
   "outputs": [
    {
     "data": {
      "text/plain": [
       "3"
      ]
     },
     "execution_count": 10,
     "metadata": {},
     "output_type": "execute_result"
    }
   ],
   "source": [
    "solve_hanoe_tower(2)"
   ]
  },
  {
   "cell_type": "code",
   "execution_count": 11,
   "id": "d8dfb0a6",
   "metadata": {},
   "outputs": [
    {
     "data": {
      "text/plain": [
       "15"
      ]
     },
     "execution_count": 11,
     "metadata": {},
     "output_type": "execute_result"
    }
   ],
   "source": [
    "solve_hanoe_tower(4)"
   ]
  },
  {
   "cell_type": "code",
   "execution_count": 12,
   "id": "a52f4d4c",
   "metadata": {},
   "outputs": [],
   "source": [
    "#Игра в кости\n",
    "#Складываем общее кол-во выпавших чисел и складываем в общее кол-во очков\n",
    "#Если выпадет дубль с двумя костяшками, то общее колво обнуляется и послед. броски не считаются\n",
    "#Необходимо написать ф-ю, принимающую список кортежей, и возвр. общее кол-во очков\n",
    "\n",
    "#[(4,5), (4,5), (4,5)]  - пример броска с двумя костяшками. Представлен в виде tuple\n",
    "\n",
    "def culc_dice_scores(lst):\n",
    "    return sum([a+b for a,b in lst ]) if not any([a==b for a,b in lst]) else 0  #sum тут будет считать суммы по tupl'am. Сделаем unpacking\n"
   ]
  },
  {
   "cell_type": "code",
   "execution_count": 14,
   "id": "3db66b1c",
   "metadata": {},
   "outputs": [
    {
     "data": {
      "text/plain": [
       "21"
      ]
     },
     "execution_count": 14,
     "metadata": {},
     "output_type": "execute_result"
    }
   ],
   "source": [
    "culc_dice_scores([(1,2), (3,4), (5,6)])"
   ]
  },
  {
   "cell_type": "code",
   "execution_count": 15,
   "id": "5d35003f",
   "metadata": {},
   "outputs": [
    {
     "data": {
      "text/plain": [
       "0"
      ]
     },
     "execution_count": 15,
     "metadata": {},
     "output_type": "execute_result"
    }
   ],
   "source": [
    "culc_dice_scores([(1,1), (3,4), (5,6)])"
   ]
  },
  {
   "cell_type": "code",
   "execution_count": 16,
   "id": "83a91ac2",
   "metadata": {},
   "outputs": [
    {
     "data": {
      "text/plain": [
       "27"
      ]
     },
     "execution_count": 16,
     "metadata": {},
     "output_type": "execute_result"
    }
   ],
   "source": [
    "culc_dice_scores([(4,5), (4,5), (4,5)])"
   ]
  },
  {
   "cell_type": "code",
   "execution_count": 22,
   "id": "920195ef",
   "metadata": {},
   "outputs": [],
   "source": [
    "#Написать ф-ю, которая принимает двумерный массив размера 3х3(9 элементов)\n",
    "#Двумерный массив заполнен числами от 1 до 9 \n",
    "#Ф-я должна вернуть False, если в массиве все числа от 1 до 9 встречаются 1 раз, если нет, то True \n",
    "    #[1,2,3,4,5,6,7,8,9] пример одномерного массива. Двумерный можем разложить в одномерный\n",
    "\n",
    "def any_duplicates(square):\n",
    "    plain = [i for x in square for i in x] #в x записывается подсписок, и по иксу мы итерируем\n",
    "    return sorted(plain) != [1,2,3,4,5,6,7,8,9]\n",
    "    \n",
    "    \n"
   ]
  },
  {
   "cell_type": "code",
   "execution_count": 23,
   "id": "bc6b6670",
   "metadata": {},
   "outputs": [
    {
     "data": {
      "text/plain": [
       "False"
      ]
     },
     "execution_count": 23,
     "metadata": {},
     "output_type": "execute_result"
    }
   ],
   "source": [
    "any_duplicates([[1,3,2], [9,7,8], [4,5,6]])"
   ]
  },
  {
   "cell_type": "code",
   "execution_count": 24,
   "id": "f8b5226a",
   "metadata": {},
   "outputs": [
    {
     "data": {
      "text/plain": [
       "False"
      ]
     },
     "execution_count": 24,
     "metadata": {},
     "output_type": "execute_result"
    }
   ],
   "source": [
    "any_duplicates([[5,9,6], [3,7,8], [4,1,2]])"
   ]
  },
  {
   "cell_type": "code",
   "execution_count": 25,
   "id": "14d3c594",
   "metadata": {},
   "outputs": [
    {
     "data": {
      "text/plain": [
       "True"
      ]
     },
     "execution_count": 25,
     "metadata": {},
     "output_type": "execute_result"
    }
   ],
   "source": [
    "any_duplicates([[1,9,6], [3,7,8], [4,1,2]]) #здесь есть дубликат, в других случаях его нет"
   ]
  },
  {
   "cell_type": "code",
   "execution_count": null,
   "id": "50a4516f",
   "metadata": {},
   "outputs": [],
   "source": []
  }
 ],
 "metadata": {
  "kernelspec": {
   "display_name": "Python 3",
   "language": "python",
   "name": "python3"
  },
  "language_info": {
   "codemirror_mode": {
    "name": "ipython",
    "version": 3
   },
   "file_extension": ".py",
   "mimetype": "text/x-python",
   "name": "python",
   "nbconvert_exporter": "python",
   "pygments_lexer": "ipython3",
   "version": "3.8.8"
  }
 },
 "nbformat": 4,
 "nbformat_minor": 5
}
