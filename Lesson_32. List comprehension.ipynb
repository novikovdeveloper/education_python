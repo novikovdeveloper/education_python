{
 "cells": [
  {
   "cell_type": "code",
   "execution_count": 1,
   "id": "1cefdaef",
   "metadata": {},
   "outputs": [
    {
     "data": {
      "text/plain": [
       "['H', 'e', 'l', 'l', 'o', ',', ' ', 'w', 'o', 'r', 'l', 'd', '!']"
      ]
     },
     "execution_count": 1,
     "metadata": {},
     "output_type": "execute_result"
    }
   ],
   "source": [
    "#попробуем построить цикл по вводу Hello, world! по каждому символу\n",
    "greeting = 'Hello, world!'\n",
    "chars = [] #создаем пустой список\n",
    "for l in greeting:\n",
    "    chars.append(l) #добавляем в список chars символы через метод append, представленный в каждой итерации переменой l\n",
    "chars\n",
    "    "
   ]
  },
  {
   "cell_type": "code",
   "execution_count": 2,
   "id": "09475e62",
   "metadata": {},
   "outputs": [
    {
     "data": {
      "text/plain": [
       "['H', 'e', 'l', 'l', 'o', ',', ' ', 'w', 'o', 'r', 'l', 'd', '!']"
      ]
     },
     "execution_count": 2,
     "metadata": {},
     "output_type": "execute_result"
    }
   ],
   "source": [
    "chars = [l for l in greeting] #при инициализации списка, встраиваем в синтаксис инициализации, цикл for.Лучше так, писать короче\n",
    "chars"
   ]
  },
  {
   "cell_type": "code",
   "execution_count": 3,
   "id": "7d0c3fe4",
   "metadata": {},
   "outputs": [
    {
     "data": {
      "text/plain": [
       "['b', 'l', 'a', '-', 'b', 'l', 'a', '-', 'b', 'l', 'a']"
      ]
     },
     "execution_count": 3,
     "metadata": {},
     "output_type": "execute_result"
    }
   ],
   "source": [
    "chars = [l for l in 'bla-bla-bla'] #можно встроить что-то итерируемов в переменную, напр. строчку\n",
    "chars"
   ]
  },
  {
   "cell_type": "code",
   "execution_count": 5,
   "id": "6a29c669",
   "metadata": {},
   "outputs": [
    {
     "data": {
      "text/plain": [
       "[0, 1, 2, 3, 4, 5, 6, 7, 8, 9, 10]"
      ]
     },
     "execution_count": 5,
     "metadata": {},
     "output_type": "execute_result"
    }
   ],
   "source": [
    "numbers = [0,1,2,3,4,5,6,7,8,9,10]\n",
    "numbers"
   ]
  },
  {
   "cell_type": "code",
   "execution_count": 6,
   "id": "85778a10",
   "metadata": {},
   "outputs": [
    {
     "data": {
      "text/plain": [
       "[0, 1, 2, 3, 4, 5, 6, 7, 8, 9, 10]"
      ]
     },
     "execution_count": 6,
     "metadata": {},
     "output_type": "execute_result"
    }
   ],
   "source": [
    "numbers = [n for n in range(0,11)] #Записали тоже самое, но короче \n",
    "numbers"
   ]
  },
  {
   "cell_type": "code",
   "execution_count": 7,
   "id": "39174e38",
   "metadata": {},
   "outputs": [
    {
     "data": {
      "text/plain": [
       "[0, 1, 4, 9, 16, 25, 36, 49, 64, 81, 100]"
      ]
     },
     "execution_count": 7,
     "metadata": {},
     "output_type": "execute_result"
    }
   ],
   "source": [
    "numbers = [n*n  for n in range(0,11)] #пример записи возведения в квадрат числа \n",
    "numbers"
   ]
  },
  {
   "cell_type": "code",
   "execution_count": 8,
   "id": "4ead5971",
   "metadata": {},
   "outputs": [
    {
     "data": {
      "text/plain": [
       "[1, 9, 25, 49, 81]"
      ]
     },
     "execution_count": 8,
     "metadata": {},
     "output_type": "execute_result"
    }
   ],
   "source": [
    "numbers = [n*n  for n in range(0,11) if n%2!=0] #таким образом можно указывать и условия, в данном случае, выводим нечетные чис.\n",
    "numbers"
   ]
  },
  {
   "cell_type": "code",
   "execution_count": 10,
   "id": "e4dd5fc5",
   "metadata": {},
   "outputs": [
    {
     "data": {
      "text/plain": [
       "[4.72, 3.94, 21.26, 48.82, 25.2]"
      ]
     },
     "execution_count": 10,
     "metadata": {},
     "output_type": "execute_result"
    }
   ],
   "source": [
    "len_in_santimeters = [12,10,54,124,64]\n",
    "\n",
    "len_in_inches = [(round(cm/2.54,2)) for cm in len_in_santimeters]\n",
    "#переводим см. в дюймы,вводим переменную cm, округляем до 2 знака\n",
    "len_in_inches"
   ]
  },
  {
   "cell_type": "code",
   "execution_count": 12,
   "id": "60fde736",
   "metadata": {},
   "outputs": [
    {
     "data": {
      "text/plain": [
       "['MM', 'GM', 'MM', 'GM', 'MM', 'GM']"
      ]
     },
     "execution_count": 12,
     "metadata": {},
     "output_type": "execute_result"
    }
   ],
   "source": [
    "ratings = [2485, 2580, 2480, 2600, 2482, 2520]\n",
    "titles = ['GM' if x>=2500 else 'MM' for x in ratings] #пример записи условий\n",
    "titles"
   ]
  },
  {
   "cell_type": "code",
   "execution_count": 14,
   "id": "50019439",
   "metadata": {},
   "outputs": [
    {
     "data": {
      "text/plain": [
       "[(2, -2), (-5, 5), (6, -6), (-2, 2)]"
      ]
     },
     "execution_count": 14,
     "metadata": {},
     "output_type": "execute_result"
    }
   ],
   "source": [
    "list1 = [2,4,-5,6,8,-2]\n",
    "list2 = [2,-6,8,3,5,-2]\n",
    "\n",
    "pairs = []\n",
    "for x in list1:\n",
    "    for y in list2:\n",
    "        cur_sum = x+y\n",
    "        if cur_sum ==0:\n",
    "            pairs.append((x, y))\n",
    "pairs"
   ]
  },
  {
   "cell_type": "code",
   "execution_count": 15,
   "id": "93bfb263",
   "metadata": {},
   "outputs": [
    {
     "data": {
      "text/plain": [
       "[(2, -2), (-5, 5), (6, -6), (-2, 2)]"
      ]
     },
     "execution_count": 15,
     "metadata": {},
     "output_type": "execute_result"
    }
   ],
   "source": [
    "#тоже самое, но с list comprehensions\n",
    "pairs = [(x,y) for x in list1 for y in list2 if x+y==0]\n",
    "pairs"
   ]
  },
  {
   "cell_type": "code",
   "execution_count": null,
   "id": "3d75c543",
   "metadata": {},
   "outputs": [],
   "source": []
  }
 ],
 "metadata": {
  "kernelspec": {
   "display_name": "Python 3",
   "language": "python",
   "name": "python3"
  },
  "language_info": {
   "codemirror_mode": {
    "name": "ipython",
    "version": 3
   },
   "file_extension": ".py",
   "mimetype": "text/x-python",
   "name": "python",
   "nbconvert_exporter": "python",
   "pygments_lexer": "ipython3",
   "version": "3.8.8"
  }
 },
 "nbformat": 4,
 "nbformat_minor": 5
}
