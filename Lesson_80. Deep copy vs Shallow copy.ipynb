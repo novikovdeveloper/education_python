{
 "cells": [
  {
   "cell_type": "code",
   "execution_count": 3,
   "id": "9e3c6d68",
   "metadata": {},
   "outputs": [
    {
     "name": "stdout",
     "output_type": "stream",
     "text": [
      "[1, 2, 3, [4, 5, 6, 7]]\n",
      "[1, 2, 3, [4, 5, 6, 7]]\n"
     ]
    }
   ],
   "source": [
    "list1 = [1,2,3,[4,5,6]]\n",
    "\n",
    "copied_list = list1.copy()\n",
    "copied_list[3].append(7)\n",
    "\n",
    "print(list1)\n",
    "print(copied_list)"
   ]
  },
  {
   "cell_type": "code",
   "execution_count": 4,
   "id": "ae6f24af",
   "metadata": {},
   "outputs": [],
   "source": [
    "list1.append(8)  #проблема глубокого копирования характерна для обьектов внутри обьекта"
   ]
  },
  {
   "cell_type": "code",
   "execution_count": 5,
   "id": "962bfe53",
   "metadata": {},
   "outputs": [
    {
     "name": "stdout",
     "output_type": "stream",
     "text": [
      "[1, 2, 3, [4, 5, 6, 7], 8]\n",
      "[1, 2, 3, [4, 5, 6, 7]]\n"
     ]
    }
   ],
   "source": [
    "print(list1)\n",
    "print(copied_list)"
   ]
  },
  {
   "cell_type": "code",
   "execution_count": 6,
   "id": "cd4ca679",
   "metadata": {},
   "outputs": [],
   "source": [
    "import copy        #воспользуемся глубоким копированием. copy & deep copy "
   ]
  },
  {
   "cell_type": "code",
   "execution_count": 9,
   "id": "61482832",
   "metadata": {},
   "outputs": [],
   "source": [
    "shallow_copy = copy.copy(list1)  #по умолчанию, поверхностная копия \n",
    "shallow_copy[3].append(8)"
   ]
  },
  {
   "cell_type": "code",
   "execution_count": 10,
   "id": "abae636b",
   "metadata": {},
   "outputs": [
    {
     "name": "stdout",
     "output_type": "stream",
     "text": [
      "[1, 2, 3, [4, 5, 6, 7, 8], 8]\n",
      "[1, 2, 3, [4, 5, 6, 7, 8], 8]\n"
     ]
    }
   ],
   "source": [
    "# поверхностное копирование идентично обычному \n",
    "print(list1)\n",
    "print(shallow_copy) "
   ]
  },
  {
   "cell_type": "code",
   "execution_count": 11,
   "id": "4ddcec11",
   "metadata": {},
   "outputs": [
    {
     "name": "stdout",
     "output_type": "stream",
     "text": [
      "[1, 2, 3, [4, 5, 6, 7, 8], 8]\n",
      "[1, 2, 3, [4, 5, 6, 7, 8, 9], 8]\n"
     ]
    }
   ],
   "source": [
    "#добавится только в копию\n",
    "deep_copy = copy.deepcopy(list1)\n",
    "deep_copy[3].append(9)\n",
    "\n",
    "print(list1)\n",
    "print(deep_copy)"
   ]
  },
  {
   "cell_type": "code",
   "execution_count": 12,
   "id": "220416b4",
   "metadata": {},
   "outputs": [],
   "source": [
    "class Point():\n",
    "    def __init__(self, x, y):\n",
    "        self.x = x\n",
    "        self.y = y \n",
    "    \n",
    "    def __repr__(self):\n",
    "        return f\"Point({self.x}, {self.y})\""
   ]
  },
  {
   "cell_type": "code",
   "execution_count": 13,
   "id": "ea4f96a9",
   "metadata": {},
   "outputs": [],
   "source": [
    "a = Point(1,2)\n",
    "b = copy.copy(a)"
   ]
  },
  {
   "cell_type": "code",
   "execution_count": 14,
   "id": "c0cc4d25",
   "metadata": {},
   "outputs": [],
   "source": [
    "a.x = 3 "
   ]
  },
  {
   "cell_type": "code",
   "execution_count": 15,
   "id": "945d9617",
   "metadata": {},
   "outputs": [
    {
     "name": "stdout",
     "output_type": "stream",
     "text": [
      "Point(3, 2)\n",
      "Point(1, 2)\n"
     ]
    }
   ],
   "source": [
    "#x модифицируется только для а \n",
    "print(a)\n",
    "print(b)"
   ]
  },
  {
   "cell_type": "code",
   "execution_count": 24,
   "id": "9a5222c5",
   "metadata": {},
   "outputs": [],
   "source": [
    "class Line():\n",
    "    def __init__(self, p1, p2):\n",
    "        self.p1 = p1\n",
    "        self.p2 = p2 \n",
    "        \n",
    "    def __copy__(self):   #сделаем не глубокое копирование\n",
    "        cls = self.__class__\n",
    "        result = cls.__new__(cls)\n",
    "        result.__dict__.update(self.__dict__)\n",
    "        return result \n",
    "    \n",
    "    def __deepcopy__(self,memo):\n",
    "        cls = self.__class__\n",
    "        result = cls.__new__(cls)\n",
    "        memo[id(self)] = result \n",
    "        \n",
    "        for k,v in self.__dict__.items():\n",
    "            setattr(result,k,copy.deepcopy(v, memo)) \n",
    "        \n",
    "        return result\n",
    "        "
   ]
  },
  {
   "cell_type": "code",
   "execution_count": 25,
   "id": "e37246ef",
   "metadata": {},
   "outputs": [
    {
     "name": "stdout",
     "output_type": "stream",
     "text": [
      "Point(6, 2)\n",
      "Point(6, 2)\n"
     ]
    }
   ],
   "source": [
    "l1 = Line(a,b)\n",
    "l2 = copy.copy(l1)\n",
    "\n",
    "print(l1.p1)\n",
    "print(l2.p1)"
   ]
  },
  {
   "cell_type": "code",
   "execution_count": 26,
   "id": "8141a242",
   "metadata": {},
   "outputs": [
    {
     "name": "stdout",
     "output_type": "stream",
     "text": [
      "Point(4, 2)\n",
      "Point(4, 2)\n"
     ]
    }
   ],
   "source": [
    "l1.p1.x = 4 \n",
    "print(l1.p1)\n",
    "print(l2.p1)"
   ]
  },
  {
   "cell_type": "code",
   "execution_count": 27,
   "id": "9001791c",
   "metadata": {},
   "outputs": [
    {
     "name": "stdout",
     "output_type": "stream",
     "text": [
      "Point(4, 2)\n",
      "Point(4, 2)\n",
      "Point(6, 2)\n",
      "Point(4, 2)\n"
     ]
    }
   ],
   "source": [
    "l1 = Line(a,b)\n",
    "l2 = copy.deepcopy(l1)\n",
    "\n",
    "print(l1.p1)\n",
    "print(l2.p1)\n",
    "\n",
    "l1.p1.x = 6\n",
    "\n",
    "print(l1.p1)\n",
    "print(l2.p1)"
   ]
  },
  {
   "cell_type": "code",
   "execution_count": null,
   "id": "9a0e6bf2",
   "metadata": {},
   "outputs": [],
   "source": []
  }
 ],
 "metadata": {
  "kernelspec": {
   "display_name": "Python 3",
   "language": "python",
   "name": "python3"
  },
  "language_info": {
   "codemirror_mode": {
    "name": "ipython",
    "version": 3
   },
   "file_extension": ".py",
   "mimetype": "text/x-python",
   "name": "python",
   "nbconvert_exporter": "python",
   "pygments_lexer": "ipython3",
   "version": "3.8.8"
  }
 },
 "nbformat": 4,
 "nbformat_minor": 5
}
