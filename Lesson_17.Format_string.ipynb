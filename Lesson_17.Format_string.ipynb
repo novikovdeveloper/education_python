{
 "cells": [
  {
   "cell_type": "code",
   "execution_count": 2,
   "id": "dea43661",
   "metadata": {},
   "outputs": [
    {
     "name": "stdout",
     "output_type": "stream",
     "text": [
      "My name is Denis\n"
     ]
    }
   ],
   "source": [
    "print(\"My name is {}\".format(\"Denis\"))"
   ]
  },
  {
   "cell_type": "code",
   "execution_count": 3,
   "id": "dda15c8d",
   "metadata": {},
   "outputs": [
    {
     "name": "stdout",
     "output_type": "stream",
     "text": [
      "My name is Denis\n"
     ]
    }
   ],
   "source": [
    "my_name = \"Denis\" \n",
    "print(\"My name is {}\".format(my_name))"
   ]
  },
  {
   "cell_type": "code",
   "execution_count": 4,
   "id": "1f464e54",
   "metadata": {},
   "outputs": [
    {
     "name": "stdout",
     "output_type": "stream",
     "text": [
      "My name is Denis and i'm 28\n"
     ]
    }
   ],
   "source": [
    "print(\"My name is {} and i'm {}\".format(\"Denis\", 28))"
   ]
  },
  {
   "cell_type": "code",
   "execution_count": 5,
   "id": "978690a0",
   "metadata": {},
   "outputs": [
    {
     "name": "stdout",
     "output_type": "stream",
     "text": [
      "My name is Denis and i'm 28\n"
     ]
    }
   ],
   "source": [
    "print(\"My name is {0} and i'm {1}\".format(\"Denis\", 28))"
   ]
  },
  {
   "cell_type": "code",
   "execution_count": 6,
   "id": "f7335278",
   "metadata": {},
   "outputs": [
    {
     "name": "stdout",
     "output_type": "stream",
     "text": [
      "My name is 28 and i'm Denis\n"
     ]
    }
   ],
   "source": [
    "print(\"My name is {1} and i'm {0}\".format(\"Denis\", 28))"
   ]
  },
  {
   "cell_type": "code",
   "execution_count": 7,
   "id": "4df4f9d5",
   "metadata": {},
   "outputs": [
    {
     "name": "stdout",
     "output_type": "stream",
     "text": [
      "My name is Denis and i'm Denis\n"
     ]
    }
   ],
   "source": [
    "print(\"My name is {0} and i'm {0}\".format(\"Denis\", 28))"
   ]
  },
  {
   "cell_type": "code",
   "execution_count": 8,
   "id": "4478cf01",
   "metadata": {},
   "outputs": [
    {
     "name": "stdout",
     "output_type": "stream",
     "text": [
      "My name is 28 and i'm 28\n"
     ]
    }
   ],
   "source": [
    "print(\"My name is {1} and i'm {1}\".format(\"Denis\", 28))"
   ]
  },
  {
   "cell_type": "code",
   "execution_count": 9,
   "id": "a357eaa0",
   "metadata": {},
   "outputs": [
    {
     "data": {
      "text/plain": [
       "3.1415"
      ]
     },
     "execution_count": 9,
     "metadata": {},
     "output_type": "execute_result"
    }
   ],
   "source": [
    "pi = 3.1415\n",
    "pi"
   ]
  },
  {
   "cell_type": "code",
   "execution_count": 3,
   "id": "92ee0ce8",
   "metadata": {},
   "outputs": [
    {
     "ename": "NameError",
     "evalue": "name 'pi' is not defined",
     "output_type": "error",
     "traceback": [
      "\u001b[1;31m---------------------------------------------------------------------------\u001b[0m",
      "\u001b[1;31mNameError\u001b[0m                                 Traceback (most recent call last)",
      "\u001b[1;32m<ipython-input-3-7382076ed9d1>\u001b[0m in \u001b[0;36m<module>\u001b[1;34m\u001b[0m\n\u001b[1;32m----> 1\u001b[1;33m \u001b[0mprint\u001b[0m\u001b[1;33m(\u001b[0m\u001b[1;34m\"pi equals {pi:1.2f}\"\u001b[0m\u001b[1;33m.\u001b[0m\u001b[0mformat\u001b[0m\u001b[1;33m(\u001b[0m\u001b[0mpi\u001b[0m\u001b[1;33m=\u001b[0m\u001b[0mpi\u001b[0m\u001b[1;33m)\u001b[0m\u001b[1;33m)\u001b[0m\u001b[1;33m\u001b[0m\u001b[1;33m\u001b[0m\u001b[0m\n\u001b[0m",
      "\u001b[1;31mNameError\u001b[0m: name 'pi' is not defined"
     ]
    }
   ],
   "source": [
    "print(\"pi equals {pi:1.2f}\".format(pi=pi))"
   ]
  },
  {
   "cell_type": "code",
   "execution_count": 2,
   "id": "19efdbef",
   "metadata": {},
   "outputs": [
    {
     "ename": "NameError",
     "evalue": "name 'pi' is not defined",
     "output_type": "error",
     "traceback": [
      "\u001b[1;31m---------------------------------------------------------------------------\u001b[0m",
      "\u001b[1;31mNameError\u001b[0m                                 Traceback (most recent call last)",
      "\u001b[1;32m<ipython-input-2-7382076ed9d1>\u001b[0m in \u001b[0;36m<module>\u001b[1;34m\u001b[0m\n\u001b[1;32m----> 1\u001b[1;33m \u001b[0mprint\u001b[0m\u001b[1;33m(\u001b[0m\u001b[1;34m\"pi equals {pi:1.2f}\"\u001b[0m\u001b[1;33m.\u001b[0m\u001b[0mformat\u001b[0m\u001b[1;33m(\u001b[0m\u001b[0mpi\u001b[0m\u001b[1;33m=\u001b[0m\u001b[0mpi\u001b[0m\u001b[1;33m)\u001b[0m\u001b[1;33m)\u001b[0m\u001b[1;33m\u001b[0m\u001b[1;33m\u001b[0m\u001b[0m\n\u001b[0m",
      "\u001b[1;31mNameError\u001b[0m: name 'pi' is not defined"
     ]
    }
   ],
   "source": [
    "print(\"pi equals {pi:1.2f}\".format(pi=pi))"
   ]
  },
  {
   "cell_type": "code",
   "execution_count": 4,
   "id": "15c9dece",
   "metadata": {},
   "outputs": [
    {
     "data": {
      "text/plain": [
       "3.1415"
      ]
     },
     "execution_count": 4,
     "metadata": {},
     "output_type": "execute_result"
    }
   ],
   "source": [
    "pi = 3.1415\n",
    "pi"
   ]
  },
  {
   "cell_type": "code",
   "execution_count": 5,
   "id": "6889c3ce",
   "metadata": {},
   "outputs": [
    {
     "name": "stdout",
     "output_type": "stream",
     "text": [
      "pi equals 3.14\n"
     ]
    }
   ],
   "source": [
    "print(\"pi equals {pi:1.2f}\".format(pi=pi))"
   ]
  },
  {
   "cell_type": "code",
   "execution_count": 7,
   "id": "d95dac53",
   "metadata": {},
   "outputs": [
    {
     "name": "stdout",
     "output_type": "stream",
     "text": [
      "pi equals     3.14\n"
     ]
    }
   ],
   "source": [
    "print(\"pi equals {pi:8.2f}\".format(pi=pi))"
   ]
  },
  {
   "cell_type": "code",
   "execution_count": 9,
   "id": "59f20961",
   "metadata": {},
   "outputs": [
    {
     "name": "stdout",
     "output_type": "stream",
     "text": [
      "My name is Denis and i'm 28\n"
     ]
    }
   ],
   "source": [
    "name = \"Denis\"\n",
    "age = 28\n",
    "print(f\"My name is {name} and i'm {age}\")"
   ]
  },
  {
   "cell_type": "code",
   "execution_count": 10,
   "id": "9dddae37",
   "metadata": {},
   "outputs": [
    {
     "name": "stdout",
     "output_type": "stream",
     "text": [
      "p equals 3.14\n"
     ]
    }
   ],
   "source": [
    "print(f\"p equals {pi:1.2f}\")"
   ]
  },
  {
   "cell_type": "code",
   "execution_count": null,
   "id": "26eb05f1",
   "metadata": {},
   "outputs": [],
   "source": []
  }
 ],
 "metadata": {
  "kernelspec": {
   "display_name": "Python 3",
   "language": "python",
   "name": "python3"
  },
  "language_info": {
   "codemirror_mode": {
    "name": "ipython",
    "version": 3
   },
   "file_extension": ".py",
   "mimetype": "text/x-python",
   "name": "python",
   "nbconvert_exporter": "python",
   "pygments_lexer": "ipython3",
   "version": "3.8.8"
  }
 },
 "nbformat": 4,
 "nbformat_minor": 5
}
