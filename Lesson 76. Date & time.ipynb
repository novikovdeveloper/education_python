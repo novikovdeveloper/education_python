{
 "cells": [
  {
   "cell_type": "code",
   "execution_count": 16,
   "id": "686830cb",
   "metadata": {},
   "outputs": [],
   "source": [
    "from datetime import datetime\n",
    "from datetime import time\n",
    "from datetime import date\n",
    "from datetime import timedelta\n",
    "\n"
   ]
  },
  {
   "cell_type": "code",
   "execution_count": 2,
   "id": "a5b93945",
   "metadata": {},
   "outputs": [
    {
     "name": "stdout",
     "output_type": "stream",
     "text": [
      "2019-03-12\n",
      "2019\n",
      "3\n",
      "12\n"
     ]
    }
   ],
   "source": [
    "d1 = date(2019,3,12) #принимает в себя год, месяц, день\n",
    "print(d1)\n",
    "print(d1.year)\n",
    "print(d1.month)\n",
    "print(d1.day)\n"
   ]
  },
  {
   "cell_type": "code",
   "execution_count": 3,
   "id": "fe6903a6",
   "metadata": {},
   "outputs": [
    {
     "name": "stdout",
     "output_type": "stream",
     "text": [
      "23:10:59\n",
      "23\n",
      "10\n",
      "59\n"
     ]
    }
   ],
   "source": [
    "t1 = time(23,10,59) #принимает в себя часы, минуты, секунды\n",
    "print(t1)\n",
    "print(t1.hour)\n",
    "print(t1.minute)\n",
    "print(t1.second)\n"
   ]
  },
  {
   "cell_type": "code",
   "execution_count": 5,
   "id": "5ef3062f",
   "metadata": {},
   "outputs": [
    {
     "name": "stdout",
     "output_type": "stream",
     "text": [
      "2021-11-12\n"
     ]
    }
   ],
   "source": [
    "print(date.today())    #берем сегодняшнюю дату"
   ]
  },
  {
   "cell_type": "code",
   "execution_count": 6,
   "id": "731de4e7",
   "metadata": {},
   "outputs": [
    {
     "name": "stdout",
     "output_type": "stream",
     "text": [
      "9999-12-31\n",
      "0001-01-01\n",
      "23:59:59.999999\n",
      "00:00:00\n"
     ]
    }
   ],
   "source": [
    "print(date.max)\n",
    "print(date.min)\n",
    "print(time.max)\n",
    "print(time.min)"
   ]
  },
  {
   "cell_type": "code",
   "execution_count": 7,
   "id": "e9aeeb58",
   "metadata": {},
   "outputs": [
    {
     "name": "stdout",
     "output_type": "stream",
     "text": [
      "2019-03-12 15:17:00\n"
     ]
    }
   ],
   "source": [
    "dt = datetime(2019,3,12,15,17)      #можем склеить дату и время. Год, месяц, день, час, минута\n",
    "print(dt)"
   ]
  },
  {
   "cell_type": "code",
   "execution_count": 9,
   "id": "6edadcea",
   "metadata": {},
   "outputs": [
    {
     "name": "stdout",
     "output_type": "stream",
     "text": [
      "2019\n",
      "15\n"
     ]
    }
   ],
   "source": [
    "print(dt.date().year)    #можем обратиться в той конструкции к любому элементу\n",
    "print(dt.time().hour)"
   ]
  },
  {
   "cell_type": "code",
   "execution_count": 10,
   "id": "5837aa8a",
   "metadata": {},
   "outputs": [
    {
     "name": "stdout",
     "output_type": "stream",
     "text": [
      "9999-12-31 23:59:59.999999\n",
      "0001-01-01 00:00:00\n"
     ]
    }
   ],
   "source": [
    "print(datetime.max)\n",
    "print(datetime.min)"
   ]
  },
  {
   "cell_type": "code",
   "execution_count": 11,
   "id": "689cccbc",
   "metadata": {},
   "outputs": [
    {
     "name": "stdout",
     "output_type": "stream",
     "text": [
      "2021-11-12 16:37:21.052752\n"
     ]
    }
   ],
   "source": [
    "now = datetime.now()  #выводит текущее время\n",
    "print(now)"
   ]
  },
  {
   "cell_type": "code",
   "execution_count": 12,
   "id": "7eb53adb",
   "metadata": {},
   "outputs": [
    {
     "name": "stdout",
     "output_type": "stream",
     "text": [
      "2021\n",
      "11\n"
     ]
    }
   ],
   "source": [
    "print(now.year) #можно также запросить текущие параметры конструкции\n",
    "print(now.month)"
   ]
  },
  {
   "cell_type": "code",
   "execution_count": 13,
   "id": "95079a08",
   "metadata": {},
   "outputs": [
    {
     "name": "stdout",
     "output_type": "stream",
     "text": [
      "2018-11-12 16:37:21.052752\n"
     ]
    }
   ],
   "source": [
    "new_dt = now.replace(year = 2018)             #можем поменять значение у текущей даты \n",
    "print(new_dt)"
   ]
  },
  {
   "cell_type": "code",
   "execution_count": 18,
   "id": "a2e9f99a",
   "metadata": {},
   "outputs": [
    {
     "name": "stdout",
     "output_type": "stream",
     "text": [
      "2018-08-30 00:00:00\n",
      "2018-03-29 10:40:00\n",
      "2018-06-28 09:20:00\n",
      "2018-06-28 00:00:00\n"
     ]
    }
   ],
   "source": [
    "#парсим дату, которая передана строкой. d-день месяца, m-порядковый номер месяца, Y- год в виде 3х чисел, y- в виде двух.\n",
    "\n",
    "dt = datetime.strptime(\"30/08/2018\", \"%d/%m/%Y\") \n",
    "print(dt)\n",
    "\n",
    "dt = datetime.strptime(\"29/03/2018 10:40\", \"%d/%m/%Y %H:%M\") #H- час в 24 формате\n",
    "print(dt)\n",
    "\n",
    "dt = datetime.strptime(\"06-28-2018 09:20\", \"%m-%d-%Y %H:%M\")\n",
    "print(dt)\n",
    "\n",
    "dt = datetime.strptime(\"2018-06-28\", \"%Y-%m-%d\")\n",
    "print(dt)"
   ]
  },
  {
   "cell_type": "code",
   "execution_count": null,
   "id": "cf720b5b",
   "metadata": {},
   "outputs": [],
   "source": []
  }
 ],
 "metadata": {
  "kernelspec": {
   "display_name": "Python 3",
   "language": "python",
   "name": "python3"
  },
  "language_info": {
   "codemirror_mode": {
    "name": "ipython",
    "version": 3
   },
   "file_extension": ".py",
   "mimetype": "text/x-python",
   "name": "python",
   "nbconvert_exporter": "python",
   "pygments_lexer": "ipython3",
   "version": "3.8.8"
  }
 },
 "nbformat": 4,
 "nbformat_minor": 5
}
