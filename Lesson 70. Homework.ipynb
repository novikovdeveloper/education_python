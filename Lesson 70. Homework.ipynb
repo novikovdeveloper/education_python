{
 "cells": [
  {
   "cell_type": "code",
   "execution_count": 1,
   "id": "803a0cba",
   "metadata": {},
   "outputs": [],
   "source": [
    "# Игра \"Крестики-нолики\"\n",
    "\n",
    "board = [\" \", \" \", \" \", \" \", \" \", \" \", \" \", \" \", \" \",]"
   ]
  },
  {
   "cell_type": "code",
   "execution_count": 2,
   "id": "0b6dc01e",
   "metadata": {},
   "outputs": [],
   "source": [
    "def print_state(state):\n",
    "    for i, c in enumerate(state):\n",
    "        if (i+1)%3 == 0:              #через каждый 3-й символ перенос строки\n",
    "            print(f'{c}')\n",
    "        else:\n",
    "            print(f'{c}|', end = \"\")   #передадим в аргумент end пустую строчку, чтобы картетка не переводилась"
   ]
  },
  {
   "cell_type": "code",
   "execution_count": 3,
   "id": "69606fe6",
   "metadata": {},
   "outputs": [
    {
     "name": "stdout",
     "output_type": "stream",
     "text": [
      " | | \n",
      " | | \n",
      " | | \n"
     ]
    }
   ],
   "source": [
    "print_state(board)"
   ]
  },
  {
   "cell_type": "code",
   "execution_count": 4,
   "id": "3bf28240",
   "metadata": {},
   "outputs": [],
   "source": [
    "#выигрышные комбинации при заполнении одним символом\n",
    "winning_combinations = [(0,1,2,), (3,4,5), (6,7,8), (0,3,6), (1,4,7), (2,5,8), (0,4,8), (2,4,6)] \n",
    "\n"
   ]
  },
  {
   "cell_type": "code",
   "execution_count": 5,
   "id": "81f33bb1",
   "metadata": {},
   "outputs": [],
   "source": [
    "def get_winner(state, combinations):\n",
    "    for x,y,z in combinations:\n",
    "        if state[x] == state[y] and state[y] == state[z] and (state[x] == 'X' or state[y] == 'O'):\n",
    "            return state[x] \n",
    "    return ''"
   ]
  },
  {
   "cell_type": "code",
   "execution_count": 6,
   "id": "7e03fa87",
   "metadata": {},
   "outputs": [],
   "source": [
    "def paly_game(board):\n",
    "    current_sign = 'X'\n",
    "    while(get_winner(board, winning_combinations)==''):\n",
    "        index = int(input(f'Где напишем {current_sign}?'))\n",
    "        board[index] = current_sign\n",
    "        \n",
    "        \n",
    "        print_state(board)\n",
    "        \n",
    "        winner_sign = get_winner(board, winning_combinations)\n",
    "        if winner_sign != '':\n",
    "            print(f'Победитель: {winner_sign}')\n",
    "            \n",
    "        current_sign = 'X' if current_sign == 'O' else 'O'"
   ]
  },
  {
   "cell_type": "code",
   "execution_count": 7,
   "id": "c71c10ef",
   "metadata": {},
   "outputs": [
    {
     "name": "stdout",
     "output_type": "stream",
     "text": [
      "Где напишем X?1\n",
      " |X| \n",
      " | | \n",
      " | | \n",
      "Где напишем O?5\n",
      " |X| \n",
      " | |O\n",
      " | | \n",
      "Где напишем X?3\n",
      " |X| \n",
      "X| |O\n",
      " | | \n",
      "Где напишем O?7\n",
      " |X| \n",
      "X| |O\n",
      " |O| \n",
      "Где напишем X?1\n",
      " |X| \n",
      "X| |O\n",
      " |O| \n",
      "Где напишем O?9\n"
     ]
    },
    {
     "ename": "IndexError",
     "evalue": "list assignment index out of range",
     "output_type": "error",
     "traceback": [
      "\u001b[1;31m---------------------------------------------------------------------------\u001b[0m",
      "\u001b[1;31mIndexError\u001b[0m                                Traceback (most recent call last)",
      "\u001b[1;32m<ipython-input-7-67ea09cbf352>\u001b[0m in \u001b[0;36m<module>\u001b[1;34m\u001b[0m\n\u001b[1;32m----> 1\u001b[1;33m \u001b[0mpaly_game\u001b[0m\u001b[1;33m(\u001b[0m\u001b[0mboard\u001b[0m\u001b[1;33m)\u001b[0m\u001b[1;33m\u001b[0m\u001b[1;33m\u001b[0m\u001b[0m\n\u001b[0m",
      "\u001b[1;32m<ipython-input-6-53c4473f2c2f>\u001b[0m in \u001b[0;36mpaly_game\u001b[1;34m(board)\u001b[0m\n\u001b[0;32m      3\u001b[0m     \u001b[1;32mwhile\u001b[0m\u001b[1;33m(\u001b[0m\u001b[0mget_winner\u001b[0m\u001b[1;33m(\u001b[0m\u001b[0mboard\u001b[0m\u001b[1;33m,\u001b[0m \u001b[0mwinning_combinations\u001b[0m\u001b[1;33m)\u001b[0m\u001b[1;33m==\u001b[0m\u001b[1;34m''\u001b[0m\u001b[1;33m)\u001b[0m\u001b[1;33m:\u001b[0m\u001b[1;33m\u001b[0m\u001b[1;33m\u001b[0m\u001b[0m\n\u001b[0;32m      4\u001b[0m         \u001b[0mindex\u001b[0m \u001b[1;33m=\u001b[0m \u001b[0mint\u001b[0m\u001b[1;33m(\u001b[0m\u001b[0minput\u001b[0m\u001b[1;33m(\u001b[0m\u001b[1;34mf'Где напишем {current_sign}?'\u001b[0m\u001b[1;33m)\u001b[0m\u001b[1;33m)\u001b[0m\u001b[1;33m\u001b[0m\u001b[1;33m\u001b[0m\u001b[0m\n\u001b[1;32m----> 5\u001b[1;33m         \u001b[0mboard\u001b[0m\u001b[1;33m[\u001b[0m\u001b[0mindex\u001b[0m\u001b[1;33m]\u001b[0m \u001b[1;33m=\u001b[0m \u001b[0mcurrent_sign\u001b[0m\u001b[1;33m\u001b[0m\u001b[1;33m\u001b[0m\u001b[0m\n\u001b[0m\u001b[0;32m      6\u001b[0m \u001b[1;33m\u001b[0m\u001b[0m\n\u001b[0;32m      7\u001b[0m \u001b[1;33m\u001b[0m\u001b[0m\n",
      "\u001b[1;31mIndexError\u001b[0m: list assignment index out of range"
     ]
    }
   ],
   "source": [
    "paly_game(board)"
   ]
  },
  {
   "cell_type": "code",
   "execution_count": null,
   "id": "4a66cb83",
   "metadata": {},
   "outputs": [],
   "source": []
  }
 ],
 "metadata": {
  "kernelspec": {
   "display_name": "Python 3",
   "language": "python",
   "name": "python3"
  },
  "language_info": {
   "codemirror_mode": {
    "name": "ipython",
    "version": 3
   },
   "file_extension": ".py",
   "mimetype": "text/x-python",
   "name": "python",
   "nbconvert_exporter": "python",
   "pygments_lexer": "ipython3",
   "version": "3.8.8"
  }
 },
 "nbformat": 4,
 "nbformat_minor": 5
}
