{
 "cells": [
  {
   "cell_type": "code",
   "execution_count": 4,
   "id": "9d38379a",
   "metadata": {},
   "outputs": [],
   "source": [
    "def divide(a,b):\n",
    "    try:                #блок, в котором, предположительно, может возникнуть ошибка\n",
    "        return a / b\n",
    "    #указыаем предполагаемый типо ошибки после except (в данном случае деление на ноль)\n",
    "    except ZeroDivisionError as ex: #можем обратиться к экземпляру ошибки с помощью ex   \n",
    "        print(f'Произошла ошибка {ex}')\n"
   ]
  },
  {
   "cell_type": "code",
   "execution_count": 5,
   "id": "7eb228e8",
   "metadata": {},
   "outputs": [
    {
     "data": {
      "text/plain": [
       "2.0"
      ]
     },
     "execution_count": 5,
     "metadata": {},
     "output_type": "execute_result"
    }
   ],
   "source": [
    "devide(4,2)"
   ]
  },
  {
   "cell_type": "code",
   "execution_count": 6,
   "id": "e78674ce",
   "metadata": {},
   "outputs": [
    {
     "name": "stdout",
     "output_type": "stream",
     "text": [
      "Произошла ошибка division by zero\n"
     ]
    }
   ],
   "source": [
    "devide(4,0)"
   ]
  },
  {
   "cell_type": "code",
   "execution_count": 8,
   "id": "4a4fe7f5",
   "metadata": {},
   "outputs": [],
   "source": [
    "#Здесь пример того, как программа себя поведет без обработчика ошибок.И не выведет результат переменной\n",
    "\n",
    "def divide(a,b):\n",
    "    #try:                #блок, в котором, предположительно, может возникнуть ошибка\n",
    "    result = a / b\n",
    "    print('Результат равен: ')\n",
    "    return result\n",
    "    #указыаем предполагаемый типо ошибки после except (в данном случае деление на ноль)\n",
    "    #except ZeroDivisionError as ex: #можем обратиться к экземпляру ошибки с помощью ex   \n",
    "        #print(f'Произошла ошибка {ex}')"
   ]
  },
  {
   "cell_type": "code",
   "execution_count": 9,
   "id": "a7382389",
   "metadata": {},
   "outputs": [
    {
     "name": "stdout",
     "output_type": "stream",
     "text": [
      "Результат равен: \n"
     ]
    },
    {
     "data": {
      "text/plain": [
       "2.0"
      ]
     },
     "execution_count": 9,
     "metadata": {},
     "output_type": "execute_result"
    }
   ],
   "source": [
    "divide(4,2)"
   ]
  },
  {
   "cell_type": "code",
   "execution_count": 10,
   "id": "de3f821b",
   "metadata": {},
   "outputs": [
    {
     "ename": "ZeroDivisionError",
     "evalue": "division by zero",
     "output_type": "error",
     "traceback": [
      "\u001b[1;31m---------------------------------------------------------------------------\u001b[0m",
      "\u001b[1;31mZeroDivisionError\u001b[0m                         Traceback (most recent call last)",
      "\u001b[1;32m<ipython-input-10-09af7aa96941>\u001b[0m in \u001b[0;36m<module>\u001b[1;34m\u001b[0m\n\u001b[1;32m----> 1\u001b[1;33m \u001b[0mdevide\u001b[0m\u001b[1;33m(\u001b[0m\u001b[1;36m4\u001b[0m\u001b[1;33m,\u001b[0m\u001b[1;36m0\u001b[0m\u001b[1;33m)\u001b[0m\u001b[1;33m\u001b[0m\u001b[1;33m\u001b[0m\u001b[0m\n\u001b[0m",
      "\u001b[1;32m<ipython-input-8-581eb358574d>\u001b[0m in \u001b[0;36mdevide\u001b[1;34m(a, b)\u001b[0m\n\u001b[0;32m      1\u001b[0m \u001b[1;32mdef\u001b[0m \u001b[0mdevide\u001b[0m\u001b[1;33m(\u001b[0m\u001b[0ma\u001b[0m\u001b[1;33m,\u001b[0m\u001b[0mb\u001b[0m\u001b[1;33m)\u001b[0m\u001b[1;33m:\u001b[0m\u001b[1;33m\u001b[0m\u001b[1;33m\u001b[0m\u001b[0m\n\u001b[0;32m      2\u001b[0m     \u001b[1;31m#try:                #блок, в котором, предположительно, может возникнуть ошибка\u001b[0m\u001b[1;33m\u001b[0m\u001b[1;33m\u001b[0m\u001b[1;33m\u001b[0m\u001b[0m\n\u001b[1;32m----> 3\u001b[1;33m     \u001b[0mresult\u001b[0m \u001b[1;33m=\u001b[0m \u001b[0ma\u001b[0m \u001b[1;33m/\u001b[0m \u001b[0mb\u001b[0m\u001b[1;33m\u001b[0m\u001b[1;33m\u001b[0m\u001b[0m\n\u001b[0m\u001b[0;32m      4\u001b[0m     \u001b[0mprint\u001b[0m\u001b[1;33m(\u001b[0m\u001b[1;34m'Результат равен: '\u001b[0m\u001b[1;33m)\u001b[0m\u001b[1;33m\u001b[0m\u001b[1;33m\u001b[0m\u001b[0m\n\u001b[0;32m      5\u001b[0m     \u001b[1;32mreturn\u001b[0m \u001b[0mresult\u001b[0m\u001b[1;33m\u001b[0m\u001b[1;33m\u001b[0m\u001b[0m\n",
      "\u001b[1;31mZeroDivisionError\u001b[0m: division by zero"
     ]
    }
   ],
   "source": [
    "divide(4,0)"
   ]
  },
  {
   "cell_type": "code",
   "execution_count": 22,
   "id": "51ff0033",
   "metadata": {},
   "outputs": [],
   "source": [
    "def divide(a,b):\n",
    "    try:                \n",
    "        return a / b\n",
    "    except ZeroDivisionError as ex: \n",
    "        print(f'Произошла ошибка {ex}')\n",
    "    except:        #except'ов можно надолбить сколько угодно. Но если не знаем, что надо обрабатывать, то она попадет в этот\n",
    "        print('Неизвестная ошибка')"
   ]
  },
  {
   "cell_type": "code",
   "execution_count": 23,
   "id": "a23eddad",
   "metadata": {},
   "outputs": [
    {
     "name": "stdout",
     "output_type": "stream",
     "text": [
      "Введите делитель: 2\n",
      "Неизвестная ошибка\n"
     ]
    }
   ],
   "source": [
    "divider = input('Введите делитель: ')\n",
    "divide(4, divider)"
   ]
  },
  {
   "cell_type": "code",
   "execution_count": 26,
   "id": "01c85bc3",
   "metadata": {},
   "outputs": [
    {
     "name": "stdout",
     "output_type": "stream",
     "text": [
      "Произошла ошибка No such file or directory\n",
      "Finally!\n",
      "Лол, оно работает до сих пор\n"
     ]
    }
   ],
   "source": [
    "file = None\n",
    "try:\n",
    "    file = open(r'C:\\tmp\\keks.txt')\n",
    "    data = file.read()\n",
    "except FileNotFoundError as ex:\n",
    "    print(f'Произошла ошибка {ex.strerror}') #.strerror атрибут, который выводит описание некое\n",
    "else: #если else вставлен между except и finally. Если try отработал норм, то попадем в else \n",
    "    print('Мб еще')  \n",
    "finally:\n",
    "    print('Finally!')\n",
    "    if file:\n",
    "        file.close()\n",
    "        \n",
    "print('Лол, оно работает до сих пор')"
   ]
  },
  {
   "cell_type": "code",
   "execution_count": 28,
   "id": "44a5beb1",
   "metadata": {},
   "outputs": [
    {
     "name": "stdout",
     "output_type": "stream",
     "text": [
      "Введите число: ааа\n",
      "Вы ввели не число! Попробуйте еще раз\n",
      "Введите число: 55\n"
     ]
    }
   ],
   "source": [
    "def get_int():\n",
    "    while True:\n",
    "        try:\n",
    "            reply = int(input('Введите число: '))   #если челик напишет не число, то напишем обработчик\n",
    "            return reply\n",
    "        except:\n",
    "            print('Вы ввели не число! Попробуйте еще раз')\n",
    "            continue\n",
    "            \n",
    "number = get_int()"
   ]
  },
  {
   "cell_type": "code",
   "execution_count": 29,
   "id": "8cb8d97d",
   "metadata": {},
   "outputs": [
    {
     "data": {
      "text/plain": [
       "55"
      ]
     },
     "execution_count": 29,
     "metadata": {},
     "output_type": "execute_result"
    }
   ],
   "source": [
    "number"
   ]
  },
  {
   "cell_type": "code",
   "execution_count": null,
   "id": "b8c39684",
   "metadata": {},
   "outputs": [],
   "source": []
  }
 ],
 "metadata": {
  "kernelspec": {
   "display_name": "Python 3",
   "language": "python",
   "name": "python3"
  },
  "language_info": {
   "codemirror_mode": {
    "name": "ipython",
    "version": 3
   },
   "file_extension": ".py",
   "mimetype": "text/x-python",
   "name": "python",
   "nbconvert_exporter": "python",
   "pygments_lexer": "ipython3",
   "version": "3.8.8"
  }
 },
 "nbformat": 4,
 "nbformat_minor": 5
}
