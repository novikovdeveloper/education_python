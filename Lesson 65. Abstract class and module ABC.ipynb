{
 "cells": [
  {
   "cell_type": "code",
   "execution_count": 1,
   "id": "882ca58d",
   "metadata": {},
   "outputs": [],
   "source": [
    "from abc import ABC                #abstruct basic mathod \n",
    "from abc import abstractmethod\n"
   ]
  },
  {
   "cell_type": "code",
   "execution_count": 19,
   "id": "c07e0f0d",
   "metadata": {},
   "outputs": [],
   "source": [
    "class Shape(ABC):\n",
    "    \n",
    "    def __init__(self):\n",
    "        super().__init__()             #обращение к родителю через super __init__- проинициализировали класс\n",
    "        \n",
    "        \n",
    "    @abstractmethod                    #сделали метод абстрактным, навесив декоратор \n",
    "    def draw(self):\n",
    "        pass\n",
    "        \n",
    "    \n",
    "    @abstractmethod\n",
    "    def area(self):\n",
    "        pass\n",
    "    \n",
    "    \n",
    "    @abstractmethod\n",
    "    def perimeter(self):\n",
    "        print(\"Calc perimiter\")\n",
    "        #pass\n",
    "    \n",
    "     \n",
    "    def drag(self):   #можно не создавать абстрактный метод, наследники смогут воспользоваться его ф-лом\n",
    "        print('Basic grugging functionality')\n",
    "    "
   ]
  },
  {
   "cell_type": "code",
   "execution_count": 20,
   "id": "05a7ceac",
   "metadata": {},
   "outputs": [
    {
     "ename": "TypeError",
     "evalue": "Can't instantiate abstract class Shape with abstract methods area, draw, perimeter",
     "output_type": "error",
     "traceback": [
      "\u001b[1;31m---------------------------------------------------------------------------\u001b[0m",
      "\u001b[1;31mTypeError\u001b[0m                                 Traceback (most recent call last)",
      "\u001b[1;32m<ipython-input-20-30f0ac4460d9>\u001b[0m in \u001b[0;36m<module>\u001b[1;34m\u001b[0m\n\u001b[1;32m----> 1\u001b[1;33m \u001b[0ms\u001b[0m \u001b[1;33m=\u001b[0m \u001b[0mShape\u001b[0m\u001b[1;33m(\u001b[0m\u001b[1;33m)\u001b[0m     \u001b[1;31m#не сможем создать инстанцию класса\u001b[0m\u001b[1;33m\u001b[0m\u001b[1;33m\u001b[0m\u001b[0m\n\u001b[0m",
      "\u001b[1;31mTypeError\u001b[0m: Can't instantiate abstract class Shape with abstract methods area, draw, perimeter"
     ]
    }
   ],
   "source": [
    "s = Shape()     #не сможем создать инстанцию класса "
   ]
  },
  {
   "cell_type": "code",
   "execution_count": 21,
   "id": "899d2151",
   "metadata": {},
   "outputs": [],
   "source": [
    "import math\n",
    "\n",
    "class Triangle(Shape):\n",
    "    \n",
    "    def __init__(self,a,b,c ):\n",
    "        self.a = a\n",
    "        self.b = b\n",
    "        self.c = c\n",
    "        \n",
    "        \n",
    "    def draw(self):\n",
    "        print(f\"Drawing triangle with sides = {self.a}, {self.b}, {self.c}\")\n",
    "        \n",
    "    def area(self):\n",
    "        s = (self.a + self.b + self.c)/2\n",
    "        return math.sqrt(s * (s-self.a) * (s-self.b) * (s-self.c)) \n",
    "    \n",
    "    def perimeter(self):\n",
    "        return   self.a + self.b + self.c \n",
    "    \n",
    "    def drag(self):\n",
    "        super().drag()\n",
    "        print('Adittional actions')\n",
    "        "
   ]
  },
  {
   "cell_type": "code",
   "execution_count": 22,
   "id": "a51adb2a",
   "metadata": {},
   "outputs": [],
   "source": [
    "#не сможем создать инстанцию класса, который наследуется от абстрактного класс\n",
    "t = Triangle(10,10,10)"
   ]
  },
  {
   "cell_type": "code",
   "execution_count": 23,
   "id": "cda1a892",
   "metadata": {},
   "outputs": [
    {
     "data": {
      "text/plain": [
       "30"
      ]
     },
     "execution_count": 23,
     "metadata": {},
     "output_type": "execute_result"
    }
   ],
   "source": [
    "t.perimeter()"
   ]
  },
  {
   "cell_type": "code",
   "execution_count": 25,
   "id": "8ac5390c",
   "metadata": {},
   "outputs": [
    {
     "name": "stdout",
     "output_type": "stream",
     "text": [
      "Basic grugging functionality\n",
      "Adittional actions\n"
     ]
    }
   ],
   "source": [
    "t.drag()"
   ]
  },
  {
   "cell_type": "code",
   "execution_count": null,
   "id": "ad174a86",
   "metadata": {},
   "outputs": [],
   "source": []
  }
 ],
 "metadata": {
  "kernelspec": {
   "display_name": "Python 3",
   "language": "python",
   "name": "python3"
  },
  "language_info": {
   "codemirror_mode": {
    "name": "ipython",
    "version": 3
   },
   "file_extension": ".py",
   "mimetype": "text/x-python",
   "name": "python",
   "nbconvert_exporter": "python",
   "pygments_lexer": "ipython3",
   "version": "3.8.8"
  }
 },
 "nbformat": 4,
 "nbformat_minor": 5
}
