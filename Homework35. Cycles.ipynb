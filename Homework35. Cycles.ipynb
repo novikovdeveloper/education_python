{
 "cells": [
  {
   "cell_type": "code",
   "execution_count": 1,
   "id": "57b66c00",
   "metadata": {},
   "outputs": [
    {
     "name": "stdout",
     "output_type": "stream",
     "text": [
      "Введите число 3\n",
      "0 is even\n",
      "2 is even\n",
      "3 is odd\n"
     ]
    }
   ],
   "source": [
    "limit = int(input('Введите число '))\n",
    "\n",
    "for x in range(limit + 1):\n",
    "     if x % 2 == 0:\n",
    "        print(f'{x} is even')\n",
    "else:\n",
    "        print(f'{x} is odd')"
   ]
  },
  {
   "cell_type": "code",
   "execution_count": null,
   "id": "b2a5b775",
   "metadata": {},
   "outputs": [],
   "source": [
    "\n"
   ]
  },
  {
   "cell_type": "code",
   "execution_count": null,
   "id": "3ec61c4a",
   "metadata": {},
   "outputs": [],
   "source": []
  },
  {
   "cell_type": "code",
   "execution_count": 2,
   "id": "e1f28323",
   "metadata": {},
   "outputs": [
    {
     "name": "stdout",
     "output_type": "stream",
     "text": [
      "Введите кол-во строк7\n",
      "*\n",
      "**\n",
      "***\n",
      "****\n",
      "*****\n",
      "******\n",
      "*******\n"
     ]
    }
   ],
   "source": [
    "rows = int(input(\"Введите кол-во строк\"))\n",
    "for x in range(rows):\n",
    "    print('*' *(x+1))"
   ]
  },
  {
   "cell_type": "code",
   "execution_count": null,
   "id": "fee8ef31",
   "metadata": {},
   "outputs": [],
   "source": [
    "\n"
   ]
  },
  {
   "cell_type": "code",
   "execution_count": 3,
   "id": "c38ce2a2",
   "metadata": {},
   "outputs": [
    {
     "name": "stdout",
     "output_type": "stream",
     "text": [
      "0\n",
      "0\n",
      "3\n",
      "5\n",
      "6\n",
      "9\n",
      "10\n"
     ]
    }
   ],
   "source": [
    "for i in range(0,11):\n",
    "    if i %  3 ==0:\n",
    "        print(i)\n",
    "    if i % 5 ==0:\n",
    "        print(i)"
   ]
  },
  {
   "cell_type": "code",
   "execution_count": null,
   "id": "0cdef98b",
   "metadata": {},
   "outputs": [],
   "source": []
  },
  {
   "cell_type": "code",
   "execution_count": 4,
   "id": "f3d48120",
   "metadata": {},
   "outputs": [
    {
     "data": {
      "text/plain": [
       "33"
      ]
     },
     "execution_count": 4,
     "metadata": {},
     "output_type": "execute_result"
    }
   ],
   "source": [
    "sum(x for x in range(0,11) if x % 3 ==0 or x % 5 == 0 )"
   ]
  },
  {
   "cell_type": "code",
   "execution_count": null,
   "id": "feffb8d4",
   "metadata": {},
   "outputs": [],
   "source": []
  },
  {
   "cell_type": "code",
   "execution_count": null,
   "id": "3d3eaa1b",
   "metadata": {},
   "outputs": [],
   "source": [
    "first_lst = int(input('Введите длину списка '))\n",
    "second_lst = int(input('Введите длину списка '))\n",
    "\n",
    "nechet = [i for i in range(8,first_lst) if i %2 ==1]\n",
    "chet = [x for x in range(0,second_lst) if x %2 ==0]\n",
    "joined_list = nechet + chet\n",
    "joined_list"
   ]
  },
  {
   "cell_type": "code",
   "execution_count": null,
   "id": "26b8effe",
   "metadata": {},
   "outputs": [],
   "source": []
  }
 ],
 "metadata": {
  "kernelspec": {
   "display_name": "Python 3",
   "language": "python",
   "name": "python3"
  },
  "language_info": {
   "codemirror_mode": {
    "name": "ipython",
    "version": 3
   },
   "file_extension": ".py",
   "mimetype": "text/x-python",
   "name": "python",
   "nbconvert_exporter": "python",
   "pygments_lexer": "ipython3",
   "version": "3.8.8"
  }
 },
 "nbformat": 4,
 "nbformat_minor": 5
}
